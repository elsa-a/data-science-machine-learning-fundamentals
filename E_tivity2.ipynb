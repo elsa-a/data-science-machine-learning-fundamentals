{
  "cells": [
    {
      "cell_type": "markdown",
      "metadata": {
        "id": "5_q0s_kQ1gMw"
      },
      "source": [
        "## Student name: Elsa"
      ]
    },
    {
      "cell_type": "markdown",
      "metadata": {
        "id": "pZq32KMX1gMx"
      },
      "source": [
        "## Student ID: 21272808\n"
      ]
    },
    {
      "cell_type": "code",
      "execution_count": 2,
      "metadata": {
        "id": "wlAiyDiG1gMy"
      },
      "outputs": [],
      "source": [
        "import matplotlib.pyplot as plt\n",
        "import numpy as np\n",
        "import random\n",
        "import math\n",
        "from sklearn.model_selection import train_test_split\n",
        "from sklearn.datasets import make_circles\n",
        "import matplotlib.pyplot as plt\n",
        "from sklearn import linear_model\n",
        "from sklearn.linear_model import LassoCV\n",
        "from sklearn.linear_model import RidgeCV\n",
        "from sklearn.linear_model import Lasso\n",
        "from sklearn.linear_model import Ridge\n",
        "from sklearn.linear_model import LinearRegression, LogisticRegression\n",
        "from sklearn.model_selection import KFold\n",
        "from sklearn.model_selection import LeaveOneOut"
      ]
    },
    {
      "cell_type": "markdown",
      "metadata": {
        "id": "zgl3X5rF1gMz"
      },
      "source": [
        "These functions are provided to assist you in Task 1a"
      ]
    },
    {
      "cell_type": "code",
      "execution_count": 3,
      "metadata": {
        "id": "a0p9EsC01gMz"
      },
      "outputs": [],
      "source": [
        "def point_on_boundary(weights, x):\n",
        "    \"\"\" Return the y-position on the boundary based on given x-position.  \"\"\"\n",
        "    return -(weights[0]+weights[1]*x)/weights[2]"
      ]
    },
    {
      "cell_type": "code",
      "execution_count": 4,
      "metadata": {
        "id": "WRpwKa2e1gM0"
      },
      "outputs": [],
      "source": [
        "def decision_boundary(weights, x_min, x_max):\n",
        "    \"\"\" Return two points on the decision boundary: one at x_min and one at x_max \"\"\"\n",
        "    return [pointOnBoundary(x_min), pointOnBoundary(x_max)]"
      ]
    },
    {
      "cell_type": "code",
      "execution_count": 5,
      "metadata": {
        "id": "QjWoOjTw1gM0"
      },
      "outputs": [],
      "source": [
        "#Also useful in Task 2!\n",
        "def transPoly(X, power):\n",
        "    # Extend the data in X with a bias (1) and powers of the feature up to 'power'\n",
        "    ones = np.ones((X.shape[0],1))\n",
        "    extra=[]\n",
        "    for x in X:\n",
        "        row=[]\n",
        "        for p in range(2,power+1):\n",
        "            row.append(x**p)\n",
        "        extra.append(row)\n",
        "    return np.concatenate((ones, X.reshape(len(X),1),np.array(extra)),1)"
      ]
    },
    {
      "cell_type": "markdown",
      "metadata": {
        "id": "v7UzJm8_1gM1"
      },
      "source": [
        "# Task 1a"
      ]
    },
    {
      "cell_type": "code",
      "execution_count": 5,
      "metadata": {
        "id": "IqMScFQE1gM1"
      },
      "outputs": [],
      "source": [
        ""
      ]
    },
    {
      "cell_type": "markdown",
      "metadata": {
        "id": "thRTHSfD1gM2"
      },
      "source": [
        "## Reflection"
      ]
    },
    {
      "cell_type": "markdown",
      "metadata": {
        "id": "bT1w_vvj1gM3"
      },
      "source": [
        "After engaging with your peers, reflect on this task and answer the following questions: \n",
        "- How do the found values for Ein and Eout for the various models relate to model complexity?\n",
        "- Explain how data transformations can lead to linear separability of a dataset."
      ]
    },
    {
      "cell_type": "markdown",
      "metadata": {
        "id": "a_9SdwAk1gM3"
      },
      "source": [
        ""
      ]
    },
    {
      "cell_type": "markdown",
      "metadata": {
        "id": "o3lB-kxr1gM3"
      },
      "source": [
        "# Task 1b"
      ]
    },
    {
      "cell_type": "code",
      "execution_count": 6,
      "metadata": {
        "id": "COFCpHOF1gM3"
      },
      "outputs": [],
      "source": [
        "def weights(X,y):\n",
        "    # Calculation of weights using pseudo-inverse. Note that X needs to contain the bias of 1\n",
        "    return np.linalg.inv((X.T.dot(X))).dot(X.T).dot(y)"
      ]
    },
    {
      "cell_type": "code",
      "execution_count": 7,
      "metadata": {
        "id": "k8JT3Tlb1gM4"
      },
      "outputs": [],
      "source": [
        "def lin_reg(w,X):\n",
        "    # Calculation of outputs given weights and data (X). Note that X needs to contain the bias of 1. \n",
        "    out=[]\n",
        "    for x in X:\n",
        "        out.append(w.T.dot(x))\n",
        "    return np.array(out)"
      ]
    },
    {
      "cell_type": "code",
      "execution_count": 8,
      "metadata": {
        "id": "vAWuhBHC1gM4"
      },
      "outputs": [],
      "source": [
        "def calc_error(w,X,y):\n",
        "    # Calculate the error as the mean squared error\n",
        "    pred = lin_reg(w,X)\n",
        "    return (pred-np.array(y)).dot(pred-np.array(y))/len(X)"
      ]
    },
    {
      "cell_type": "markdown",
      "metadata": {
        "id": "ORugXIJT1gM5"
      },
      "source": [
        "### 1. Splitting dataset\n",
        "\n",
        "Split the dataset provided in Et2_Regression_Data.csv into a training and a test set (decide on a suitable ratio)."
      ]
    },
    {
      "cell_type": "code",
      "execution_count": 9,
      "metadata": {
        "scrolled": true,
        "colab": {
          "base_uri": "https://localhost:8080/"
        },
        "id": "eVC3Qmer1gM5",
        "outputId": "f1c76da1-3765-4a2b-a404-169fa898e6cc"
      },
      "outputs": [
        {
          "output_type": "execute_result",
          "data": {
            "text/plain": [
              "array([[0.95959596, 0.36680382],\n",
              "       [0.49494949, 1.18282425],\n",
              "       [0.6969697 , 1.14920315],\n",
              "       [0.72727273, 0.94718532],\n",
              "       [0.19191919, 0.41261329]])"
            ]
          },
          "metadata": {},
          "execution_count": 9
        }
      ],
      "source": [
        "#importing dataset from csv\n",
        "dataset = np.genfromtxt('ET2_Regression_Data.csv', delimiter=',')\n",
        "dataset[:5]"
      ]
    },
    {
      "cell_type": "code",
      "execution_count": 10,
      "metadata": {
        "colab": {
          "base_uri": "https://localhost:8080/",
          "height": 295
        },
        "id": "SMhxrtAj1gM6",
        "outputId": "66fd8513-7567-4342-fad6-490110bc2d14"
      },
      "outputs": [
        {
          "output_type": "display_data",
          "data": {
            "image/png": "[encoded data removed]",
            "text/plain": [
              "<Figure size 432x288 with 1 Axes>"
            ]
          },
          "metadata": {
            "needs_background": "light"
          }
        }
      ],
      "source": [
        "#preview of data\n",
        "plt.scatter(dataset[:,0], dataset[:,1])\n",
        "plt.xlabel(\"x\")\n",
        "plt.ylabel(\"y\")\n",
        "plt.title(\"Raw data scattered\")\n",
        "plt.show()"
      ]
    },
    {
      "cell_type": "code",
      "execution_count": 11,
      "metadata": {
        "id": "7IwCQWG_1gM7"
      },
      "outputs": [],
      "source": [
        "X = dataset[:,0]\n",
        "y = dataset[:,1]"
      ]
    },
    {
      "cell_type": "code",
      "execution_count": 11,
      "metadata": {
        "id": "dtpG6DgI1gM7"
      },
      "outputs": [],
      "source": [
        ""
      ]
    },
    {
      "cell_type": "code",
      "execution_count": 12,
      "metadata": {
        "id": "f3IvknGJ1gM7"
      },
      "outputs": [],
      "source": [
        "ones = np.ones(len(X))\n",
        "X = np.column_stack((ones,X))\n",
        "#X= np.vstack((ones,X))"
      ]
    },
    {
      "cell_type": "code",
      "execution_count": 13,
      "metadata": {
        "id": "ppmci6ZD1gM7"
      },
      "outputs": [],
      "source": [
        "X_train, X_test, y_train, y_test = train_test_split(X, y, test_size=0.2, random_state=42)"
      ]
    },
    {
      "cell_type": "markdown",
      "metadata": {
        "id": "7xOavor_1gM8"
      },
      "source": [
        "### 2. Fit data using linear regression\n",
        "Use the provided linear regression algorithm to obtain the best possible fit to the training data set . "
      ]
    },
    {
      "cell_type": "code",
      "execution_count": 14,
      "metadata": {
        "colab": {
          "base_uri": "https://localhost:8080/"
        },
        "id": "iBCe0QUv1gM8",
        "outputId": "fd0a9da3-65a1-4c8f-9786-450a9eb5eac5"
      },
      "outputs": [
        {
          "output_type": "execute_result",
          "data": {
            "text/plain": [
              "array([0.61963053, 0.40222504])"
            ]
          },
          "metadata": {},
          "execution_count": 14
        }
      ],
      "source": [
        "#get weights \n",
        "w = weights(X_train,y_train)\n",
        "w"
      ]
    },
    {
      "cell_type": "code",
      "execution_count": 15,
      "metadata": {
        "colab": {
          "base_uri": "https://localhost:8080/"
        },
        "id": "PI_bLCAN1gM8",
        "outputId": "a29787b2-28de-4b83-bc18-44805a3f527e"
      },
      "outputs": [
        {
          "output_type": "execute_result",
          "data": {
            "text/plain": [
              "array([0.65619644, 1.00966692, 0.79433433, 1.01779268, 1.00154117])"
            ]
          },
          "metadata": {},
          "execution_count": 15
        }
      ],
      "source": [
        "lr = lin_reg(w,X_train)\n",
        "lr[:5]"
      ]
    },
    {
      "cell_type": "code",
      "execution_count": 16,
      "metadata": {
        "id": "5xTm_u0F1gM9"
      },
      "outputs": [],
      "source": [
        "lr_line = w[1]*X_train+ w[0]"
      ]
    },
    {
      "cell_type": "code",
      "execution_count": 17,
      "metadata": {
        "colab": {
          "base_uri": "https://localhost:8080/",
          "height": 295
        },
        "id": "ms1mADFT1gM9",
        "outputId": "3fcd9001-1f06-4e1d-84bc-a44a6be6ad2d"
      },
      "outputs": [
        {
          "output_type": "display_data",
          "data": {
            "image/png": "[encoded data removed]",
            "text/plain": [
              "<Figure size 432x288 with 1 Axes>"
            ]
          },
          "metadata": {
            "needs_background": "light"
          }
        }
      ],
      "source": [
        "plt.scatter(X_train[:,1], y_train, label='Training data')\n",
        "\n",
        "plt.xlabel(\"x\")\n",
        "plt.ylabel(\"y\")\n",
        "plt.title(\"Line fitted to training data\")\n",
        "plt.legend()\n",
        "plt.plot(X_train, lr_line, c='c', label='Approximation')\n",
        "plt.show()\n"
      ]
    },
    {
      "cell_type": "markdown",
      "metadata": {
        "id": "2UcJHJn61gM-"
      },
      "source": [
        "### 3. Feature transformations\n",
        "\n",
        "With the knowledge that the data source is a noisy polynomial with the highest order no lower than 5 and no higher than 10, use a structured approach to try different feature transformations. \n",
        "\n",
        "Record the performance on training data and on test data.\n",
        "\n"
      ]
    },
    {
      "cell_type": "code",
      "execution_count": 18,
      "metadata": {
        "id": "fhQfveOo1gM-"
      },
      "outputs": [],
      "source": [
        "X = dataset[:,0]\n",
        "y = dataset[:,1]"
      ]
    },
    {
      "cell_type": "code",
      "execution_count": 19,
      "metadata": {
        "id": "Gufp3KBn1gM-"
      },
      "outputs": [],
      "source": [
        "error_in = []\n",
        "error_out = []\n",
        "repeats = 100\n",
        "power_range = range(1, 10) # it is up to you to decide on a suitable range\n",
        "\n",
        "for power in power_range: \n",
        "    e_in=0\n",
        "    e_out=0\n",
        "    \n",
        "    best=1\n",
        "    counter=0\n",
        "    best_weight_index=0\n",
        "        \n",
        "    for r in range(repeats):\n",
        "        X_train, X_test, y_train, y_test = train_test_split(X, y, train_size=0.7, test_size=3, random_state =99) ##Choose a suitable training_size XX\n",
        "        X_train_trans = transPoly(X_train, power) ## implement your data transformation \n",
        "        X_test_trans = transPoly(X_test, power) ## implement your data transformation \n",
        "        w = weights(X_train_trans,y_train)\n",
        "        e_in += calc_error(w,X_train_trans,y_train)\n",
        "        e_out+= calc_error(w,X_test_trans,y_test)\n",
        "        \n",
        "        counter=counter+1\n",
        "        if e_out <best:\n",
        "            best = e_out\n",
        "            best_weight_index=counter\n",
        "            best_weights = w\n",
        "            best_train_trans = X_train_trans\n",
        "            best_train = X_train\n",
        "            best_test = X_test_trans\n",
        "            best_ytrain=y_train\n",
        "    \n",
        "    error_in.append(e_in/repeats)\n",
        "    error_out.append(e_out/repeats)"
      ]
    },
    {
      "cell_type": "code",
      "execution_count": 19,
      "metadata": {
        "id": "kD3SSk0E1gM_"
      },
      "outputs": [],
      "source": [
        ""
      ]
    },
    {
      "cell_type": "code",
      "execution_count": 20,
      "metadata": {
        "colab": {
          "base_uri": "https://localhost:8080/",
          "height": 281
        },
        "id": "Hl_R9IPT1gM_",
        "outputId": "aca178aa-3822-4782-e8cf-2db9e682c9be"
      },
      "outputs": [
        {
          "output_type": "display_data",
          "data": {
            "image/png": "[encoded data removed]",
            "text/plain": [
              "<Figure size 432x288 with 1 Axes>"
            ]
          },
          "metadata": {
            "needs_background": "light"
          }
        }
      ],
      "source": [
        "plt.plot(np.arange(1,10), error_in, c = 'b', label=\"In-sample error\")\n",
        "plt.plot(np.arange(1,10), error_out, c = 'c', label=\"Out-of-sample error\")\n",
        "plt.legend()\n",
        "plt.title(\"Variation of Ein and Eout\")\n",
        "\n",
        "plt.show()"
      ]
    },
    {
      "cell_type": "code",
      "execution_count": 20,
      "metadata": {
        "id": "BBs-miyj1gM_"
      },
      "outputs": [],
      "source": [
        ""
      ]
    },
    {
      "cell_type": "code",
      "execution_count": 20,
      "metadata": {
        "id": "-xrMjk2C1gM_"
      },
      "outputs": [],
      "source": [
        "\n"
      ]
    },
    {
      "cell_type": "markdown",
      "metadata": {
        "id": "4zJm0icp1gM_"
      },
      "source": [
        "Use the results to decide on the data transformation that yields the best results.\n"
      ]
    },
    {
      "cell_type": "code",
      "execution_count": 21,
      "metadata": {
        "id": "RzypQFfe1gNA"
      },
      "outputs": [],
      "source": [
        "X_train_final = transPoly(X_train, 2) ## implement your data transformation \n",
        "X_test_final = transPoly(X_test, 2) ## implement your data transformation "
      ]
    },
    {
      "cell_type": "code",
      "execution_count": 21,
      "metadata": {
        "scrolled": true,
        "id": "0WWwc9lH1gNA"
      },
      "outputs": [],
      "source": [
        ""
      ]
    },
    {
      "cell_type": "code",
      "execution_count": 21,
      "metadata": {
        "id": "Mvmrfacf1gNA"
      },
      "outputs": [],
      "source": [
        ""
      ]
    },
    {
      "cell_type": "code",
      "execution_count": 22,
      "metadata": {
        "colab": {
          "base_uri": "https://localhost:8080/",
          "height": 279
        },
        "id": "ne5j0Srq1gNA",
        "outputId": "3debea44-57dc-4720-8d03-68f1d9085a20"
      },
      "outputs": [
        {
          "output_type": "display_data",
          "data": {
            "image/png": "[encoded data removed]",
            "text/plain": [
              "<Figure size 432x288 with 1 Axes>"
            ]
          },
          "metadata": {
            "needs_background": "light"
          }
        }
      ],
      "source": [
        "#kevin \n",
        "def weights_reg(X,y,l):\n",
        "    n = len(X)\n",
        "    m=X.T.dot(X)\n",
        "    return np.linalg.inv(m+l*np.identity(m.shape[0])).dot(X.T).dot(y)\n",
        "\n",
        "ein=[]\n",
        "eout=[]\n",
        "weights=[]\n",
        "lambdas = np.arange(0, 1, 0.001)# choose a suitable range of lambdas here\n",
        "X_trans = transPoly(X,50)\n",
        "\n",
        "# random_state fixed to get reproducible (and 'good'! :-)) results\n",
        "X_train, X_test, y_train, y_test = train_test_split(X_trans, y, train_size=0.5, test_size=0.3, random_state =5)\n",
        "best_lambda=1\n",
        "counter=0\n",
        "best_weight_index=0\n",
        "for l in lambdas:    \n",
        "    w = weights_reg(X_train,y_train,l)\n",
        "    ein.append(calc_error(w,X_train,y_train))\n",
        "    eout.append(calc_error(w,X_test,y_test))\n",
        "    weights.append(w)\n",
        "    counter=counter+1\n",
        "    if l <best_lambda:\n",
        "        best_lambda = l\n",
        "        best_weight_index=counter\n",
        "        \n",
        "        \n",
        "    \n",
        "    \n",
        "plt.plot(lambdas,eout)\n",
        "plt.xlabel(\"Lambda\")\n",
        "plt.ylabel(\"Eout\")\n",
        "plt.show()\n"
      ]
    },
    {
      "cell_type": "code",
      "execution_count": 23,
      "metadata": {
        "colab": {
          "base_uri": "https://localhost:8080/"
        },
        "id": "_mFoSQQq1gNB",
        "outputId": "1998693c-b717-4746-e5c5-42a9845979af"
      },
      "outputs": [
        {
          "output_type": "stream",
          "name": "stdout",
          "text": [
            "Optimal value of lambda = 0.001\n",
            "Eout with optimal lambda =  0.027458150488710302\n",
            "Eout without regularization =  0.26813129181162326\n"
          ]
        }
      ],
      "source": [
        "# Find index and value of best lambda (minimum E_out value)\n",
        "best_lambda_index = eout.index(min(eout))\n",
        "best_lambda = lambdas[best_lambda_index]\n",
        "print(\"Optimal value of lambda =\", best_lambda)\n",
        "\n",
        "# Compare E_out with optimal lambda vs without regularization\n",
        "print(\"Eout with optimal lambda = \", eout[best_lambda_index])\n",
        "print(\"Eout without regularization = \", eout[0])"
      ]
    },
    {
      "cell_type": "code",
      "execution_count": 24,
      "metadata": {
        "colab": {
          "base_uri": "https://localhost:8080/",
          "height": 269
        },
        "id": "QhtR17CZ1gNB",
        "outputId": "b9a7160a-73c7-4b94-9f00-78e1c0aff45f"
      },
      "outputs": [
        {
          "output_type": "display_data",
          "data": {
            "image/png": "[encoded data removed]",
            "text/plain": [
              "<Figure size 432x288 with 1 Axes>"
            ]
          },
          "metadata": {
            "needs_background": "light"
          }
        }
      ],
      "source": [
        " # Graph dataset as scatter plot\n",
        "plt.scatter(X, y)\n",
        "# Add overfit model\n",
        "plt.plot(np.arange(0, 1.1, 0.001), lin_reg(weights[0], transPoly(np.arange(0, 1.1, 0.001), 50)), c='red', label = \"Overfit (Lambda = 0)\")\n",
        "# Add optimal model\n",
        "plt.plot(np.arange(0, 1.1, 0.001), lin_reg(weights[best_lambda_index], transPoly(np.arange(0, 1.1, 0.001), 50)), c='green', label = \"Optimal (Lambda = 0.022)\")\n",
        "# Add underfit model\n",
        "plt.plot(np.arange(0, 1.1, 0.001), lin_reg(weights[-1], transPoly(np.arange(0, 1.1, 0.001), 50)), c='orange', label = \"Underfit (Lambda = 1)\")\n",
        "# Limit y-axis for clarity and add legend\n",
        "plt.ylim([-.5, 1.5])\n",
        "plt.legend()\n",
        "plt.show()"
      ]
    },
    {
      "cell_type": "code",
      "execution_count": 24,
      "metadata": {
        "id": "OzV1HutJ1gNB"
      },
      "outputs": [],
      "source": [
        ""
      ]
    },
    {
      "cell_type": "markdown",
      "metadata": {
        "id": "ysX3w7FS1gNB"
      },
      "source": [
        "To prevent results due to luck, it is useful to repeat your experiments a good few times and look at average results. The below code snippet may be useful in this regard."
      ]
    },
    {
      "cell_type": "markdown",
      "metadata": {
        "id": "5hK23Dr01gNC"
      },
      "source": [
        "## Reflection"
      ]
    },
    {
      "cell_type": "markdown",
      "metadata": {
        "id": "IW-6WDCv1gNC"
      },
      "source": [
        "### Answer the following questions:\n",
        "* **How does the plot of Ein and Eout versus highest polynomial power relate to model complexity?**\n",
        "<span style=\"color:blue\">\n",
        "    \n",
        "    The non-linear transformation improves in sample performance, but at the expense of requiring more data to ensure the same generalization performance.\n",
        "  </span>\n",
        "   \n",
        "   \n",
        "* **How can the choice of transformation that yielded the best results be explained in terms of sample complexity?** \n",
        "<span style=\"color:blue\">\n",
        "\n",
        "    The curve of datapoints that we are trying to fit is quadratic in nature, with the addition of noise, this is why x^2 is the transformation that best approximates it.\n",
        "   \n",
        "</span>"
      ]
    },
    {
      "cell_type": "markdown",
      "metadata": {
        "id": "3m6vdgv_1gNC"
      },
      "source": [
        "# Task 2"
      ]
    },
    {
      "cell_type": "markdown",
      "metadata": {
        "id": "FmtpAmgf1gNC"
      },
      "source": [
        "Below is an implementation of linear regression with regularization"
      ]
    },
    {
      "cell_type": "code",
      "execution_count": 25,
      "metadata": {
        "id": "uoJGyksl1gNC"
      },
      "outputs": [],
      "source": [
        "def weights_reg(X,y,l):\n",
        "    n = len(X)\n",
        "    m=X.T.dot(X)\n",
        "    return np.linalg.inv(m+l*np.identity(m.shape[0])).dot(X.T).dot(y)"
      ]
    },
    {
      "cell_type": "markdown",
      "metadata": {
        "id": "dbXvWqmW1gND"
      },
      "source": [
        "* Use the provide function transPoly to obtain a weight vector of the original feature raised up to the power of 50\n",
        "* Use the provided weights_reg function to perform linear regression on the data. \n",
        "* Using the provided code snippet, find the optimum regularization parameter, l. In order to do so, you will need to decide on a suitable list of l values. Pick at most 1000 values! Once you have found the optimal l, compare the Eout obtained with this l with the Eout obtained without regularization. You should see an impressive improvement!\n",
        "\n"
      ]
    },
    {
      "cell_type": "code",
      "execution_count": 26,
      "metadata": {
        "id": "nr3RiP__1gND"
      },
      "outputs": [],
      "source": [
        "data = np.loadtxt(\"ET2_Regression_Data.csv\", delimiter=\",\")\n",
        "X = dataset[:,0]\n",
        "y = dataset[:,1]"
      ]
    },
    {
      "cell_type": "markdown",
      "metadata": {
        "id": "waea0hHv1gND"
      },
      "source": [
        "This code snippet may be useful to keep track of Ein, Eout and the corresponding weights for various regulariser parameters"
      ]
    },
    {
      "cell_type": "code",
      "execution_count": 27,
      "metadata": {
        "colab": {
          "base_uri": "https://localhost:8080/",
          "height": 295
        },
        "id": "Wy4oalrl1gND",
        "outputId": "e0f043ce-2c0f-489d-a6a7-1c9c4302fe47"
      },
      "outputs": [
        {
          "output_type": "display_data",
          "data": {
            "image/png": "[encoded data removed]",
            "text/plain": [
              "<Figure size 432x288 with 1 Axes>"
            ]
          },
          "metadata": {
            "needs_background": "light"
          }
        }
      ],
      "source": [
        "ein=[]\n",
        "eout=[]\n",
        "weights=[]\n",
        "lambdas = np.arange(0,10, 0.001) # choose a suitable range of lambdas here\n",
        "X_trans = transPoly(X,50)\n",
        "\n",
        "best_weight=0\n",
        "best_l=0\n",
        "min_e =1\n",
        "# random_state fixed to get reproducible (and 'good'! :-)) results\n",
        "X_train, X_test, y_train, y_test = train_test_split(X_trans, y, train_size=0.5, test_size=0.5, random_state =5)\n",
        "for l in lambdas:    \n",
        "    w = weights_reg(X_train,y_train,l)\n",
        "    ein.append(calc_error(w,X_train,y_train))\n",
        "    eout.append(calc_error(w,X_test,y_test))\n",
        "    weights.append(w)\n",
        "    if calc_error(w,X_test,y_test) < min_e:\n",
        "        best_l=l\n",
        "        best_weight=w\n",
        "    \n",
        "    \n",
        "plt.plot(lambdas,eout)\n",
        "\n",
        "plt.xlabel(\"lambda\")\n",
        "plt.ylabel(\"Error out of sample\")\n",
        "plt.title(\"Model performance vs lambda on the domain [0,1]\")\n",
        "\n",
        "plt.ylim([0, 0.1])\n",
        "\n",
        "plt.show()"
      ]
    },
    {
      "cell_type": "markdown",
      "metadata": {
        "id": "jWwaLOOK1gNE"
      },
      "source": [
        "\n",
        "Provide the following plots:\n",
        "* A plot showing model performance vs l on the domain [0,1]\n",
        "* A plot with three sub-plots containing an overfitted model, a model with the optimal l, and an underfitted model. \n",
        "\n",
        "In each plot, you should plot the target function in addition to the final hypothesis. Choose values for l that clearly demonstrate over- and underfitting."
      ]
    },
    {
      "cell_type": "code",
      "execution_count": 28,
      "metadata": {
        "colab": {
          "base_uri": "https://localhost:8080/",
          "height": 265
        },
        "id": "UpX9t-tX1gNE",
        "outputId": "62780957-b84b-4e17-cde2-49a0db7cd563"
      },
      "outputs": [
        {
          "output_type": "display_data",
          "data": {
            "image/png": "[encoded data removed]",
            "text/plain": [
              "<Figure size 432x288 with 1 Axes>"
            ]
          },
          "metadata": {
            "needs_background": "light"
          }
        }
      ],
      "source": [
        "X_plot =np.linspace(0, 1, num=1000)\n",
        "plt.scatter(X_test[:,1], y_test, label='Training data')\n",
        " \n",
        "best_y=lin_reg(best_weight,transPoly(X_plot, 50)) #c\n",
        "\n",
        "overfit_y=lin_reg(weights[0],transPoly(X_plot, 50)) #r\n",
        "\n",
        "underfit_y =lin_reg(weights[199],transPoly(X_plot, 50)) #y\n",
        "\n",
        "\n",
        "plt.plot(X_plot, best_y, color='c', label=\"optimal lambda\")\n",
        "\n",
        "plt.plot(X_plot, overfit_y, color='r',  label=\"overfit\")\n",
        "\n",
        "plt.plot(X_plot, underfit_y, color='y', label=\"underfit\")\n",
        "\n",
        "plt.legend()\n",
        "plt.ylim([0, 1.5])\n",
        "\n",
        "\n",
        "plt.show()"
      ]
    },
    {
      "cell_type": "code",
      "execution_count": 29,
      "metadata": {
        "colab": {
          "base_uri": "https://localhost:8080/",
          "height": 295
        },
        "id": "4ZG5GiWs1gNE",
        "outputId": "32e2ee14-4c84-4b46-e6df-7dd36cf84cca"
      },
      "outputs": [
        {
          "output_type": "display_data",
          "data": {
            "image/png": "[encoded data removed]",
            "text/plain": [
              "<Figure size 432x288 with 1 Axes>"
            ]
          },
          "metadata": {
            "needs_background": "light"
          }
        }
      ],
      "source": [
        "ein=[]\n",
        "eout=[]\n",
        "weights=[]\n",
        "lambdas = np.arange(0.0001, 1, 0.001) # choose a suitable range of lambdas here\n",
        "X_trans = transPoly(X,50)\n",
        "\n",
        "# random_state fixed to get reproducible (and 'good'! :-)) results\n",
        "X_train, X_test, y_train, y_test = train_test_split(X_trans, y, train_size=0.5, random_state =5)\n",
        "for l in lambdas:    \n",
        "    w = weights_reg(X_train,y_train,l)\n",
        "    ein.append(calc_error(w,X_train,y_train))\n",
        "    eout.append(calc_error(w,X_test,y_test))\n",
        "    weights.append(w)\n",
        "    \n",
        "    \n",
        "plt.plot(lambdas,eout)\n",
        "plt.xlabel(\"lambda\")\n",
        "plt.ylabel(\"Error\")\n",
        "plt.title(\"Model performance vs lambda on the domain [0,1]\")\n",
        "plt.show()"
      ]
    },
    {
      "cell_type": "code",
      "execution_count": 29,
      "metadata": {
        "id": "JQ77PHYz1gNF"
      },
      "outputs": [],
      "source": [
        ""
      ]
    },
    {
      "cell_type": "code",
      "execution_count": 29,
      "metadata": {
        "id": "yTa9gctE1gNF"
      },
      "outputs": [],
      "source": [
        ""
      ]
    },
    {
      "cell_type": "markdown",
      "metadata": {
        "id": "5gpQpdc71gNF"
      },
      "source": [
        "## Reflection"
      ]
    },
    {
      "cell_type": "markdown",
      "metadata": {
        "id": "ZsyucpXF1gNF"
      },
      "source": [
        "Answer the following questions:\n",
        "* **Interpret the information in the requested figures.**\n",
        "\n",
        "<span style=\"color:blue\">\n",
        "\n",
        "   The plot showing model performance vs lambda on the domain [0,1], shown above, shows how the model overfits for smaller lambdas and underfits for too large values of lambda. As you decrease lambda, the optimization is less penalised. \n",
        "   For smaller values of lambda Eout increases as you decrease Ein. This could be undestrood as the regularization parameter being too small to pose a constraint strict enough on learning, leading to overfitting.\n",
        "\n",
        "\n",
        "</span>\n",
        "\n",
        "* **Explain the strategy chosen to decide on the optimum amount of regularisation.**\n",
        "\n",
        "\n",
        "<span style=\"color:blue\">\n",
        "    \n",
        "   For smaller values of the regularization parameter lambda, Ein decreases but Eout increases, because if lambda is too small there is not enough constraints, causing overfitting which leads to worse performance.\n",
        "\n",
        "On the other hand, when lamda is too big we are over-constraining the learning process and not giving it enough flexibility to fit the data, which causes underfitting and leads to equally bad performance. The middle ground between them for our dataset, as seen in the graph is somewhere around 0.25.\n",
        "\n",
        "</span>\n",
        "\n",
        "* **Explain the effect of the term l*np.identity(m.shape[0]) in the pseudo-inverse.**\n",
        "\n",
        "\n",
        "<span style=\"color:blue\">\n",
        "    \n",
        "In linear regression, the model can be trained by using the pseudo-inverse algorithm, its hypothesis is w_T * x where **w = pseudoinverse of X * y**\n",
        " \n",
        "\n",
        "Now, in regularisation we minimize the augmented error, denoted by two terms. The first is the in-sample error and the second is the penalty term, which includes lambda: **Ein + lambda * w^T * w**\n",
        "\n",
        "\n",
        "Given that the pseudoinverse of X is equal to (X^T * X)^-1 * X^T we know the first term X^T * X in our function is stored by m.\n",
        " \n",
        "So in our function, the pseudo inverse would correspond to `np.linalg.inv(m+l*np.identity(m.shape[0])).dot(X.T)`\n",
        " \n",
        "in which \n",
        "`np.identity(m.shape[0])` returns an identity matrix of the size of the number of rows of m, which is multiplied by lambda within the augmented error formula for regularization\n",
        "\n",
        "</span>"
      ]
    },
    {
      "cell_type": "markdown",
      "metadata": {
        "id": "0V7kjeyI1gNF"
      },
      "source": [
        "# Task 3\n",
        "\n",
        "Use the code-snippet from Task 2 and update to perform the same analysis using 10-fold cross-validation. Use Scikitlearn’s KFOLD for this and think carefully about the parameters you use in KFOLD. "
      ]
    },
    {
      "cell_type": "code",
      "execution_count": 39,
      "metadata": {
        "id": "YYDJSVAr1gNF"
      },
      "outputs": [],
      "source": [
        "from sklearn.model_selection import KFold\n",
        "\n",
        "kf = KFold(n_splits=10, random_state=42, shuffle=True)\n",
        "ein=[]\n",
        "eout=[]\n",
        "weights=[]\n",
        "lambdas = np.arange(0, 1, 0.001)\n",
        "X_trans = transPoly(X,100)\n",
        "# random_state fixed to get reproducible (and 'good'! :-)) results\n",
        "\n",
        "for l in lambdas:\n",
        "    e_in=[]\n",
        "    e_out=[]\n",
        "    for train_index, test_index in kf.split(X_trans):\n",
        "        X_train, X_test = X_trans[train_index], X_trans[test_index]\n",
        "        y_train, y_test = y[train_index], y[test_index]\n",
        "        w = weights_reg(X_train,y_train,l)\n",
        "        e_in.append(calc_error(w,X_train,y_train))\n",
        "        e_out.append(calc_error(w,X_test,y_test))\n",
        "    ein.append(np.mean(e_in))\n",
        "    eout.append(np.mean(e_out))\n",
        "    weights.append(w)\n",
        "    "
      ]
    },
    {
      "cell_type": "code",
      "source": [
        "plt.plot(lambdas,eout)\n",
        "plt.ylim([0,0.2])\n",
        "plt.title(\"Model performance vs lambda on the domain [0,1]\")\n",
        "plt.show()\n"
      ],
      "metadata": {
        "colab": {
          "base_uri": "https://localhost:8080/",
          "height": 281
        },
        "id": "gSete9uu5upH",
        "outputId": "c9c56a52-c64e-49a0-8524-bc77b17aa79e"
      },
      "execution_count": 60,
      "outputs": [
        {
          "output_type": "display_data",
          "data": {
            "image/png": "[encoded data removed]",
            "text/plain": [
              "<Figure size 432x288 with 1 Axes>"
            ]
          },
          "metadata": {
            "needs_background": "light"
          }
        }
      ]
    },
    {
      "cell_type": "code",
      "source": [
        "min_error = min(eout)\n",
        "optimal_lambda_3 = lambdas[eout.index(min_error)]"
      ],
      "metadata": {
        "id": "NX_XjZm7n9Cj"
      },
      "execution_count": 41,
      "outputs": []
    },
    {
      "cell_type": "code",
      "source": [
        "print(\"\\tRESULTS:\\n\\nEout (no regularisation) =\", eout[0])\n",
        "print(\"Eout (optimal regularisation) =\", min_error)\n",
        "print(\"\\nOptimal regularisation parameterlambda =\", lambdas[eout.index(min_error)])"
      ],
      "metadata": {
        "colab": {
          "base_uri": "https://localhost:8080/"
        },
        "id": "6OutMuLTndaI",
        "outputId": "fd8cd990-a7ad-4998-d224-252c61d59e4f"
      },
      "execution_count": 42,
      "outputs": [
        {
          "output_type": "stream",
          "name": "stdout",
          "text": [
            "\tRESULTS:\n",
            "\n",
            "Eout (no regularisation) = 1323.6769895684217\n",
            "Eout (optimal regularisation) = 0.030925579167743984\n",
            "\n",
            "Optimal regularisation parameterlambda = 0.037\n"
          ]
        }
      ]
    },
    {
      "cell_type": "code",
      "source": [
        "x_range = np.arange(0, 1, 0.001)\n",
        "over_l=weights[0]\n",
        "optimal_l=weights[eout.index(min_error)]\n",
        "under_l=weights[-1]\n",
        "overfit_linreg = lin_reg(over_l, transPoly(x_range, 100))\n",
        "optimal_linreg = lin_reg(optimal_l, transPoly(x_range, 100))\n",
        "underfit_linreg = lin_reg(under_l, transPoly(x_range, 100))"
      ],
      "metadata": {
        "id": "qBYDPKD8p4l3"
      },
      "execution_count": 47,
      "outputs": []
    },
    {
      "cell_type": "code",
      "source": [
        "plt.scatter(X,y)\n",
        "plt.plot(x_range, overfit_linreg, c='y')\n",
        "plt.ylim(-1.5,2.0)\n",
        "\n",
        "plt.title(\"Overfitting\")\n",
        "plt.show()\n",
        "\n",
        "plt.scatter(X,y)\n",
        "plt.plot(x_range, optimal_linreg, c='m')\n",
        "plt.ylim(-1.5,2.0)\n",
        "\n",
        "plt.title(\"Optimal lamba\")\n",
        "plt.show()\n",
        "\n",
        "\n",
        "plt.scatter(X,y)\n",
        "plt.plot(x_range, underfit_linreg, c='y')\n",
        "plt.ylim(-1.5,2.0)\n",
        "\n",
        "plt.title(\"Underfitting \")\n",
        "plt.show()\n"
      ],
      "metadata": {
        "colab": {
          "base_uri": "https://localhost:8080/",
          "height": 809
        },
        "id": "JYLObZGWp9Gm",
        "outputId": "bb0c6fa7-d05f-4923-8b55-7078cb412ff4"
      },
      "execution_count": 59,
      "outputs": [
        {
          "output_type": "display_data",
          "data": {
            "image/png": "[encoded data removed]",
            "text/plain": [
              "<Figure size 432x288 with 1 Axes>"
            ]
          },
          "metadata": {
            "needs_background": "light"
          }
        },
        {
          "output_type": "display_data",
          "data": {
            "image/png": "[encoded data removed]",
            "text/plain": [
              "<Figure size 432x288 with 1 Axes>"
            ]
          },
          "metadata": {
            "needs_background": "light"
          }
        },
        {
          "output_type": "display_data",
          "data": {
            "image/png": "[encoded data removed]",
            "text/plain": [
              "<Figure size 432x288 with 1 Axes>"
            ]
          },
          "metadata": {
            "needs_background": "light"
          }
        }
      ]
    },
    {
      "cell_type": "markdown",
      "metadata": {
        "id": "CF0Kcbxo1gNG"
      },
      "source": [
        "## Reflection"
      ]
    },
    {
      "cell_type": "markdown",
      "source": [
        "Cross validation is a very interesting technique in ML: Data is split into 10 parts and one is picked as testing sample once at a time, until they've all been trained and used for testing in various combinations. \n",
        "Validation attempts minimizing our Eout, by trying to estimate it directly through our validating fold.\n",
        "\n",
        "In our case we are repeating this 1000 times per \"fold\" with each lambda value. \n",
        "\n",
        "The use of validation affects the learning process by outputing a lambda value that is now more robust as it has been looped over many different combinations of the data. \n",
        "\n"
      ],
      "metadata": {
        "id": "qouJQpl2r5Sq"
      }
    },
    {
      "cell_type": "markdown",
      "metadata": {
        "id": "M-zA7UJ21gNG"
      },
      "source": [
        "# Task 4"
      ]
    },
    {
      "cell_type": "code",
      "execution_count": 63,
      "metadata": {
        "colab": {
          "base_uri": "https://localhost:8080/"
        },
        "id": "YylsFClO1gNG",
        "outputId": "649babaa-034a-4718-d391-5cfed1991822"
      },
      "outputs": [
        {
          "output_type": "stream",
          "name": "stderr",
          "text": [
            "/usr/local/lib/python3.7/dist-packages/sklearn/linear_model/_coordinate_descent.py:648: ConvergenceWarning: Objective did not converge. You might want to increase the number of iterations, check the scale of the features or consider increasing regularisation. Duality gap: 1.708e-03, tolerance: 1.545e-03\n",
            "  coef_, l1_reg, l2_reg, X, y, max_iter, tol, rng, random, positive\n",
            "/usr/local/lib/python3.7/dist-packages/sklearn/linear_model/_coordinate_descent.py:648: ConvergenceWarning: Objective did not converge. You might want to increase the number of iterations, check the scale of the features or consider increasing regularisation. Duality gap: 1.780e-03, tolerance: 1.545e-03\n",
            "  coef_, l1_reg, l2_reg, X, y, max_iter, tol, rng, random, positive\n",
            "/usr/local/lib/python3.7/dist-packages/sklearn/linear_model/_coordinate_descent.py:648: ConvergenceWarning: Objective did not converge. You might want to increase the number of iterations, check the scale of the features or consider increasing regularisation. Duality gap: 2.617e-03, tolerance: 1.545e-03\n",
            "  coef_, l1_reg, l2_reg, X, y, max_iter, tol, rng, random, positive\n",
            "/usr/local/lib/python3.7/dist-packages/sklearn/linear_model/_coordinate_descent.py:648: ConvergenceWarning: Objective did not converge. You might want to increase the number of iterations, check the scale of the features or consider increasing regularisation. Duality gap: 4.266e-03, tolerance: 1.545e-03\n",
            "  coef_, l1_reg, l2_reg, X, y, max_iter, tol, rng, random, positive\n",
            "/usr/local/lib/python3.7/dist-packages/sklearn/linear_model/_coordinate_descent.py:648: ConvergenceWarning: Objective did not converge. You might want to increase the number of iterations, check the scale of the features or consider increasing regularisation. Duality gap: 2.343e-03, tolerance: 1.577e-03\n",
            "  coef_, l1_reg, l2_reg, X, y, max_iter, tol, rng, random, positive\n",
            "/usr/local/lib/python3.7/dist-packages/sklearn/linear_model/_coordinate_descent.py:648: ConvergenceWarning: Objective did not converge. You might want to increase the number of iterations, check the scale of the features or consider increasing regularisation. Duality gap: 3.981e-03, tolerance: 1.577e-03\n",
            "  coef_, l1_reg, l2_reg, X, y, max_iter, tol, rng, random, positive\n",
            "/usr/local/lib/python3.7/dist-packages/sklearn/linear_model/_coordinate_descent.py:648: ConvergenceWarning: Objective did not converge. You might want to increase the number of iterations, check the scale of the features or consider increasing regularisation. Duality gap: 2.493e-03, tolerance: 1.450e-03\n",
            "  coef_, l1_reg, l2_reg, X, y, max_iter, tol, rng, random, positive\n",
            "/usr/local/lib/python3.7/dist-packages/sklearn/linear_model/_coordinate_descent.py:648: ConvergenceWarning: Objective did not converge. You might want to increase the number of iterations, check the scale of the features or consider increasing regularisation. Duality gap: 5.299e-03, tolerance: 1.450e-03\n",
            "  coef_, l1_reg, l2_reg, X, y, max_iter, tol, rng, random, positive\n",
            "/usr/local/lib/python3.7/dist-packages/sklearn/linear_model/_coordinate_descent.py:648: ConvergenceWarning: Objective did not converge. You might want to increase the number of iterations, check the scale of the features or consider increasing regularisation. Duality gap: 1.762e-03, tolerance: 1.536e-03\n",
            "  coef_, l1_reg, l2_reg, X, y, max_iter, tol, rng, random, positive\n",
            "/usr/local/lib/python3.7/dist-packages/sklearn/linear_model/_coordinate_descent.py:648: ConvergenceWarning: Objective did not converge. You might want to increase the number of iterations, check the scale of the features or consider increasing regularisation. Duality gap: 2.552e-03, tolerance: 1.536e-03\n",
            "  coef_, l1_reg, l2_reg, X, y, max_iter, tol, rng, random, positive\n",
            "/usr/local/lib/python3.7/dist-packages/sklearn/linear_model/_coordinate_descent.py:648: ConvergenceWarning: Objective did not converge. You might want to increase the number of iterations, check the scale of the features or consider increasing regularisation. Duality gap: 1.583e-03, tolerance: 1.536e-03\n",
            "  coef_, l1_reg, l2_reg, X, y, max_iter, tol, rng, random, positive\n",
            "/usr/local/lib/python3.7/dist-packages/sklearn/linear_model/_coordinate_descent.py:648: ConvergenceWarning: Objective did not converge. You might want to increase the number of iterations, check the scale of the features or consider increasing regularisation. Duality gap: 6.245e-03, tolerance: 1.536e-03\n",
            "  coef_, l1_reg, l2_reg, X, y, max_iter, tol, rng, random, positive\n",
            "/usr/local/lib/python3.7/dist-packages/sklearn/linear_model/_coordinate_descent.py:648: ConvergenceWarning: Objective did not converge. You might want to increase the number of iterations, check the scale of the features or consider increasing regularisation. Duality gap: 2.229e-03, tolerance: 1.443e-03\n",
            "  coef_, l1_reg, l2_reg, X, y, max_iter, tol, rng, random, positive\n",
            "/usr/local/lib/python3.7/dist-packages/sklearn/linear_model/_coordinate_descent.py:648: ConvergenceWarning: Objective did not converge. You might want to increase the number of iterations, check the scale of the features or consider increasing regularisation. Duality gap: 5.320e-03, tolerance: 1.443e-03\n",
            "  coef_, l1_reg, l2_reg, X, y, max_iter, tol, rng, random, positive\n",
            "/usr/local/lib/python3.7/dist-packages/sklearn/linear_model/_coordinate_descent.py:648: ConvergenceWarning: Objective did not converge. You might want to increase the number of iterations, check the scale of the features or consider increasing regularisation. Duality gap: 1.827e-03, tolerance: 1.550e-03\n",
            "  coef_, l1_reg, l2_reg, X, y, max_iter, tol, rng, random, positive\n",
            "/usr/local/lib/python3.7/dist-packages/sklearn/linear_model/_coordinate_descent.py:648: ConvergenceWarning: Objective did not converge. You might want to increase the number of iterations, check the scale of the features or consider increasing regularisation. Duality gap: 2.738e-03, tolerance: 1.550e-03\n",
            "  coef_, l1_reg, l2_reg, X, y, max_iter, tol, rng, random, positive\n",
            "/usr/local/lib/python3.7/dist-packages/sklearn/linear_model/_coordinate_descent.py:648: ConvergenceWarning: Objective did not converge. You might want to increase the number of iterations, check the scale of the features or consider increasing regularisation. Duality gap: 5.075e-03, tolerance: 1.550e-03\n",
            "  coef_, l1_reg, l2_reg, X, y, max_iter, tol, rng, random, positive\n",
            "/usr/local/lib/python3.7/dist-packages/sklearn/linear_model/_coordinate_descent.py:648: ConvergenceWarning: Objective did not converge. You might want to increase the number of iterations, check the scale of the features or consider increasing regularisation. Duality gap: 1.779e-03, tolerance: 1.526e-03\n",
            "  coef_, l1_reg, l2_reg, X, y, max_iter, tol, rng, random, positive\n",
            "/usr/local/lib/python3.7/dist-packages/sklearn/linear_model/_coordinate_descent.py:648: ConvergenceWarning: Objective did not converge. You might want to increase the number of iterations, check the scale of the features or consider increasing regularisation. Duality gap: 2.866e-03, tolerance: 1.526e-03\n",
            "  coef_, l1_reg, l2_reg, X, y, max_iter, tol, rng, random, positive\n",
            "/usr/local/lib/python3.7/dist-packages/sklearn/linear_model/_coordinate_descent.py:648: ConvergenceWarning: Objective did not converge. You might want to increase the number of iterations, check the scale of the features or consider increasing regularisation. Duality gap: 1.373e-03, tolerance: 1.328e-03\n",
            "  coef_, l1_reg, l2_reg, X, y, max_iter, tol, rng, random, positive\n",
            "/usr/local/lib/python3.7/dist-packages/sklearn/linear_model/_coordinate_descent.py:648: ConvergenceWarning: Objective did not converge. You might want to increase the number of iterations, check the scale of the features or consider increasing regularisation. Duality gap: 2.747e-03, tolerance: 1.328e-03\n",
            "  coef_, l1_reg, l2_reg, X, y, max_iter, tol, rng, random, positive\n",
            "/usr/local/lib/python3.7/dist-packages/sklearn/linear_model/_coordinate_descent.py:648: ConvergenceWarning: Objective did not converge. You might want to increase the number of iterations, check the scale of the features or consider increasing regularisation. Duality gap: 3.862e-03, tolerance: 1.328e-03\n",
            "  coef_, l1_reg, l2_reg, X, y, max_iter, tol, rng, random, positive\n",
            "/usr/local/lib/python3.7/dist-packages/sklearn/linear_model/_coordinate_descent.py:648: ConvergenceWarning: Objective did not converge. You might want to increase the number of iterations, check the scale of the features or consider increasing regularisation. Duality gap: 6.934e-03, tolerance: 1.328e-03\n",
            "  coef_, l1_reg, l2_reg, X, y, max_iter, tol, rng, random, positive\n",
            "/usr/local/lib/python3.7/dist-packages/sklearn/linear_model/_coordinate_descent.py:648: ConvergenceWarning: Objective did not converge. You might want to increase the number of iterations, check the scale of the features or consider increasing regularisation. Duality gap: 1.914e-03, tolerance: 1.432e-03\n",
            "  coef_, l1_reg, l2_reg, X, y, max_iter, tol, rng, random, positive\n",
            "/usr/local/lib/python3.7/dist-packages/sklearn/linear_model/_coordinate_descent.py:648: ConvergenceWarning: Objective did not converge. You might want to increase the number of iterations, check the scale of the features or consider increasing regularisation. Duality gap: 3.412e-03, tolerance: 1.432e-03\n",
            "  coef_, l1_reg, l2_reg, X, y, max_iter, tol, rng, random, positive\n",
            "/usr/local/lib/python3.7/dist-packages/sklearn/linear_model/_coordinate_descent.py:648: ConvergenceWarning: Objective did not converge. You might want to increase the number of iterations, check the scale of the features or consider increasing regularisation. Duality gap: 2.124e-03, tolerance: 1.555e-03\n",
            "  coef_, l1_reg, l2_reg, X, y, max_iter, tol, rng, random, positive\n",
            "/usr/local/lib/python3.7/dist-packages/sklearn/linear_model/_coordinate_descent.py:648: ConvergenceWarning: Objective did not converge. You might want to increase the number of iterations, check the scale of the features or consider increasing regularisation. Duality gap: 2.225e-03, tolerance: 1.555e-03\n",
            "  coef_, l1_reg, l2_reg, X, y, max_iter, tol, rng, random, positive\n",
            "/usr/local/lib/python3.7/dist-packages/sklearn/linear_model/_coordinate_descent.py:648: ConvergenceWarning: Objective did not converge. You might want to increase the number of iterations, check the scale of the features or consider increasing regularisation. Duality gap: 4.550e-03, tolerance: 1.555e-03\n",
            "  coef_, l1_reg, l2_reg, X, y, max_iter, tol, rng, random, positive\n"
          ]
        }
      ],
      "source": [
        "from sklearn.linear_model import RidgeCV\n",
        "from sklearn.linear_model import LassoCV\n",
        "\n",
        "ridge = RidgeCV(cv=10, alphas=lambdas[1:]).fit(X_trans, y)\n",
        "lasso = LassoCV(cv=10, alphas=lambdas[1:]).fit(X_trans, y)"
      ]
    },
    {
      "cell_type": "code",
      "source": [
        "ridge_error = calc_error(ridge.coef_,X_trans,y)\n",
        "ridge_alpha = ridge.alpha_\n",
        "lasso_error = calc_error(lasso.coef_, X_trans, y)\n",
        "lasso_alpha = lasso.alpha_"
      ],
      "metadata": {
        "id": "u-wbrv0-yYwd"
      },
      "execution_count": 64,
      "outputs": []
    },
    {
      "cell_type": "code",
      "source": [
        "print(\"ridge error is\", calc_error(ridge.coef_, X_trans, y))\n",
        "print(\"lambda is\", ridge.alpha_)\n",
        "print()\n",
        "print(\"LassoCV error is\", calc_error(lasso.coef_, X_trans, y))\n",
        "print(\"lambda is\", lasso.alpha_)"
      ],
      "metadata": {
        "colab": {
          "base_uri": "https://localhost:8080/"
        },
        "id": "ScANiPi1myPX",
        "outputId": "8b60624b-332b-4782-c38d-dd44378c5ed4"
      },
      "execution_count": 65,
      "outputs": [
        {
          "output_type": "stream",
          "name": "stdout",
          "text": [
            "ridge error is 0.024037311103114314\n",
            "lambda is 0.049\n",
            "\n",
            "LassoCV error is 0.023221837839207803\n",
            "lambda is 0.001\n"
          ]
        }
      ]
    },
    {
      "cell_type": "markdown",
      "metadata": {
        "id": "1VE9Z5xi1gNG"
      },
      "source": [
        "## Reflection"
      ]
    },
    {
      "cell_type": "markdown",
      "source": [
        " Regularization helps to prevent overfitting by con­straining the model. This helps smooth out the impact of the noise, while still giving us flexibility to fit the data.\n",
        "Ridge regression adds a penalty equivalent to square of the magnitude of the coefficients: It contraints the coefficients. Ridge regression shrinks the coefficients and it helps to reduce the model complexity and multi-collinearity.\n",
        "The difference with lasso is in the square of the coefficients. This type of regularization which is called L1 can lead to zero coefficients when they're not contributing, and thus resulting in features being left out. \n",
        "\n",
        "Lasso regression helps with overfitting and feature selection."
      ],
      "metadata": {
        "id": "vq7GWiYwxRxe"
      }
    },
    {
      "cell_type": "code",
      "source": [
        ""
      ],
      "metadata": {
        "id": "6psJg0YKzoFO"
      },
      "execution_count": null,
      "outputs": []
    }
  ],
  "metadata": {
    "kernelspec": {
      "display_name": "Python 3",
      "language": "python",
      "name": "python3"
    },
    "language_info": {
      "codemirror_mode": {
        "name": "ipython",
        "version": 3
      },
      "file_extension": ".py",
      "mimetype": "text/x-python",
      "name": "python",
      "nbconvert_exporter": "python",
      "pygments_lexer": "ipython3",
      "version": "3.7.0"
    },
    "colab": {
      "name": "E-tivity2.ipynb",
      "provenance": []
    }
  },
  "nbformat": 4,
  "nbformat_minor": 0
}