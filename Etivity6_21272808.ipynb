{
  "nbformat": 4,
  "nbformat_minor": 0,
  "metadata": {
    "colab": {
      "name": "Etivity6_21272808.ipynb",
      "provenance": [],
      "collapsed_sections": [],
      "toc_visible": true
    },
    "kernelspec": {
      "display_name": "Python 3",
      "language": "python",
      "name": "python3"
    },
    "language_info": {
      "codemirror_mode": {
        "name": "ipython",
        "version": 3
      },
      "file_extension": ".py",
      "mimetype": "text/x-python",
      "name": "python",
      "nbconvert_exporter": "python",
      "pygments_lexer": "ipython3",
      "version": "3.7.9"
    }
  },
  "cells": [
    {
      "cell_type": "markdown",
      "metadata": {
        "id": "Vk-FbFQdJNz5"
      },
      "source": [
        "Student name: Elsa Anza Martín\n",
        "\n",
        "Student id: 21272808"
      ]
    },
    {
      "cell_type": "markdown",
      "metadata": {
        "id": "B8TsFzouKsOO"
      },
      "source": [
        "# Deep neural networks"
      ]
    },
    {
      "cell_type": "markdown",
      "metadata": {
        "id": "tAtJtBBOxhfP"
      },
      "source": [
        "#### Imports"
      ]
    },
    {
      "cell_type": "code",
      "metadata": {
        "id": "cEyAXUtxyRAC"
      },
      "source": [
        "import numpy as np\n",
        "import matplotlib.pyplot as plt"
      ],
      "execution_count": 1,
      "outputs": []
    },
    {
      "cell_type": "markdown",
      "metadata": {
        "id": "QUyCB5r2zTqK"
      },
      "source": [
        "## Get the data and manipulate\n",
        "\n",
        "We're going to use the digits dataset, which is already available in sklearn.\n",
        "\n",
        "From sklearn documentation: This dataset is made up of 1797 8x8 images. Each image is of a hand-written digit. In order to utilize an 8x8 figure like this, we’d have to first transform it into a feature vector with length 64.\n"
      ]
    },
    {
      "cell_type": "code",
      "metadata": {
        "colab": {
          "base_uri": "https://localhost:8080/",
          "height": 211
        },
        "id": "gFDhMH0-y4dW",
        "outputId": "8a6a3651-981f-4c55-bf32-4c07aa48899b"
      },
      "source": [
        "# given\n",
        "\n",
        "from sklearn.datasets import load_digits\n",
        "digits = load_digits(return_X_y=False)\n",
        "\n",
        "#Display the first digit\n",
        "plt.figure(1, figsize=(3, 3))\n",
        "plt.imshow(digits.images[-1], cmap=plt.cm.gray, interpolation='nearest')\n",
        "plt.show()\n",
        "\n",
        "X = digits.data        # The flattened, vector version of the images\n",
        "y = digits.target"
      ],
      "execution_count": 2,
      "outputs": [
        {
          "output_type": "display_data",
          "data": {
            "image/png": "[encoded data removed]",
            "text/plain": [
              "<Figure size 216x216 with 1 Axes>"
            ]
          },
          "metadata": {
            "needs_background": "light"
          }
        }
      ]
    },
    {
      "cell_type": "markdown",
      "metadata": {
        "id": "HCcGYdZOGvR0"
      },
      "source": [
        "### Data manipulation\n",
        "\n",
        "Firstly, do a train/test split. Keep 20% of the data for test. Fix the `random_state` so that the test is completely repeatible.\n",
        "\n",
        "Then use the `StandardScaler` function from `sklearn.preprocessing`, as the multi-layer perceptron can be quite sensitive to data scaling."
      ]
    },
    {
      "cell_type": "code",
      "metadata": {
        "id": "spRd6Bbcxe5u"
      },
      "source": [
        "# Your code here\n",
        "\n",
        "#split train and test values\n",
        "from sklearn.model_selection import train_test_split\n",
        "\n",
        "(X_train, X_test, y_train, y_test) = train_test_split(X, y, test_size= 0.2, stratify=y, random_state=42)"
      ],
      "execution_count": 3,
      "outputs": []
    },
    {
      "cell_type": "markdown",
      "metadata": {
        "id": "_TVBn8Hd1ww1"
      },
      "source": [
        "## Task 1: Train a Perceptron\n",
        "\n",
        "1. A single artifical neuron is a Perceptron, so use `sklearn`'s implementation of the Percpetron, and train it.\n",
        "2. Calculate and print the accuracy\n",
        "3. Discuss the result, does it seem good or bad?\n",
        "4. Find an example where the classification is incorrect, and plot it. Discuss (e.g. does it kind of look like the digit that was predicted?)\n",
        "5. Multiclass perceptron? We learned that the Percpetron is a binary classifier. Give a brief description of how multi-class perceptron might work. Of course, use the internet, but give it to me in your own words, and use a diagram as appropriate."
      ]
    },
    {
      "cell_type": "code",
      "metadata": {
        "id": "IFBfMhi81ww1"
      },
      "source": [
        "# Your code here\n",
        "from sklearn.linear_model import Perceptron\n",
        "clf = Perceptron(random_state=0)\n",
        "clf.fit(X_train, y_train)\n",
        "Perceptron()\n",
        "y_pred = clf.predict(X_test)\n"
      ],
      "execution_count": 73,
      "outputs": []
    },
    {
      "cell_type": "code",
      "metadata": {
        "colab": {
          "base_uri": "https://localhost:8080/"
        },
        "id": "ulLXV9Ta1ww1",
        "outputId": "854196e2-1c4d-42de-87d8-9cd46c64bc00"
      },
      "source": [
        "# Your code here\n",
        "from sklearn.metrics import accuracy_score\n",
        "accuracy_score(y_test, y_pred)"
      ],
      "execution_count": 74,
      "outputs": [
        {
          "output_type": "execute_result",
          "data": {
            "text/plain": [
              "0.9361111111111111"
            ]
          },
          "metadata": {},
          "execution_count": 74
        }
      ]
    },
    {
      "cell_type": "markdown",
      "metadata": {
        "id": "HaTRXnrZxOnm"
      },
      "source": [
        "### 3. Is it a good accuracy?\n",
        "\n",
        "For general image classification, humans perform close to 100%. For the given MNST dataset, I've found sources claiming human accuracy to be around 98%. Overall, I'd say an accuracy of 98–99% in a trained network is fairly easy to obtain, so, although high, our achieved accuracy of 0.93 is not anywhere close to impressive."
      ]
    },
    {
      "cell_type": "markdown",
      "metadata": {
        "id": "c7taSlx5OLrL"
      },
      "source": [
        "### 4. Example of an incorrect classification"
      ]
    },
    {
      "cell_type": "code",
      "metadata": {
        "colab": {
          "base_uri": "https://localhost:8080/",
          "height": 299
        },
        "id": "jQybBGA_MfNa",
        "outputId": "d7808e63-3bd8-477d-a915-68ae2da6d8fe"
      },
      "source": [
        "for i in range(len(y_pred)):\n",
        "  if y_pred[i] != y_test[i]:\n",
        "    match = i\n",
        "    break\n",
        "plt.gray()\n",
        "plt.imshow(np.resize(X_test[i],(8,8)))\n",
        "plt.show()\n",
        "print(\"\\npredicted class was\", y_pred[i],\"whereas ground truth was\",  y_test[i])"
      ],
      "execution_count": 72,
      "outputs": [
        {
          "output_type": "display_data",
          "data": {
            "image/png": "[encoded data removed]",
            "text/plain": [
              "<Figure size 432x288 with 1 Axes>"
            ]
          },
          "metadata": {
            "needs_background": "light"
          }
        },
        {
          "output_type": "stream",
          "name": "stdout",
          "text": [
            "\n",
            "predicted class was 6 whereas ground truth was 1\n"
          ]
        }
      ]
    },
    {
      "cell_type": "markdown",
      "metadata": {
        "id": "jH8R51L1yd9Q"
      },
      "source": [
        "#### Missclasification discussion\n",
        "There's certain numbers that are bound to be more easily classified than others. Some numbers might look similar like 7 and 1 which might lead to a missclassification when theres ambiguity.\n",
        "\n",
        " In this case, a 1 was missclassified as a 6. The slight curvature in the end might be the reason behind this."
      ]
    },
    {
      "cell_type": "markdown",
      "metadata": {
        "id": "IUwEN89Y1ww2"
      },
      "source": [
        "The accuracy is not too bad (you should achieve about 95% if you've done it right). Not bad at all for a simple linear classifier. However, as with all of these types of problems, most of the effort will go into gaining small, but important imporvements. Let's see if we can get closer to 99%."
      ]
    },
    {
      "cell_type": "markdown",
      "metadata": {
        "id": "PhHeo0p5nyrp"
      },
      "source": [
        "## Task 2: Train a multi-layer Perceptron with one hidden layer (of width 20)\n",
        "\n",
        "Let's try going wide first\n",
        "\n",
        "* Set the regularizing parameter to 0.1 (alpha = 0.1). We have looked at regularisation before in the context of machine learning algorithms. It is important, but we won't investigate it further here. We'll leave this fixed.\n",
        "* Set verbose = 1, so we can look at what is happenign on each epoch (iteration)\n",
        "* Set random_state=1 (or some constant), so the test is repeatible\n",
        "* For the moment, set hidden_layer_sizes to (20,). \n",
        "\n",
        "This tuple then sets the number of hidden layers. The number of values in the tuple is the number of layers, and the number of each value is the number of nodes in that layer. So a tuple of (50,30,10) would be one layer with 50 nodes, connect to a second hidden layer with 30 nodes and a final hidden layer with 10 nodes). But for the moment, just go for one hidden layer with 20 nodes.\n",
        "\n",
        "Also print the __training and accuracy score__ of our current network (remember the `accuracy_score` function from `sklearn.metrics`?). The score on the test dataset should not be too bad at this point (something like 97% hopefully?). That's quite impressive for a first stab at a neural network. Let's see if we can do better, though!"
      ]
    },
    {
      "cell_type": "code",
      "metadata": {
        "colab": {
          "base_uri": "https://localhost:8080/"
        },
        "id": "w8qHytso3HJ5",
        "outputId": "45e30a77-840b-415b-ba03-028967008cfe"
      },
      "source": [
        "# Your code here\n",
        "from sklearn.neural_network import MLPClassifier\n",
        "\n",
        "clf = MLPClassifier(random_state=1, max_iter=300, alpha=0.1, verbose=1, hidden_layer_sizes=(20)).fit(X_train, y_train)\n",
        "y_pred_mlp = clf.predict(X_test)\n",
        "#clf.score(X_test, y_test)"
      ],
      "execution_count": 9,
      "outputs": [
        {
          "output_type": "stream",
          "name": "stdout",
          "text": [
            "Iteration 1, loss = 10.07906786\n",
            "Iteration 2, loss = 7.04463931\n",
            "Iteration 3, loss = 5.37431132\n",
            "Iteration 4, loss = 4.33088491\n",
            "Iteration 5, loss = 3.50217443\n",
            "Iteration 6, loss = 2.89609759\n",
            "Iteration 7, loss = 2.46136768\n",
            "Iteration 8, loss = 2.14213819\n",
            "Iteration 9, loss = 1.86800803\n",
            "Iteration 10, loss = 1.64880896\n",
            "Iteration 11, loss = 1.46948075\n",
            "Iteration 12, loss = 1.31852205\n",
            "Iteration 13, loss = 1.19102807\n",
            "Iteration 14, loss = 1.08176646\n",
            "Iteration 15, loss = 0.99518313\n",
            "Iteration 16, loss = 0.91897058\n",
            "Iteration 17, loss = 0.85240215\n",
            "Iteration 18, loss = 0.79185737\n",
            "Iteration 19, loss = 0.74297117\n",
            "Iteration 20, loss = 0.69808374\n",
            "Iteration 21, loss = 0.66012157\n",
            "Iteration 22, loss = 0.62504296\n",
            "Iteration 23, loss = 0.59339146\n",
            "Iteration 24, loss = 0.56458669\n",
            "Iteration 25, loss = 0.54102747\n",
            "Iteration 26, loss = 0.51847370\n",
            "Iteration 27, loss = 0.49484843\n",
            "Iteration 28, loss = 0.47423460\n",
            "Iteration 29, loss = 0.45648919\n",
            "Iteration 30, loss = 0.43897929\n",
            "Iteration 31, loss = 0.42180009\n",
            "Iteration 32, loss = 0.40838208\n",
            "Iteration 33, loss = 0.39475700\n",
            "Iteration 34, loss = 0.38160587\n",
            "Iteration 35, loss = 0.36928907\n",
            "Iteration 36, loss = 0.35905408\n",
            "Iteration 37, loss = 0.34986342\n",
            "Iteration 38, loss = 0.33837883\n",
            "Iteration 39, loss = 0.32725467\n",
            "Iteration 40, loss = 0.31771612\n",
            "Iteration 41, loss = 0.30870168\n",
            "Iteration 42, loss = 0.30193275\n",
            "Iteration 43, loss = 0.29348029\n",
            "Iteration 44, loss = 0.28450058\n",
            "Iteration 45, loss = 0.27638883\n",
            "Iteration 46, loss = 0.26972243\n",
            "Iteration 47, loss = 0.26280713\n",
            "Iteration 48, loss = 0.25481826\n",
            "Iteration 49, loss = 0.25191494\n",
            "Iteration 50, loss = 0.24501443\n",
            "Iteration 51, loss = 0.23754250\n",
            "Iteration 52, loss = 0.23240106\n",
            "Iteration 53, loss = 0.22689391\n",
            "Iteration 54, loss = 0.22123768\n",
            "Iteration 55, loss = 0.21686648\n",
            "Iteration 56, loss = 0.21320931\n",
            "Iteration 57, loss = 0.20876238\n",
            "Iteration 58, loss = 0.20346338\n",
            "Iteration 59, loss = 0.19968376\n",
            "Iteration 60, loss = 0.19484167\n",
            "Iteration 61, loss = 0.19080029\n",
            "Iteration 62, loss = 0.18664261\n",
            "Iteration 63, loss = 0.18361207\n",
            "Iteration 64, loss = 0.17946714\n",
            "Iteration 65, loss = 0.17651225\n",
            "Iteration 66, loss = 0.17192682\n",
            "Iteration 67, loss = 0.16975658\n",
            "Iteration 68, loss = 0.16587223\n",
            "Iteration 69, loss = 0.16239236\n",
            "Iteration 70, loss = 0.16030232\n",
            "Iteration 71, loss = 0.15793357\n",
            "Iteration 72, loss = 0.15431525\n",
            "Iteration 73, loss = 0.15481860\n",
            "Iteration 74, loss = 0.14951660\n",
            "Iteration 75, loss = 0.14692055\n",
            "Iteration 76, loss = 0.14478752\n",
            "Iteration 77, loss = 0.14282335\n",
            "Iteration 78, loss = 0.13992144\n",
            "Iteration 79, loss = 0.13888776\n",
            "Iteration 80, loss = 0.13562172\n",
            "Iteration 81, loss = 0.13398741\n",
            "Iteration 82, loss = 0.13245530\n",
            "Iteration 83, loss = 0.13135850\n",
            "Iteration 84, loss = 0.12873366\n",
            "Iteration 85, loss = 0.12658805\n",
            "Iteration 86, loss = 0.12548203\n",
            "Iteration 87, loss = 0.12411329\n",
            "Iteration 88, loss = 0.12295939\n",
            "Iteration 89, loss = 0.12099774\n",
            "Iteration 90, loss = 0.11861318\n",
            "Iteration 91, loss = 0.11820994\n",
            "Iteration 92, loss = 0.11646304\n",
            "Iteration 93, loss = 0.11418253\n",
            "Iteration 94, loss = 0.11356000\n",
            "Iteration 95, loss = 0.11212974\n",
            "Iteration 96, loss = 0.11211850\n",
            "Iteration 97, loss = 0.10966781\n",
            "Iteration 98, loss = 0.10810005\n",
            "Iteration 99, loss = 0.11019020\n",
            "Iteration 100, loss = 0.10562832\n",
            "Iteration 101, loss = 0.10421738\n",
            "Iteration 102, loss = 0.10261595\n",
            "Iteration 103, loss = 0.10139236\n",
            "Iteration 104, loss = 0.10106893\n",
            "Iteration 105, loss = 0.09960867\n",
            "Iteration 106, loss = 0.09853182\n",
            "Iteration 107, loss = 0.09781723\n",
            "Iteration 108, loss = 0.09631413\n",
            "Iteration 109, loss = 0.09488729\n",
            "Iteration 110, loss = 0.09295979\n",
            "Iteration 111, loss = 0.09306662\n",
            "Iteration 112, loss = 0.09174686\n",
            "Iteration 113, loss = 0.09107209\n",
            "Iteration 114, loss = 0.09009548\n",
            "Iteration 115, loss = 0.08798201\n",
            "Iteration 116, loss = 0.08783491\n",
            "Iteration 117, loss = 0.08643734\n",
            "Iteration 118, loss = 0.08544494\n",
            "Iteration 119, loss = 0.08402429\n",
            "Iteration 120, loss = 0.08297980\n",
            "Iteration 121, loss = 0.08222438\n",
            "Iteration 122, loss = 0.08137132\n",
            "Iteration 123, loss = 0.08098551\n",
            "Iteration 124, loss = 0.08022969\n",
            "Iteration 125, loss = 0.07909737\n",
            "Iteration 126, loss = 0.07825943\n",
            "Iteration 127, loss = 0.07649128\n",
            "Iteration 128, loss = 0.07594021\n",
            "Iteration 129, loss = 0.07463293\n",
            "Iteration 130, loss = 0.07348901\n",
            "Iteration 131, loss = 0.07323813\n",
            "Iteration 132, loss = 0.07251023\n",
            "Iteration 133, loss = 0.07164123\n",
            "Iteration 134, loss = 0.07157590\n",
            "Iteration 135, loss = 0.06966872\n",
            "Iteration 136, loss = 0.06842358\n",
            "Iteration 137, loss = 0.06818393\n",
            "Iteration 138, loss = 0.06723977\n",
            "Iteration 139, loss = 0.06632672\n",
            "Iteration 140, loss = 0.06549674\n",
            "Iteration 141, loss = 0.06437289\n",
            "Iteration 142, loss = 0.06408752\n",
            "Iteration 143, loss = 0.06294776\n",
            "Iteration 144, loss = 0.06245372\n",
            "Iteration 145, loss = 0.06128900\n",
            "Iteration 146, loss = 0.06045991\n",
            "Iteration 147, loss = 0.05996196\n",
            "Iteration 148, loss = 0.05873718\n",
            "Iteration 149, loss = 0.05826436\n",
            "Iteration 150, loss = 0.05783799\n",
            "Iteration 151, loss = 0.05717707\n",
            "Iteration 152, loss = 0.05690546\n",
            "Iteration 153, loss = 0.05596312\n",
            "Iteration 154, loss = 0.05463489\n",
            "Iteration 155, loss = 0.05423611\n",
            "Iteration 156, loss = 0.05350088\n",
            "Iteration 157, loss = 0.05376043\n",
            "Iteration 158, loss = 0.05287331\n",
            "Iteration 159, loss = 0.05172048\n",
            "Iteration 160, loss = 0.05176722\n",
            "Iteration 161, loss = 0.05049743\n",
            "Iteration 162, loss = 0.04980244\n",
            "Iteration 163, loss = 0.04952067\n",
            "Iteration 164, loss = 0.04856424\n",
            "Iteration 165, loss = 0.04847159\n",
            "Iteration 166, loss = 0.04750912\n",
            "Iteration 167, loss = 0.04722240\n",
            "Iteration 168, loss = 0.04676923\n",
            "Iteration 169, loss = 0.04672030\n",
            "Iteration 170, loss = 0.04579885\n",
            "Iteration 171, loss = 0.04552104\n",
            "Iteration 172, loss = 0.04484322\n",
            "Iteration 173, loss = 0.04427180\n",
            "Iteration 174, loss = 0.04431233\n",
            "Iteration 175, loss = 0.04391199\n",
            "Iteration 176, loss = 0.04300870\n",
            "Iteration 177, loss = 0.04238323\n",
            "Iteration 178, loss = 0.04216237\n",
            "Iteration 179, loss = 0.04181948\n",
            "Iteration 180, loss = 0.04121560\n",
            "Iteration 181, loss = 0.04084547\n",
            "Iteration 182, loss = 0.04059859\n",
            "Iteration 183, loss = 0.04042964\n",
            "Iteration 184, loss = 0.03980568\n",
            "Iteration 185, loss = 0.03942355\n",
            "Iteration 186, loss = 0.03904377\n",
            "Iteration 187, loss = 0.03894216\n",
            "Iteration 188, loss = 0.03856900\n",
            "Iteration 189, loss = 0.03821532\n",
            "Iteration 190, loss = 0.03759558\n",
            "Iteration 191, loss = 0.03762616\n",
            "Iteration 192, loss = 0.03740211\n",
            "Iteration 193, loss = 0.03676176\n",
            "Iteration 194, loss = 0.03632968\n",
            "Iteration 195, loss = 0.03645813\n",
            "Iteration 196, loss = 0.03626614\n",
            "Iteration 197, loss = 0.03642607\n",
            "Iteration 198, loss = 0.03544074\n",
            "Iteration 199, loss = 0.03541619\n",
            "Iteration 200, loss = 0.03482667\n",
            "Iteration 201, loss = 0.03445683\n",
            "Iteration 202, loss = 0.03421681\n",
            "Iteration 203, loss = 0.03385442\n",
            "Iteration 204, loss = 0.03362906\n",
            "Iteration 205, loss = 0.03329284\n",
            "Iteration 206, loss = 0.03300853\n",
            "Iteration 207, loss = 0.03292490\n",
            "Iteration 208, loss = 0.03307626\n",
            "Iteration 209, loss = 0.03209925\n",
            "Iteration 210, loss = 0.03225326\n",
            "Iteration 211, loss = 0.03160762\n",
            "Iteration 212, loss = 0.03130265\n",
            "Iteration 213, loss = 0.03109355\n",
            "Iteration 214, loss = 0.03080794\n",
            "Iteration 215, loss = 0.03054310\n",
            "Iteration 216, loss = 0.03048467\n",
            "Iteration 217, loss = 0.03025232\n",
            "Iteration 218, loss = 0.03011575\n",
            "Iteration 219, loss = 0.03005386\n",
            "Iteration 220, loss = 0.02975712\n",
            "Iteration 221, loss = 0.02942506\n",
            "Iteration 222, loss = 0.02971340\n",
            "Iteration 223, loss = 0.02967246\n",
            "Iteration 224, loss = 0.02887892\n",
            "Iteration 225, loss = 0.02874348\n",
            "Iteration 226, loss = 0.02848626\n",
            "Iteration 227, loss = 0.02806627\n",
            "Iteration 228, loss = 0.02773809\n",
            "Iteration 229, loss = 0.02755792\n",
            "Iteration 230, loss = 0.02733145\n",
            "Iteration 231, loss = 0.02755852\n",
            "Iteration 232, loss = 0.02689166\n",
            "Iteration 233, loss = 0.02650054\n",
            "Iteration 234, loss = 0.02595291\n",
            "Iteration 235, loss = 0.02692137\n",
            "Iteration 236, loss = 0.02608900\n",
            "Iteration 237, loss = 0.02549775\n",
            "Iteration 238, loss = 0.02516778\n",
            "Iteration 239, loss = 0.02479695\n",
            "Iteration 240, loss = 0.02458278\n",
            "Iteration 241, loss = 0.02439959\n",
            "Iteration 242, loss = 0.02421450\n",
            "Iteration 243, loss = 0.02405324\n",
            "Iteration 244, loss = 0.02384909\n",
            "Iteration 245, loss = 0.02370159\n",
            "Iteration 246, loss = 0.02354133\n",
            "Iteration 247, loss = 0.02346548\n",
            "Iteration 248, loss = 0.02346363\n",
            "Iteration 249, loss = 0.02312733\n",
            "Iteration 250, loss = 0.02300580\n",
            "Iteration 251, loss = 0.02326336\n",
            "Iteration 252, loss = 0.02277501\n",
            "Iteration 253, loss = 0.02263806\n",
            "Iteration 254, loss = 0.02238602\n",
            "Iteration 255, loss = 0.02222975\n",
            "Iteration 256, loss = 0.02218883\n",
            "Iteration 257, loss = 0.02203833\n",
            "Iteration 258, loss = 0.02189561\n",
            "Iteration 259, loss = 0.02192925\n",
            "Iteration 260, loss = 0.02172165\n",
            "Iteration 261, loss = 0.02162706\n",
            "Iteration 262, loss = 0.02149709\n",
            "Iteration 263, loss = 0.02141193\n",
            "Iteration 264, loss = 0.02144172\n",
            "Iteration 265, loss = 0.02166617\n",
            "Iteration 266, loss = 0.02118643\n",
            "Iteration 267, loss = 0.02124856\n",
            "Iteration 268, loss = 0.02099280\n",
            "Iteration 269, loss = 0.02092811\n",
            "Iteration 270, loss = 0.02080175\n",
            "Iteration 271, loss = 0.02060981\n",
            "Iteration 272, loss = 0.02062910\n",
            "Iteration 273, loss = 0.02047326\n",
            "Iteration 274, loss = 0.02037790\n",
            "Iteration 275, loss = 0.02038823\n",
            "Iteration 276, loss = 0.02022310\n",
            "Iteration 277, loss = 0.02054560\n",
            "Iteration 278, loss = 0.02028879\n",
            "Iteration 279, loss = 0.02017749\n",
            "Iteration 280, loss = 0.01999348\n",
            "Iteration 281, loss = 0.02004809\n",
            "Iteration 282, loss = 0.01981634\n",
            "Iteration 283, loss = 0.01979284\n",
            "Iteration 284, loss = 0.01980610\n",
            "Iteration 285, loss = 0.01973334\n",
            "Iteration 286, loss = 0.01960279\n",
            "Iteration 287, loss = 0.01947701\n",
            "Iteration 288, loss = 0.01938406\n",
            "Iteration 289, loss = 0.01932501\n",
            "Iteration 290, loss = 0.01921357\n",
            "Iteration 291, loss = 0.01918674\n",
            "Iteration 292, loss = 0.01915275\n",
            "Iteration 293, loss = 0.01913159\n",
            "Iteration 294, loss = 0.01908992\n",
            "Iteration 295, loss = 0.01897300\n",
            "Iteration 296, loss = 0.01889716\n",
            "Iteration 297, loss = 0.01904371\n",
            "Iteration 298, loss = 0.01884715\n",
            "Iteration 299, loss = 0.01873992\n",
            "Iteration 300, loss = 0.01867924\n"
          ]
        },
        {
          "output_type": "stream",
          "name": "stderr",
          "text": [
            "/usr/local/lib/python3.7/dist-packages/sklearn/neural_network/_multilayer_perceptron.py:696: ConvergenceWarning: Stochastic Optimizer: Maximum iterations (300) reached and the optimization hasn't converged yet.\n",
            "  ConvergenceWarning,\n"
          ]
        },
        {
          "output_type": "execute_result",
          "data": {
            "text/plain": [
              "0.9694444444444444"
            ]
          },
          "metadata": {},
          "execution_count": 9
        }
      ]
    },
    {
      "cell_type": "code",
      "metadata": {
        "colab": {
          "base_uri": "https://localhost:8080/"
        },
        "id": "ZmFQDJ2KAoZv",
        "outputId": "c5b2deab-73bc-428d-8815-cf60c611377e"
      },
      "source": [
        "#training accuracy \n",
        "y_pred_train = clf.predict(X_train)\n",
        "accuracy_score(y_train, y_pred_train)"
      ],
      "execution_count": 77,
      "outputs": [
        {
          "output_type": "execute_result",
          "data": {
            "text/plain": [
              "0.9707724425887265"
            ]
          },
          "metadata": {},
          "execution_count": 77
        }
      ]
    },
    {
      "cell_type": "code",
      "metadata": {
        "colab": {
          "base_uri": "https://localhost:8080/"
        },
        "id": "zVNqlaEc1ww3",
        "outputId": "1ea8a33c-a98d-4bd8-8b87-b0d4ade169f8"
      },
      "source": [
        "# Test accuracy\n",
        "accuracy_score(y_test, y_pred_mlp)"
      ],
      "execution_count": 10,
      "outputs": [
        {
          "output_type": "execute_result",
          "data": {
            "text/plain": [
              "0.9694444444444444"
            ]
          },
          "metadata": {},
          "execution_count": 10
        }
      ]
    },
    {
      "cell_type": "markdown",
      "metadata": {
        "id": "0N3-z3vwyCro"
      },
      "source": [
        "#### Questions: (answer here)\n",
        "\n",
        "1. What is the size of the input layer here? Explain\n",
        "2. What is the size of the output layer here? Explain\n",
        "3. How many weights in total does the algorithm learn?\n",
        "4. What does it mean that the training accuracy and the test accuracy are different?\n",
        "\n",
        "<font color='red'>\n",
        "\n",
        "1. Input layer is the feature vector of length 64, so the size of the input is 64. Each of those pixels goes into the hidden layer, which in this case has 20 features in 1 hidden layer.\n",
        "\n",
        "2. output layer is the predicted class which is one of the numbers 0-9, so size of the output is 1.\n",
        "\n",
        "3. weights in the only hidden layer are 64x20= 1280.\n",
        "\n",
        "4. training and test accuracies are different because they're measured on different sets of data. Improving training accuracy can lead to a loss in testing accuracy and this is called overfitting, which means the model is not able to generalize enough. Test accuracy is the real value we're meant to improve since is the real perfomance that the model has on unseen data so its an actual measure of perfomance in a situation close to reality. Test accuracy is lower than training because the model is optimized for the data it was trained on. This does not mean the model is doing a poor job at classifying, as it is expected to be harder to classify unseen examples.\n",
        "\n",
        "\n",
        "</font>"
      ]
    },
    {
      "cell_type": "markdown",
      "metadata": {
        "id": "a6Jbt_zozsol"
      },
      "source": [
        "#### Visualise\n",
        "\n",
        "In the above test, we're going to leave the default number of epochs/iterations at 200. We should see that, with a single layer with only 20 neurons, that we hit this limit before we get convergence, and a warning should be thrown that the maximum number of iterations has been reached. We could increase the number of iterations, in the hopes that we converge at a low loss. But let's instead play with the design of our network.\n",
        "\n",
        "But first, let's show some of the test samples, and the predicted labels.\n",
        "\n",
        "**Hint:** Each sample in `X_test` will be a 64-vector. To render as an 8x8 image, we have to convert to an 8x8 matrix. You can use `*.reshape(8, 8)` for this (assuming numpy vectors)."
      ]
    },
    {
      "cell_type": "markdown",
      "metadata": {
        "id": "0kP_I08jBoLr"
      },
      "source": [
        "### Examples of predicted classes with visualisation"
      ]
    },
    {
      "cell_type": "code",
      "metadata": {
        "colab": {
          "base_uri": "https://localhost:8080/",
          "height": 282
        },
        "id": "rWsGihD219Vz",
        "outputId": "9e1b92cf-7fb3-480c-f1fd-ad9edc98079f"
      },
      "source": [
        "# Your visualisation code here\n",
        "plt.imshow(np.resize(X_test[5],(8,8)))\n",
        "print(\"Predicted class is\", y_pred_mlp[5])"
      ],
      "execution_count": 80,
      "outputs": [
        {
          "output_type": "stream",
          "name": "stdout",
          "text": [
            "Predicted class is 2\n"
          ]
        },
        {
          "output_type": "display_data",
          "data": {
            "image/png": "[encoded data removed]",
            "text/plain": [
              "<Figure size 432x288 with 1 Axes>"
            ]
          },
          "metadata": {
            "needs_background": "light"
          }
        }
      ]
    },
    {
      "cell_type": "code",
      "metadata": {
        "colab": {
          "base_uri": "https://localhost:8080/",
          "height": 282
        },
        "id": "g20Xz_iMBdwq",
        "outputId": "93d4145d-4d51-4138-d128-463ea2d775c0"
      },
      "source": [
        "k= 40\n",
        "plt.imshow(np.resize(X_test[k],(8,8)))\n",
        "print(\"Predicted class is\", y_pred_mlp[k])"
      ],
      "execution_count": 81,
      "outputs": [
        {
          "output_type": "stream",
          "name": "stdout",
          "text": [
            "Predicted class is 1\n"
          ]
        },
        {
          "output_type": "display_data",
          "data": {
            "image/png": "[encoded data removed]",
            "text/plain": [
              "<Figure size 432x288 with 1 Axes>"
            ]
          },
          "metadata": {
            "needs_background": "light"
          }
        }
      ]
    },
    {
      "cell_type": "code",
      "metadata": {
        "colab": {
          "base_uri": "https://localhost:8080/",
          "height": 282
        },
        "id": "DvblXCnLBjw8",
        "outputId": "666eb57b-f76d-4b06-d13b-040e97f3678c"
      },
      "source": [
        "k=100\n",
        "plt.imshow(np.resize(X_test[k],(8,8)))\n",
        "print(\"Predicted class is\", y_pred_mlp[k])"
      ],
      "execution_count": 82,
      "outputs": [
        {
          "output_type": "stream",
          "name": "stdout",
          "text": [
            "Predicted class is 6\n"
          ]
        },
        {
          "output_type": "display_data",
          "data": {
            "image/png": "[encoded data removed]",
            "text/plain": [
              "<Figure size 432x288 with 1 Axes>"
            ]
          },
          "metadata": {
            "needs_background": "light"
          }
        }
      ]
    },
    {
      "cell_type": "markdown",
      "metadata": {
        "id": "yPN_MMx_02sV"
      },
      "source": [
        "#### Wider, wider, wider\n",
        "\n",
        "Let's go wider. We have quite a lot of input features, and somehow it might seem that if we immediately connect this to a layer with only 20 neurons that something might be lost?\n",
        "\n",
        "Well, this makes some sense. However, we have seen that we get pretty good test accuracy already! So what does this mean? The hidden layer is encoding a set of 20 features that we then use to describe the digits in the output layer. This means that 95% of the handwritten digits can be correctly classified using these 20 features.\n",
        "\n",
        "Let's see if more features help!\n",
        "\n",
        "Iterate over a wider number of neurons, and plot the train accuracy and test accuracy as a graph. For example, iterate over a set of widths of `(20, 50, 100, 500, 1000, 2000, 4000)`, or something similar.\n",
        "\n",
        "Same as before, set `alpha=0.001` and set `random_state` to some constant (e.g. `random_state=42`)"
      ]
    },
    {
      "cell_type": "code",
      "metadata": {
        "colab": {
          "base_uri": "https://localhost:8080/"
        },
        "id": "oNSoWZ8m4W3l",
        "outputId": "05eeb9e5-bdea-48e8-ebeb-8387fa33f2b8"
      },
      "source": [
        "# Your classifier training code here\n",
        "widths = (20, 50, 100, 500, 1000, 2000, 4000)\n",
        "\n",
        "from sklearn.metrics import accuracy_score\n",
        "from sklearn.neural_network import MLPClassifier\n",
        "import time\n",
        "\n",
        "test_accuracy = []\n",
        "train_accuracy=[]\n",
        "training_time= []\n",
        "\n",
        "for i in widths:\n",
        "  start = time.perf_counter()\n",
        "  clf = MLPClassifier(random_state=1, max_iter=300, alpha=0.1, verbose=0, hidden_layer_sizes=(i)).fit(X_train, y_train)\n",
        "  y_pred_mlp = clf.predict(X_test)\n",
        "  end = time.perf_counter()\n",
        "  y_train_pred_mlp = clf.predict(X_train)\n",
        "#  train_accuracy.append(clf.score(X_train, y_train_pred_mlp))  \n",
        "#  test_accuracy.append(clf.score(X_test, y_pred_mlp))\n",
        "  training_time.append(end-start)\n",
        "  train_accuracy.append(accuracy_score(y_test, y_pred_mlp))\n",
        "  test_accuracy.append(accuracy_score(y_train, y_train_pred_mlp))\n",
        "\n",
        "print (test_accuracy)\n",
        "print (train_accuracy)"
      ],
      "execution_count": 87,
      "outputs": [
        {
          "output_type": "stream",
          "name": "stderr",
          "text": [
            "/usr/local/lib/python3.7/dist-packages/sklearn/neural_network/_multilayer_perceptron.py:696: ConvergenceWarning: Stochastic Optimizer: Maximum iterations (300) reached and the optimization hasn't converged yet.\n",
            "  ConvergenceWarning,\n"
          ]
        },
        {
          "output_type": "stream",
          "name": "stdout",
          "text": [
            "[0.9777777777777777, 0.9861111111111112, 0.9833333333333333, 0.9777777777777777, 0.9777777777777777]\n"
          ]
        }
      ]
    },
    {
      "cell_type": "code",
      "metadata": {
        "colab": {
          "base_uri": "https://localhost:8080/"
        },
        "id": "TsG4slb_EojR",
        "outputId": "b047c786-d952-4abe-9864-0b220ccaf80a"
      },
      "source": [
        "train_accuracy"
      ],
      "execution_count": 93,
      "outputs": [
        {
          "output_type": "execute_result",
          "data": {
            "text/plain": [
              "[0.9694444444444444,\n",
              " 0.9694444444444444,\n",
              " 0.9777777777777777,\n",
              " 0.9833333333333333,\n",
              " 0.9833333333333333,\n",
              " 0.9861111111111112,\n",
              " 0.9861111111111112]"
            ]
          },
          "metadata": {},
          "execution_count": 93
        }
      ]
    },
    {
      "cell_type": "code",
      "metadata": {
        "colab": {
          "base_uri": "https://localhost:8080/"
        },
        "id": "Wtc5L_WnLrQX",
        "outputId": "58c5fde5-afea-46b9-d09f-9603b382e974"
      },
      "source": [
        "test_accuracy"
      ],
      "execution_count": 94,
      "outputs": [
        {
          "output_type": "execute_result",
          "data": {
            "text/plain": [
              "[1.0, 1.0, 1.0, 1.0, 1.0, 1.0, 1.0]"
            ]
          },
          "metadata": {},
          "execution_count": 94
        }
      ]
    },
    {
      "cell_type": "code",
      "metadata": {
        "colab": {
          "base_uri": "https://localhost:8080/",
          "height": 295
        },
        "id": "PDQf9VeW9SAK",
        "outputId": "a991a35c-a2c0-4ed3-ff8f-d224135357a6"
      },
      "source": [
        "# Your plot of training and test accuracy here\n",
        "import matplotlib.pyplot as plt\n",
        "\n",
        "plt.plot(widths, test_accuracy)\n",
        "plt.plot(widths, train_accuracy)\n",
        "plt.xlabel(\"width of the hidden layer\")\n",
        "plt.ylabel(\"accuracy achieved\")\n",
        "plt.legend(['Training data', 'Testing data'])\n",
        "plt.title(\"Relation between accuracy and no. of features in the training of a MLP model\")\n",
        "plt.show()"
      ],
      "execution_count": 92,
      "outputs": [
        {
          "output_type": "display_data",
          "data": {
            "image/png": "[encoded data removed]",
            "text/plain": [
              "<Figure size 432x288 with 1 Axes>"
            ]
          },
          "metadata": {
            "needs_background": "light"
          }
        }
      ]
    },
    {
      "cell_type": "code",
      "metadata": {
        "colab": {
          "base_uri": "https://localhost:8080/",
          "height": 295
        },
        "id": "PNoDXGo1lR9-",
        "outputId": "b5cc04bc-cf5e-423e-d72b-c917fe3d3201"
      },
      "source": [
        "plt.plot(widths, training_time)\n",
        "plt.xlabel(\"width of the hidden layer\")\n",
        "plt.ylabel(\"time taken to train\")\n",
        "plt.title(\"Time taken to train the MLP model in relation to no. of features in hidden layer\")\n",
        "plt.show()"
      ],
      "execution_count": 20,
      "outputs": [
        {
          "output_type": "display_data",
          "data": {
            "image/png": "[encoded data removed]",
            "text/plain": [
              "<Figure size 432x288 with 1 Axes>"
            ]
          },
          "metadata": {
            "needs_background": "light"
          }
        }
      ]
    },
    {
      "cell_type": "markdown",
      "metadata": {
        "id": "TN4bdAXA9A5h"
      },
      "source": [
        "Questions:\n",
        "\n",
        "1. When you trained for all the different widths, did you notice anything about how long each training took? Discuss this.\n",
        "\n",
        "2. What can you infer from the graph?\n",
        "\n",
        "For the second question, think about the following:\n",
        "* For the number of neurons you have tested, what is the best? (Highest performance -vs- lowest number of neurons)\n",
        "* How many weights are learned by the algorithm for our optimal solution?\n",
        "* Is there any evidence of overfitting occuring? Discuss this. What could we do to reduce this, if it is evident? (No need to implement anything to address tyhe overfitting, just comment)\n",
        "(Hint: a large divergence between training accuracy and testing accuracy can indicate over-fitting)."
      ]
    },
    {
      "cell_type": "markdown",
      "metadata": {
        "id": "7HMIQ-K81ww6"
      },
      "source": [
        "<font color='red'>\n",
        "\n",
        "1. In previous plot I've shown how long it's taken to train every model. In that graph it can be seen how the more complex the network gets the higher it takes to train it.\n",
        "2. The main take from the accuracy graph with different widths is that complexity does not mean better perfomance. At first, more complex networks (more width) does translate into a better classifier (higher accuracy) but this is not a linear relation. At around 500 neurons the model stops improving accuracy as quickly and after 2000 there's no clear impovement in the classifier.\n",
        "The optimal solution can be considered 2000, for which the classifier has a number of weights equal to 64x2000 =128000 weights.\n",
        "The model performs perfectly on the training data, which is a sign of ovetfitting and means the model is not able to generalize enough in unseen data. Addressing overfitting in these models primarily involves using regularization techniques. \n",
        "\n",
        "</font>\n"
      ]
    },
    {
      "cell_type": "markdown",
      "metadata": {
        "id": "aDjZ7Q3vBF1i"
      },
      "source": [
        "## Task 3: The deeper the better!\n",
        "\n",
        "Previously, we only had a single hidden layer, and we went as wide as a 1000 neurons. That is a lot of neurons and a lot of computation. Can we do better with fewer neurons by going deeper and using more layers? Now we're going to start playing with different configurations.\n",
        "\n",
        "Rerun the above loop, but let's use a set of deeper networks. These are going to be simply designed. I suggest to use something like:\n",
        "`layers = ((50,50),(50,50,50),(50,100),(100,100,50),(100,100,100))`\n",
        "\n",
        "Plot the train and test accuracy as a graph.\n",
        "\n",
        "Same as before, set `alpha=0.001` and set `random_state` to some constant (e.g. `random_state=42`)\n",
        "\n",
        "**Note**: you might be feeling at this point that picking the neural network architecture is kind of random. At the moment, it is, to be honest. How many neurons per layer should I use? How many layers? And then I have to pick the training parameters on top of this?? These are all called hyperparameters of the network, and there is a lot of skill to develop to develop to be able to design networks efficiently and pick the right training parameters."
      ]
    },
    {
      "cell_type": "code",
      "metadata": {
        "colab": {
          "base_uri": "https://localhost:8080/"
        },
        "id": "qCBMWj2-44dT",
        "outputId": "283df212-f785-4ad5-bfc8-ef55fe78776a"
      },
      "source": [
        "# Your classifier training code here\n",
        "accuracy = []\n",
        "train_accuracy = []\n",
        "training_time= []\n",
        "hidden_layers=((50,50),(50,50,50),(50,100),(100,100,50),(100,100,100))\n",
        "for i in hidden_layers:\n",
        "  start = time.perf_counter()\n",
        "  clf = MLPClassifier(random_state=1, max_iter=300, alpha=0.1, verbose=0, hidden_layer_sizes=i).fit(X_train, y_train)\n",
        "  y_pred_mlp = clf.predict(X_test)\n",
        "  end = time.perf_counter()\n",
        "  accuracy.append(clf.score(X_train, y_train))\n",
        "  train_accuracy.append(accuracy_score(y_test, y_pred_mlp))\n",
        "  training_time.append(end-start)\n",
        "\n",
        "print (accuracy)\n"
      ],
      "execution_count": 95,
      "outputs": [
        {
          "output_type": "stream",
          "name": "stderr",
          "text": [
            "/usr/local/lib/python3.7/dist-packages/sklearn/neural_network/_multilayer_perceptron.py:696: ConvergenceWarning: Stochastic Optimizer: Maximum iterations (300) reached and the optimization hasn't converged yet.\n",
            "  ConvergenceWarning,\n"
          ]
        },
        {
          "output_type": "stream",
          "name": "stdout",
          "text": [
            "[1.0, 1.0, 1.0, 1.0, 1.0]\n"
          ]
        },
        {
          "output_type": "stream",
          "name": "stderr",
          "text": [
            "/usr/local/lib/python3.7/dist-packages/sklearn/neural_network/_multilayer_perceptron.py:696: ConvergenceWarning: Stochastic Optimizer: Maximum iterations (300) reached and the optimization hasn't converged yet.\n",
            "  ConvergenceWarning,\n"
          ]
        }
      ]
    },
    {
      "cell_type": "code",
      "metadata": {
        "colab": {
          "base_uri": "https://localhost:8080/"
        },
        "id": "KIjFrrBNRM0P",
        "outputId": "da7f6c34-6c06-455d-cce4-ef243fc69e06"
      },
      "source": [
        "train_accuracy"
      ],
      "execution_count": 106,
      "outputs": [
        {
          "output_type": "execute_result",
          "data": {
            "text/plain": [
              "[0.9777777777777777,\n",
              " 0.9861111111111112,\n",
              " 0.9833333333333333,\n",
              " 0.9777777777777777,\n",
              " 0.9777777777777777]"
            ]
          },
          "metadata": {},
          "execution_count": 106
        }
      ]
    },
    {
      "cell_type": "code",
      "metadata": {
        "colab": {
          "base_uri": "https://localhost:8080/",
          "height": 347
        },
        "id": "7yfBaYHk39AI",
        "outputId": "5053fdc4-7af0-4401-fbd3-42cac79714f2"
      },
      "source": [
        "# Your visualisation code here\n",
        "x=list(range(len(accuracy)))\n",
        "plt.plot(x, accuracy)\n",
        "plt.plot(x, train_accuracy)\n",
        "plt.xlabel(\"Hidden layers architecture\")\n",
        "plt.ylabel(\"accuracy achieved\")\n",
        "plt.title(\"Relation between accuracy and the architecture of the network of the MLP model\")\n",
        "plt.legend(['Testing data', 'Training data'])\n",
        "plt.xticks(x, labels=hidden_layers, rotation = 45)\n",
        "plt.show()"
      ],
      "execution_count": 104,
      "outputs": [
        {
          "output_type": "display_data",
          "data": {
            "image/png": "[encoded data removed]",
            "text/plain": [
              "<Figure size 432x288 with 1 Axes>"
            ]
          },
          "metadata": {
            "needs_background": "light"
          }
        }
      ]
    },
    {
      "cell_type": "code",
      "metadata": {
        "colab": {
          "base_uri": "https://localhost:8080/",
          "height": 347
        },
        "id": "qIlh1E5zVIYA",
        "outputId": "e6890ed6-0528-426d-81d5-a339b38a9b42"
      },
      "source": [
        "plt.plot(x, training_time)\n",
        "plt.xlabel(\"hidden layer's architecture\")\n",
        "plt.ylabel(\"time taken to train \")\n",
        "plt.xticks(x, labels=hidden_layers, rotation = 45)\n",
        "plt.title(\"Time taken to train the MLP model in relation to its architecture\")\n",
        "plt.show()"
      ],
      "execution_count": 105,
      "outputs": [
        {
          "output_type": "display_data",
          "data": {
            "image/png": "[encoded data removed]",
            "text/plain": [
              "<Figure size 432x288 with 1 Axes>"
            ]
          },
          "metadata": {
            "needs_background": "light"
          }
        }
      ]
    },
    {
      "cell_type": "markdown",
      "metadata": {
        "id": "kXxR2NyF9cke"
      },
      "source": [
        "#### Questions\n",
        "\n",
        "What can you infer from the graph? (answer in the text box here).\n",
        "\n",
        "Think about the following:\n",
        "* Do I have a deeper network that has fewer neurons but is doing better than my very wide network?\n",
        "* How many weights did I need to train?"
      ]
    },
    {
      "cell_type": "markdown",
      "metadata": {
        "id": "_aiijE-11ww7"
      },
      "source": [
        "<font color='red'>\n",
        "\n",
        "1. The graph shows that fewer neurons can perform better than deeper single-layer networks as the ones traiend in the previous example. The best-performing architeture is a 3 hidden-layer model of 50x50x50. This model achieves an accuracy of 0.9861111111111112 with a number of weights equal to 64x50+50x50+50x50 = 3200+2500+2500=8200 weights in total, which is less than the number of weights used in other models that don't perform as well.\n",
        "\n",
        "This means the perfomance of the network has more to do with the architecture itself than with the amount of heights, deepness of the network of the number of layers. In other words, deeper or more complex networks are not unquestionably better. (No free lunch).\n",
        "\n",
        "\n",
        "</font>\n",
        "\n"
      ]
    },
    {
      "cell_type": "markdown",
      "metadata": {
        "id": "DBWEe1DZOdev"
      },
      "source": [
        "## Task 4: Confusion matrix\n",
        "\n",
        "A [confusion matrix](https://scikit-learn.org/stable/modules/generated/sklearn.metrics.plot_confusion_matrix.html#sklearn.metrics.plot_confusion_matrix) is a powerful way to visualise errors in your trained network. Plot a confusion matrix for your best model above (of course, plot using the test data).\n",
        "\n",
        "Describe what you see in the confusion matrix."
      ]
    },
    {
      "cell_type": "code",
      "metadata": {
        "id": "IPfrpN3gkdkH"
      },
      "source": [
        "clf = MLPClassifier(random_state=1, max_iter=300, alpha=0.1, verbose=0, hidden_layer_sizes=(50,50,50)).fit(X_train, y_train)\n",
        "y_pred_mlp = clf.predict(X_test)"
      ],
      "execution_count": 65,
      "outputs": []
    },
    {
      "cell_type": "code",
      "metadata": {
        "id": "ckK_cEOVO1lZ"
      },
      "source": [
        "# Your code here\n",
        "from sklearn.datasets import make_classification\n",
        "from sklearn.metrics import confusion_matrix, ConfusionMatrixDisplay"
      ],
      "execution_count": 68,
      "outputs": []
    },
    {
      "cell_type": "code",
      "metadata": {
        "colab": {
          "base_uri": "https://localhost:8080/",
          "height": 296
        },
        "id": "DdihCtOOkOA_",
        "outputId": "8af6272b-14e9-4df1-f4b1-56fb1d6f8346"
      },
      "source": [
        "cm = confusion_matrix(y_test, y_pred_mlp, labels=clf.classes_)\n",
        "disp = ConfusionMatrixDisplay(confusion_matrix=cm, display_labels=clf.classes_)\n",
        "disp.plot()\n",
        "plt.show()\n",
        "print(\"Confusion matrix for the best perfoming network (50x50x50)\")\n",
        "#plt.title(\"Confusion matrix for the best perfoming network (50x50x50)\")"
      ],
      "execution_count": 113,
      "outputs": [
        {
          "output_type": "display_data",
          "data": {
            "image/png": "[encoded data removed]",
            "text/plain": [
              "<Figure size 432x288 with 2 Axes>"
            ]
          },
          "metadata": {
            "needs_background": "light"
          }
        },
        {
          "output_type": "stream",
          "name": "stdout",
          "text": [
            "Confusion matrix for the best perfoming network (50x50x50)\n"
          ]
        }
      ]
    },
    {
      "cell_type": "markdown",
      "metadata": {
        "id": "Kcb3ollCQDTG"
      },
      "source": [
        "<font color='red'>\n",
        "It is shown how some number are more easily classified than others.\n",
        "3 and 5 have higher accuracy rates whereas number 8 accounts for the easiest to missclasify class. \n",
        "This usually means that a class is more likely to be mistaken for another class due to ambiguity in its depction, in this case in its hand-written shape. \n",
        "\n",
        "</font>"
      ]
    },
    {
      "cell_type": "markdown",
      "metadata": {
        "id": "_dkV6UE7-ytl"
      },
      "source": [
        "# Some final comments\n",
        "\n",
        "What we have really done here is a manual hyper-parameter search for an optimal neural network for handwritten digit classification. We have only touched the network architecture, but as we know from before, playing with things like learning rates, regularisation parameters, and other hyper-parameters, can lead to improved performance as well. There are also [automated hyper-parameter search mechanisms](https://scikit-learn.org/stable/modules/grid_search.html). These include thinks like grid search and randomised parameter searching. We won't touch on these during this module, but it is good for you to understand that these exist.\n",
        "\n",
        "When I started hearing lots about neural networks in the early to mid 2010s, I thought it was some kind of magic. At that stage, I had never really worked in machine learning. I had done a small bit of the traditional ML for computer vision (such as [HOG+SVM](https://medium.com/@mithi/vehicles-tracking-with-hog-and-linear-svm-c9f27eaf521a) in computer vision), but I'm comfortable in saying that I never really understood it. Deep neural networks were these amazing new things that were blowing everything else out of the water, and I think I assumed that they were these were new and ultra-complex algorithms that were difficult to understand. I hope that you realise what I learned after a while: firstly, neural networks aren't new at all, and secondly, if you know and understand linear classification models, such as the percepton, then deep neural networks are easily understood (particularly if you understand the chain rule and backprop as well).\n",
        "\n",
        "-- Ciarán"
      ]
    }
  ]
}