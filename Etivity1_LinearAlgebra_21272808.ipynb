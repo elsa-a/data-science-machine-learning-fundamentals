{
 "cells": [
  {
   "cell_type": "markdown",
   "metadata": {},
   "source": [
    "### Your details"
   ]
  },
  {
   "cell_type": "markdown",
   "metadata": {},
   "source": [
    "Your Name: Elsa Anza Martín"
   ]
  },
  {
   "cell_type": "markdown",
   "metadata": {},
   "source": [
    "Your ID number: 21272808"
   ]
  },
  {
   "cell_type": "markdown",
   "metadata": {},
   "source": [
    "# Task 1\n",
    "\n",
    "## Option 1: Matrix operations \n",
    "\n",
    "Write Python functions to perform matrix operations without using external libraries."
   ]
  },
  {
   "cell_type": "markdown",
   "metadata": {},
   "source": [
    "## Approach\n",
    "\n",
    "The following code aims to provide functions that will operate with matrices and perform basic algebra calculations. These matrices are lists of integers contained in a main list, where the first element in the main list represents the first row in the matrix, and the number of elements in this list is the number of columns in the matrix.\n",
    "In this approach, matrix dimensions are depicted as (mxn) where m corresponds to rows and n to columns.\n",
    "\n",
    "#### Auxilary functions\n",
    "To optimize the code written, two auxiliary functions which were not explicitly required in the assignment are implemented in the first cell. The first function returns the dimensions of a given matrix. The second one checks if to matrices can be multiplied as per the following rule: In order to multiply a pair of matrices A and B, it must happen that if A has n columns, B must have n rows.\n",
    "These functions will be called by the main functions.\n",
    "\n",
    "#### Main code\n",
    "In this approach, all functions evaluate a first condition and proceed to raise an error if this condition is not met. All functions will return False value when the error raises so this value can be easily used to extend the code further in other functions.\n"
   ]
  },
  {
   "cell_type": "markdown",
   "metadata": {},
   "source": [
    "## Manual Calculations\n",
    "\n",
    "(Provide details of the manual calculations)\n"
   ]
  },
  {
   "cell_type": "code",
   "execution_count": 561,
   "metadata": {},
   "outputs": [],
   "source": [
    "# Example matrices for testing.\n",
    "\n",
    "A = [[1, 4], [6, 8], [3, 0]]\n",
    "B = [[6, 4], [-6, 3], [7, 3]]\n",
    "C = [[2, 3, 1]]\n",
    "D = [[1, 2, 3], [0, 3, 1]]\n",
    "E = [[8, 4, -2], [8, 1, 0]]\n",
    "F = [[7, 0], [3, 1]]\n",
    "G = [[3, 3], [2, 8]]\n",
    "H = [[1, 2], [3, 4], [5, 6]] #3x2\n",
    "I = [[7],[8]] #2x1\n",
    "\n",
    "\n",
    "#Auxiliar functions\n",
    "\n",
    "def size(a): #returns dimensions —number of columns and rows— in a given matrix 'a'\n",
    "    m = len(a)\n",
    "    m_size = list(range(m))\n",
    "\n",
    "    for i in range(m):\n",
    "        m_size[i] = len(a[i])\n",
    "    return m, m_size[0]\n",
    "        \n",
    "    \n",
    "def dim(a, b): #checks if two matrices a and b can be multiplied: a(mxn) and b(nxp). Returns False if they can't.\n",
    "    if size(a)[1] == size(b)[0]:\n",
    "        return True\n",
    "    else:\n",
    "        return False"
   ]
  },
  {
   "cell_type": "code",
   "execution_count": 573,
   "metadata": {},
   "outputs": [],
   "source": [
    "#Adds or subtracts two matrices a and b.\n",
    "#This function evaluates a condition: matrices must be the same dimensions, and returns False if the condition \n",
    "#is not met.\n",
    "#Upon being executed, the program gets the number of rows and columns of the original matrices to create \n",
    "#an empty matrix x of identical dimensions. \n",
    "#X is iterated twice to fill in its values with the addition of all elements in matrices a and b, one at a time.\n",
    "#For scalability, number of rows and columns are recorded and then used to create the resulting matrix, whose \n",
    "#size will vary depending on the given matrices.\n",
    "\n",
    "def add(a, b):\n",
    "    if size(a) == size (b):\n",
    "        dim_n = size(a)[0] #number of rows\n",
    "        dim_m = size(a)[1] #number of columns\n",
    "        x = [[0 for i in range(dim_n)] for j in range(dim_m) ]\n",
    "        \n",
    "        for n in list(range(dim_m)):\n",
    "            for m in list(range(dim_n)):\n",
    "                x[n][m]=a[n][m]+b[n][m]\n",
    "            \n",
    "        print (x)\n",
    "        \n",
    "    else:\n",
    "        x = False\n",
    "        print(\"Error: dimension incompatibility. A and B must be of equal sizes.\")\n",
    "        \n",
    "        return x"
   ]
  },
  {
   "cell_type": "code",
   "execution_count": 427,
   "metadata": {},
   "outputs": [],
   "source": [
    "#Multiplies matrices a and b. \n",
    "The rule of multiplication of matrices must be met, which is implemented using the dim() function, decla\n",
    "def mult(a, b):\n",
    "    \n",
    "    if dim(a, b) == True:\n",
    "        m = size(a)[0] #2\n",
    "        n = size(a)[1] #2\n",
    "        p = size(b)[1] #2\n",
    "        x = [[0 for i in range(p)] for j in range(m)]\n",
    "        for i in range(size(a)[0]):\n",
    "            for j in range(size(a)[1]):\n",
    "                for k in range(p):\n",
    "                    x[i][k] = x[i][k] + (a[i][j]*b[j][k])\n",
    "                    \n",
    "    else:\n",
    "        print (\"Error: Number of columns in A must be equal to number of rows in B for X = A*B \")\n",
    "        x = False\n",
    "                  \n",
    "    return x"
   ]
  },
  {
   "cell_type": "code",
   "execution_count": 541,
   "metadata": {},
   "outputs": [
    {
     "data": {
      "text/plain": [
       "7"
      ]
     },
     "execution_count": 541,
     "metadata": {},
     "output_type": "execute_result"
    }
   ],
   "source": [
    "#Calculate the determinant of a 2x2 matrix. \n",
    "#For any other matrix this function should raise a suitable exception.\n",
    "\n",
    "def det(a):\n",
    "    if size(a) == (2, 2):\n",
    "        x = [[0 for i in range(2)] for j in range(2)]\n",
    "        x = (a[0][0]* a[1][1]) - (a[0][1]*a[1][0])\n",
    "        \n",
    "    else:\n",
    "        print(\"Error: Matrix must be 2x2\")\n",
    "        x = False\n",
    "    return x\n",
    "\n",
    "det(F)"
   ]
  },
  {
   "cell_type": "code",
   "execution_count": 549,
   "metadata": {},
   "outputs": [
    {
     "data": {
      "text/plain": [
       "[[0.14285714285714285, -0.0], [-0.42857142857142855, 1.0]]"
      ]
     },
     "execution_count": 549,
     "metadata": {},
     "output_type": "execute_result"
    }
   ],
   "source": [
    "#Calculate the inverse of a 2x2 matrix.  For any other matrix this function should raise a suitable exception. \n",
    "#An exception should also be raised if the matrix is non-invertible\n",
    "def inv(a):\n",
    "    if size(a) == (2, 2):\n",
    "        if det(a) != 0:\n",
    "            x = [[0 for i in range(2)] for j in range(2)]\n",
    "            x[0][0] = (1/det(a))* a[1][1]\n",
    "            x[0][1] = (-1/det(a))* a[0][1]\n",
    "            x[1][0] = (-1/det(a))* a[1][0]\n",
    "            x[1][1] = (1/det(a))* a[0][0] \n",
    "            return x\n",
    "        \n",
    "        else:\n",
    "            x = False\n",
    "            print(\"Error: Matrix not invertible\")\n",
    "            \n",
    "    else:\n",
    "        x = False\n",
    "        print(\"Error: Matrix must be 2x2 but is\", size(a))\n",
    "        \n",
    "    return x\n",
    "inv(F)"
   ]
  },
  {
   "cell_type": "code",
   "execution_count": 550,
   "metadata": {},
   "outputs": [],
   "source": [
    "#Calculate the transpose of an mxn matrix. \n",
    "def trans(a):\n",
    "    m, n = size(a)\n",
    "    x = [[0 for i in range(m)] for j in range(n)]\n",
    "\n",
    "    for i in range(n):\n",
    "        for j in range(m):\n",
    "            x[i][j] = A[j][i]\n",
    "    return x"
   ]
  },
  {
   "cell_type": "code",
   "execution_count": 532,
   "metadata": {},
   "outputs": [],
   "source": []
  },
  {
   "cell_type": "markdown",
   "metadata": {},
   "source": [
    "## Discussion\n",
    "#### Using 2 above, convince yourself that v = A'Av = Iv, for a small set of 2x2 matrices A and 2-vectors v. A' indicates the matrix inverse.\n",
    "By using the 2x2 matrix previously declared, F, we apply the inverted function inv(), then the multiplication one to multiply it by its inverse, obtainin the identity matrix I."
   ]
  },
  {
   "cell_type": "code",
   "execution_count": 580,
   "metadata": {},
   "outputs": [
    {
     "data": {
      "text/plain": [
       "[[1.0, 0.0], [0.0, 1.0]]"
      ]
     },
     "execution_count": 580,
     "metadata": {},
     "output_type": "execute_result"
    }
   ],
   "source": [
    "# 1. Prove that A*A' = I \n",
    "inv_f = inv(F)\n",
    "x = mult(inv_f, F)\n",
    "x"
   ]
  },
  {
   "cell_type": "markdown",
   "metadata": {},
   "source": [
    "### 2. When might it be the case that A'A ≠ I ?\n",
    "If there is a nonzero vector x such that Ax = 0.\n",
    "In this case, A cannot have an inverse so the rule becomes untrue.\n"
   ]
  },
  {
   "cell_type": "code",
   "execution_count": null,
   "metadata": {},
   "outputs": [],
   "source": []
  },
  {
   "cell_type": "code",
   "execution_count": null,
   "metadata": {},
   "outputs": [],
   "source": []
  },
  {
   "cell_type": "code",
   "execution_count": null,
   "metadata": {},
   "outputs": [],
   "source": []
  }
 ],
 "metadata": {
  "kernelspec": {
   "display_name": "Python 3",
   "language": "python",
   "name": "python3"
  },
  "language_info": {
   "codemirror_mode": {
    "name": "ipython",
    "version": 3
   },
   "file_extension": ".py",
   "mimetype": "text/x-python",
   "name": "python",
   "nbconvert_exporter": "python",
   "pygments_lexer": "ipython3",
   "version": "3.7.4"
  }
 },
 "nbformat": 4,
 "nbformat_minor": 4
}
