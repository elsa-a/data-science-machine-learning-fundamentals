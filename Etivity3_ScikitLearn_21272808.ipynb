{
  "nbformat": 4,
  "nbformat_minor": 0,
  "metadata": {
    "kernelspec": {
      "display_name": "Python 3",
      "language": "python",
      "name": "python3"
    },
    "language_info": {
      "codemirror_mode": {
        "name": "ipython",
        "version": 3
      },
      "file_extension": ".py",
      "mimetype": "text/x-python",
      "name": "python",
      "nbconvert_exporter": "python",
      "pygments_lexer": "ipython3",
      "version": "3.7.6"
    },
    "colab": {
      "name": "Etivity3_ScikitLearn_21272808.ipynb",
      "provenance": [],
      "collapsed_sections": []
    }
  },
  "cells": [
    {
      "cell_type": "markdown",
      "metadata": {
        "id": "EYnPIpOhaRAW"
      },
      "source": [
        "### Student Details\n",
        "\n",
        "Student Name: Elsa Anza Martín\n",
        "\n",
        "Student ID: 21272808\n",
        "\n",
        "\n",
        "# Task 2: scikit learn"
      ]
    },
    {
      "cell_type": "code",
      "metadata": {
        "id": "bb4LUZIpaRAY"
      },
      "source": [
        "# import dependencies\n",
        "import numpy as np\n",
        "import pandas as pd\n"
      ],
      "execution_count": 2,
      "outputs": []
    },
    {
      "cell_type": "markdown",
      "metadata": {
        "id": "PXqgGA77aRAZ"
      },
      "source": [
        "1.\tRead the iris dataset using Pandas (ref Option 2 above)\n",
        "2.\tExtract the Iris-setosa and Iris-verginica samples only\n",
        "3.\tExtract the petal length and petal width. These shall be our features."
      ]
    },
    {
      "cell_type": "code",
      "metadata": {
        "colab": {
          "base_uri": "https://localhost:8080/",
          "height": 419
        },
        "id": "vxaNkp0iaRAZ",
        "outputId": "88586852-8115-4e08-bcfe-d09c3e0b8251"
      },
      "source": [
        "df = pd.read_csv('iris_data.csv', header=0)\n",
        "df"
      ],
      "execution_count": 84,
      "outputs": [
        {
          "output_type": "execute_result",
          "data": {
            "text/html": [
              "<div>\n",
              "<style scoped>\n",
              "    .dataframe tbody tr th:only-of-type {\n",
              "        vertical-align: middle;\n",
              "    }\n",
              "\n",
              "    .dataframe tbody tr th {\n",
              "        vertical-align: top;\n",
              "    }\n",
              "\n",
              "    .dataframe thead th {\n",
              "        text-align: right;\n",
              "    }\n",
              "</style>\n",
              "<table border=\"1\" class=\"dataframe\">\n",
              "  <thead>\n",
              "    <tr style=\"text-align: right;\">\n",
              "      <th></th>\n",
              "      <th>sepal_length</th>\n",
              "      <th>sepa_width</th>\n",
              "      <th>petal_length</th>\n",
              "      <th>petal_width</th>\n",
              "      <th>class</th>\n",
              "    </tr>\n",
              "  </thead>\n",
              "  <tbody>\n",
              "    <tr>\n",
              "      <th>0</th>\n",
              "      <td>5.1</td>\n",
              "      <td>3.5</td>\n",
              "      <td>1.4</td>\n",
              "      <td>0.2</td>\n",
              "      <td>Iris-setosa</td>\n",
              "    </tr>\n",
              "    <tr>\n",
              "      <th>1</th>\n",
              "      <td>4.9</td>\n",
              "      <td>3.0</td>\n",
              "      <td>1.4</td>\n",
              "      <td>0.2</td>\n",
              "      <td>Iris-setosa</td>\n",
              "    </tr>\n",
              "    <tr>\n",
              "      <th>2</th>\n",
              "      <td>4.7</td>\n",
              "      <td>3.2</td>\n",
              "      <td>1.3</td>\n",
              "      <td>0.2</td>\n",
              "      <td>Iris-setosa</td>\n",
              "    </tr>\n",
              "    <tr>\n",
              "      <th>3</th>\n",
              "      <td>4.6</td>\n",
              "      <td>3.1</td>\n",
              "      <td>1.5</td>\n",
              "      <td>0.2</td>\n",
              "      <td>Iris-setosa</td>\n",
              "    </tr>\n",
              "    <tr>\n",
              "      <th>4</th>\n",
              "      <td>5.0</td>\n",
              "      <td>3.6</td>\n",
              "      <td>1.4</td>\n",
              "      <td>0.2</td>\n",
              "      <td>Iris-setosa</td>\n",
              "    </tr>\n",
              "    <tr>\n",
              "      <th>...</th>\n",
              "      <td>...</td>\n",
              "      <td>...</td>\n",
              "      <td>...</td>\n",
              "      <td>...</td>\n",
              "      <td>...</td>\n",
              "    </tr>\n",
              "    <tr>\n",
              "      <th>145</th>\n",
              "      <td>6.7</td>\n",
              "      <td>3.0</td>\n",
              "      <td>5.2</td>\n",
              "      <td>2.3</td>\n",
              "      <td>Iris-virginica</td>\n",
              "    </tr>\n",
              "    <tr>\n",
              "      <th>146</th>\n",
              "      <td>6.3</td>\n",
              "      <td>2.5</td>\n",
              "      <td>5.0</td>\n",
              "      <td>1.9</td>\n",
              "      <td>Iris-virginica</td>\n",
              "    </tr>\n",
              "    <tr>\n",
              "      <th>147</th>\n",
              "      <td>6.5</td>\n",
              "      <td>3.0</td>\n",
              "      <td>5.2</td>\n",
              "      <td>2.0</td>\n",
              "      <td>Iris-virginica</td>\n",
              "    </tr>\n",
              "    <tr>\n",
              "      <th>148</th>\n",
              "      <td>6.2</td>\n",
              "      <td>3.4</td>\n",
              "      <td>5.4</td>\n",
              "      <td>2.3</td>\n",
              "      <td>Iris-virginica</td>\n",
              "    </tr>\n",
              "    <tr>\n",
              "      <th>149</th>\n",
              "      <td>5.9</td>\n",
              "      <td>3.0</td>\n",
              "      <td>5.1</td>\n",
              "      <td>1.8</td>\n",
              "      <td>Iris-virginica</td>\n",
              "    </tr>\n",
              "  </tbody>\n",
              "</table>\n",
              "<p>150 rows × 5 columns</p>\n",
              "</div>"
            ],
            "text/plain": [
              "     sepal_length   sepa_width   petal_length   petal_width           class\n",
              "0             5.1          3.5            1.4           0.2     Iris-setosa\n",
              "1             4.9          3.0            1.4           0.2     Iris-setosa\n",
              "2             4.7          3.2            1.3           0.2     Iris-setosa\n",
              "3             4.6          3.1            1.5           0.2     Iris-setosa\n",
              "4             5.0          3.6            1.4           0.2     Iris-setosa\n",
              "..            ...          ...            ...           ...             ...\n",
              "145           6.7          3.0            5.2           2.3  Iris-virginica\n",
              "146           6.3          2.5            5.0           1.9  Iris-virginica\n",
              "147           6.5          3.0            5.2           2.0  Iris-virginica\n",
              "148           6.2          3.4            5.4           2.3  Iris-virginica\n",
              "149           5.9          3.0            5.1           1.8  Iris-virginica\n",
              "\n",
              "[150 rows x 5 columns]"
            ]
          },
          "metadata": {},
          "execution_count": 84
        }
      ]
    },
    {
      "cell_type": "code",
      "metadata": {
        "id": "j6jgfivencbw"
      },
      "source": [
        "df = df[~df[' class'].isin(['Iris-versicolor'])]"
      ],
      "execution_count": 85,
      "outputs": []
    },
    {
      "cell_type": "code",
      "metadata": {
        "colab": {
          "base_uri": "https://localhost:8080/",
          "height": 419
        },
        "id": "NI5pF65oopS4",
        "outputId": "0d87e2ea-d2cd-4cd0-f1aa-65c82e14e6dd"
      },
      "source": [
        "df"
      ],
      "execution_count": 86,
      "outputs": [
        {
          "output_type": "execute_result",
          "data": {
            "text/html": [
              "<div>\n",
              "<style scoped>\n",
              "    .dataframe tbody tr th:only-of-type {\n",
              "        vertical-align: middle;\n",
              "    }\n",
              "\n",
              "    .dataframe tbody tr th {\n",
              "        vertical-align: top;\n",
              "    }\n",
              "\n",
              "    .dataframe thead th {\n",
              "        text-align: right;\n",
              "    }\n",
              "</style>\n",
              "<table border=\"1\" class=\"dataframe\">\n",
              "  <thead>\n",
              "    <tr style=\"text-align: right;\">\n",
              "      <th></th>\n",
              "      <th>sepal_length</th>\n",
              "      <th>sepa_width</th>\n",
              "      <th>petal_length</th>\n",
              "      <th>petal_width</th>\n",
              "      <th>class</th>\n",
              "    </tr>\n",
              "  </thead>\n",
              "  <tbody>\n",
              "    <tr>\n",
              "      <th>0</th>\n",
              "      <td>5.1</td>\n",
              "      <td>3.5</td>\n",
              "      <td>1.4</td>\n",
              "      <td>0.2</td>\n",
              "      <td>Iris-setosa</td>\n",
              "    </tr>\n",
              "    <tr>\n",
              "      <th>1</th>\n",
              "      <td>4.9</td>\n",
              "      <td>3.0</td>\n",
              "      <td>1.4</td>\n",
              "      <td>0.2</td>\n",
              "      <td>Iris-setosa</td>\n",
              "    </tr>\n",
              "    <tr>\n",
              "      <th>2</th>\n",
              "      <td>4.7</td>\n",
              "      <td>3.2</td>\n",
              "      <td>1.3</td>\n",
              "      <td>0.2</td>\n",
              "      <td>Iris-setosa</td>\n",
              "    </tr>\n",
              "    <tr>\n",
              "      <th>3</th>\n",
              "      <td>4.6</td>\n",
              "      <td>3.1</td>\n",
              "      <td>1.5</td>\n",
              "      <td>0.2</td>\n",
              "      <td>Iris-setosa</td>\n",
              "    </tr>\n",
              "    <tr>\n",
              "      <th>4</th>\n",
              "      <td>5.0</td>\n",
              "      <td>3.6</td>\n",
              "      <td>1.4</td>\n",
              "      <td>0.2</td>\n",
              "      <td>Iris-setosa</td>\n",
              "    </tr>\n",
              "    <tr>\n",
              "      <th>...</th>\n",
              "      <td>...</td>\n",
              "      <td>...</td>\n",
              "      <td>...</td>\n",
              "      <td>...</td>\n",
              "      <td>...</td>\n",
              "    </tr>\n",
              "    <tr>\n",
              "      <th>145</th>\n",
              "      <td>6.7</td>\n",
              "      <td>3.0</td>\n",
              "      <td>5.2</td>\n",
              "      <td>2.3</td>\n",
              "      <td>Iris-virginica</td>\n",
              "    </tr>\n",
              "    <tr>\n",
              "      <th>146</th>\n",
              "      <td>6.3</td>\n",
              "      <td>2.5</td>\n",
              "      <td>5.0</td>\n",
              "      <td>1.9</td>\n",
              "      <td>Iris-virginica</td>\n",
              "    </tr>\n",
              "    <tr>\n",
              "      <th>147</th>\n",
              "      <td>6.5</td>\n",
              "      <td>3.0</td>\n",
              "      <td>5.2</td>\n",
              "      <td>2.0</td>\n",
              "      <td>Iris-virginica</td>\n",
              "    </tr>\n",
              "    <tr>\n",
              "      <th>148</th>\n",
              "      <td>6.2</td>\n",
              "      <td>3.4</td>\n",
              "      <td>5.4</td>\n",
              "      <td>2.3</td>\n",
              "      <td>Iris-virginica</td>\n",
              "    </tr>\n",
              "    <tr>\n",
              "      <th>149</th>\n",
              "      <td>5.9</td>\n",
              "      <td>3.0</td>\n",
              "      <td>5.1</td>\n",
              "      <td>1.8</td>\n",
              "      <td>Iris-virginica</td>\n",
              "    </tr>\n",
              "  </tbody>\n",
              "</table>\n",
              "<p>100 rows × 5 columns</p>\n",
              "</div>"
            ],
            "text/plain": [
              "     sepal_length   sepa_width   petal_length   petal_width           class\n",
              "0             5.1          3.5            1.4           0.2     Iris-setosa\n",
              "1             4.9          3.0            1.4           0.2     Iris-setosa\n",
              "2             4.7          3.2            1.3           0.2     Iris-setosa\n",
              "3             4.6          3.1            1.5           0.2     Iris-setosa\n",
              "4             5.0          3.6            1.4           0.2     Iris-setosa\n",
              "..            ...          ...            ...           ...             ...\n",
              "145           6.7          3.0            5.2           2.3  Iris-virginica\n",
              "146           6.3          2.5            5.0           1.9  Iris-virginica\n",
              "147           6.5          3.0            5.2           2.0  Iris-virginica\n",
              "148           6.2          3.4            5.4           2.3  Iris-virginica\n",
              "149           5.9          3.0            5.1           1.8  Iris-virginica\n",
              "\n",
              "[100 rows x 5 columns]"
            ]
          },
          "metadata": {},
          "execution_count": 86
        }
      ]
    },
    {
      "cell_type": "code",
      "metadata": {
        "id": "jyNSriWbx-Pg"
      },
      "source": [
        "################################\n",
        "# Your code here\n",
        "# setosa and versicolor\n",
        "y = df.iloc[:, 4].values\n",
        "cond = y == 'Iris-setosa'\n",
        "y = np.where(cond, -1, 1)\n",
        "\n",
        "# sepal length and petal length\n",
        "X = df.iloc[:, [2,3]].values"
      ],
      "execution_count": 87,
      "outputs": []
    },
    {
      "cell_type": "markdown",
      "metadata": {
        "id": "LjaPQwugaRAa"
      },
      "source": [
        "4.\tPlot the dataset as a scatter plot with the two Iris types shown as different colours"
      ]
    },
    {
      "cell_type": "code",
      "metadata": {
        "colab": {
          "base_uri": "https://localhost:8080/",
          "height": 265
        },
        "id": "QnOv5ciWaRAa",
        "outputId": "d73adcc1-13b6-476b-a0d9-3875991c9a1f"
      },
      "source": [
        "################################\n",
        "# Your code here\n",
        "import matplotlib.pyplot as plt\n",
        "\n",
        "plt.scatter(X[:,0], X[:,1], c=y)\n",
        "plt.show()"
      ],
      "execution_count": 88,
      "outputs": [
        {
          "output_type": "display_data",
          "data": {
            "image/png": "[encoded data removed]",
            "text/plain": [
              "<Figure size 432x288 with 1 Axes>"
            ]
          },
          "metadata": {
            "needs_background": "light"
          }
        }
      ]
    },
    {
      "cell_type": "markdown",
      "metadata": {
        "id": "tbTkj7YwaRAb"
      },
      "source": [
        "5.\tUse the perceptron in sklearn.linear_model to train on the Iris data previously used. Set verbose = 1; have a look at the epochs, it converges very quickly?\n",
        "\n",
        "It does converge quiclky, as it would be expected in a dataframe of this small size."
      ]
    },
    {
      "cell_type": "code",
      "metadata": {
        "colab": {
          "base_uri": "https://localhost:8080/"
        },
        "id": "0SkM9ZunaRAb",
        "outputId": "dfa7c3eb-9482-4b4d-ef99-899720e1dc7a"
      },
      "source": [
        "# So as not to confuse with our previously defined Perceptron class\n",
        "from sklearn.linear_model import Perceptron as Perceptron \n",
        "\n",
        "################################\n",
        "# Your code here\n",
        "clf = Perceptron(tol=1e-3, random_state=0, verbose=1)\n",
        "clf.fit(X, y)\n",
        "\n",
        "clf.score(X, y)"
      ],
      "execution_count": 90,
      "outputs": [
        {
          "output_type": "stream",
          "name": "stdout",
          "text": [
            "-- Epoch 1\n",
            "Norm: 1.52, NNZs: 2, Bias: -2.000000, T: 100, Avg. loss: 0.164200\n",
            "Total training time: 0.00 seconds.\n",
            "-- Epoch 2\n",
            "Norm: 1.52, NNZs: 2, Bias: -2.000000, T: 200, Avg. loss: 0.000000\n",
            "Total training time: 0.00 seconds.\n",
            "-- Epoch 3\n",
            "Norm: 1.52, NNZs: 2, Bias: -2.000000, T: 300, Avg. loss: 0.000000\n",
            "Total training time: 0.00 seconds.\n",
            "-- Epoch 4\n",
            "Norm: 1.52, NNZs: 2, Bias: -2.000000, T: 400, Avg. loss: 0.000000\n",
            "Total training time: 0.00 seconds.\n",
            "-- Epoch 5\n",
            "Norm: 1.52, NNZs: 2, Bias: -2.000000, T: 500, Avg. loss: 0.000000\n",
            "Total training time: 0.00 seconds.\n",
            "-- Epoch 6\n",
            "Norm: 1.52, NNZs: 2, Bias: -2.000000, T: 600, Avg. loss: 0.000000\n",
            "Total training time: 0.00 seconds.\n",
            "-- Epoch 7\n",
            "Norm: 1.52, NNZs: 2, Bias: -2.000000, T: 700, Avg. loss: 0.000000\n",
            "Total training time: 0.00 seconds.\n",
            "Convergence after 7 epochs took 0.01 seconds\n"
          ]
        },
        {
          "output_type": "execute_result",
          "data": {
            "text/plain": [
              "1.0"
            ]
          },
          "metadata": {},
          "execution_count": 90
        }
      ]
    },
    {
      "cell_type": "markdown",
      "metadata": {
        "id": "ZItHPtDxaRAb"
      },
      "source": [
        "6.\tUsing many random inputs (e.g. 5000) plot to see if you can see the decision boundary for the feature scaled case"
      ]
    },
    {
      "cell_type": "code",
      "metadata": {
        "colab": {
          "base_uri": "https://localhost:8080/",
          "height": 419
        },
        "id": "7hokTsxBaRAc",
        "outputId": "fef4ce38-7c8f-421e-a862-863f1801c3ea"
      },
      "source": [
        "import random\n",
        "petal_w = np.random.normal(loc=5, scale=2, size=5000) #loc = mean, scale = std, size = no samples\n",
        "\n",
        "petal_l = np.random.normal(loc=1.5, scale=2, size=5000) #loc = mean, scale = std, size = no samples\n",
        "\n",
        "################################\n",
        "# Your code here\n",
        "new_X = pd.DataFrame(petal_w, columns=['petal_w'])\n",
        "new_X['petal_l'] = petal_l\n",
        "new_X"
      ],
      "execution_count": 101,
      "outputs": [
        {
          "output_type": "execute_result",
          "data": {
            "text/html": [
              "<div>\n",
              "<style scoped>\n",
              "    .dataframe tbody tr th:only-of-type {\n",
              "        vertical-align: middle;\n",
              "    }\n",
              "\n",
              "    .dataframe tbody tr th {\n",
              "        vertical-align: top;\n",
              "    }\n",
              "\n",
              "    .dataframe thead th {\n",
              "        text-align: right;\n",
              "    }\n",
              "</style>\n",
              "<table border=\"1\" class=\"dataframe\">\n",
              "  <thead>\n",
              "    <tr style=\"text-align: right;\">\n",
              "      <th></th>\n",
              "      <th>petal_w</th>\n",
              "      <th>petal_l</th>\n",
              "    </tr>\n",
              "  </thead>\n",
              "  <tbody>\n",
              "    <tr>\n",
              "      <th>0</th>\n",
              "      <td>5.247425</td>\n",
              "      <td>2.592918</td>\n",
              "    </tr>\n",
              "    <tr>\n",
              "      <th>1</th>\n",
              "      <td>2.624006</td>\n",
              "      <td>-1.361319</td>\n",
              "    </tr>\n",
              "    <tr>\n",
              "      <th>2</th>\n",
              "      <td>1.294685</td>\n",
              "      <td>2.085356</td>\n",
              "    </tr>\n",
              "    <tr>\n",
              "      <th>3</th>\n",
              "      <td>5.604065</td>\n",
              "      <td>6.617612</td>\n",
              "    </tr>\n",
              "    <tr>\n",
              "      <th>4</th>\n",
              "      <td>3.074927</td>\n",
              "      <td>1.236675</td>\n",
              "    </tr>\n",
              "    <tr>\n",
              "      <th>...</th>\n",
              "      <td>...</td>\n",
              "      <td>...</td>\n",
              "    </tr>\n",
              "    <tr>\n",
              "      <th>4995</th>\n",
              "      <td>5.342666</td>\n",
              "      <td>1.911602</td>\n",
              "    </tr>\n",
              "    <tr>\n",
              "      <th>4996</th>\n",
              "      <td>5.432494</td>\n",
              "      <td>1.637336</td>\n",
              "    </tr>\n",
              "    <tr>\n",
              "      <th>4997</th>\n",
              "      <td>6.813238</td>\n",
              "      <td>0.696644</td>\n",
              "    </tr>\n",
              "    <tr>\n",
              "      <th>4998</th>\n",
              "      <td>4.640282</td>\n",
              "      <td>-1.621706</td>\n",
              "    </tr>\n",
              "    <tr>\n",
              "      <th>4999</th>\n",
              "      <td>4.381978</td>\n",
              "      <td>2.969657</td>\n",
              "    </tr>\n",
              "  </tbody>\n",
              "</table>\n",
              "<p>5000 rows × 2 columns</p>\n",
              "</div>"
            ],
            "text/plain": [
              "       petal_w   petal_l\n",
              "0     5.247425  2.592918\n",
              "1     2.624006 -1.361319\n",
              "2     1.294685  2.085356\n",
              "3     5.604065  6.617612\n",
              "4     3.074927  1.236675\n",
              "...        ...       ...\n",
              "4995  5.342666  1.911602\n",
              "4996  5.432494  1.637336\n",
              "4997  6.813238  0.696644\n",
              "4998  4.640282 -1.621706\n",
              "4999  4.381978  2.969657\n",
              "\n",
              "[5000 rows x 2 columns]"
            ]
          },
          "metadata": {},
          "execution_count": 101
        }
      ]
    },
    {
      "cell_type": "markdown",
      "metadata": {
        "id": "tv55u8_e2IFr"
      },
      "source": [
        "Using the normal distribution from numpy we get the folling data:"
      ]
    },
    {
      "cell_type": "code",
      "metadata": {
        "colab": {
          "base_uri": "https://localhost:8080/",
          "height": 265
        },
        "id": "Vlu-zNHAtLZI",
        "outputId": "9ba6fbeb-74f1-4118-fc0a-b8d95e32a7e9"
      },
      "source": [
        "plt.scatter(new_X['petal_w'], new_X['petal_l'])\n",
        "plt.show()"
      ],
      "execution_count": 96,
      "outputs": [
        {
          "output_type": "display_data",
          "data": {
            "image/png": "[encoded data removed]",
            "text/plain": [
              "<Figure size 432x288 with 1 Axes>"
            ]
          },
          "metadata": {
            "needs_background": "light"
          }
        }
      ]
    },
    {
      "cell_type": "code",
      "metadata": {
        "id": "4pYaFNfUuu4p"
      },
      "source": [
        "n_X = zip(new_X['petal_w'].tolist(), new_X['petal_l'].tolist())"
      ],
      "execution_count": 111,
      "outputs": []
    },
    {
      "cell_type": "code",
      "metadata": {
        "id": "Oqd_BbQjuxzw"
      },
      "source": [
        "n_y = clf.predict(n_X)"
      ],
      "execution_count": 122,
      "outputs": []
    },
    {
      "cell_type": "markdown",
      "metadata": {
        "id": "2Q9vTT5L2XOK"
      },
      "source": [
        "After predicting, we plot the data again and the decision boundary can be observed as the diagonal line dividing yellow and purple."
      ]
    },
    {
      "cell_type": "code",
      "metadata": {
        "colab": {
          "base_uri": "https://localhost:8080/",
          "height": 265
        },
        "id": "INiVRnsQvZQK",
        "outputId": "3388dc0b-0d01-4db6-e260-e1decfb42ac8"
      },
      "source": [
        "plt.scatter(new_X['petal_w'], new_X['petal_l'], c=n_y)\n",
        "plt.show()"
      ],
      "execution_count": 153,
      "outputs": [
        {
          "output_type": "display_data",
          "data": {
            "image/png": "[encoded data removed]",
            "text/plain": [
              "<Figure size 432x288 with 1 Axes>"
            ]
          },
          "metadata": {
            "needs_background": "light"
          }
        }
      ]
    }
  ]
}