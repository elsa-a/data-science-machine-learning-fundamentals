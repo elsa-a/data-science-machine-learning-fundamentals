{
  "nbformat": 4,
  "nbformat_minor": 0,
  "metadata": {
    "kernelspec": {
      "display_name": "Python 3",
      "language": "python",
      "name": "python3"
    },
    "language_info": {
      "codemirror_mode": {
        "name": "ipython",
        "version": 3
      },
      "file_extension": ".py",
      "mimetype": "text/x-python",
      "name": "python",
      "nbconvert_exporter": "python",
      "pygments_lexer": "ipython3",
      "version": "3.7.9"
    },
    "colab": {
      "name": "Etivity5_FeatureSelection_21272808.ipynb",
      "provenance": [],
      "collapsed_sections": []
    }
  },
  "cells": [
    {
      "cell_type": "markdown",
      "metadata": {
        "id": "2Yv17-YQF3P3"
      },
      "source": [
        "### Student Details\n",
        "\n",
        "Student name: Elsa Anza Martín\n",
        "\n",
        "Student ID: 21272708"
      ]
    },
    {
      "cell_type": "markdown",
      "metadata": {
        "id": "u1cYsvRvF3P5"
      },
      "source": [
        "# Task 1- Feature Selection\n",
        "\n",
        "In this and the following task, you are going to use several areas of machine learning and data processing that you haven't used before. Up until now, we have mainly focused on classification. In this task, we will use the SVM to do ***regression***. Additionally, we will use the ***unsupervised learning algorithm***, principle components analysis, to do ***data compression***. \n",
        "\n",
        "You will also be dealing with many more dimensions than you have done up to now, but you will see that the machine learning techniques we have employed up to now scale nicely to many dimensions.\n",
        "\n",
        "We will use the [HITTERS dataset](https://rdrr.io/cran/ISLR/man/Hitters.html) which has some statistics of baseball players from the 1987/88 baseball season.\n",
        "\n",
        "Our aim will be to use the available data to train an algorithm to predict the salary of a baseball player. We will then see if we can get similar performance by using fewer features. Undoubtedly, unless there is a feature that has no influence *at all* on the output, we will see *some* degradation in performance. However, as discussed in the material, there are significant gains to be made by using fewer features \n",
        "\n",
        "The original hitters dataset has some empty entries in the salary column. So we have provided you the data with these samples with empty salary removed, we have randomly split into training and test data (using the 70-30 rule), and we have removed categorical features, which we haven't learned how to handle. For reference, we have also provided the original dataset.\n"
      ]
    },
    {
      "cell_type": "markdown",
      "metadata": {
        "id": "peMK2n46F3P6"
      },
      "source": [
        "### Hints\n",
        "\n",
        "Hint 1: The standard scaler expects a column vector for the y samples, so use the `.reshape(-1,1)` functionality. However, the `SVR.fit` function expects a row vector, so use `.T[0]` to get the row vector from the column vector. Python is a wonderfully powerful computing language, but it is full of these stylistic inconsistencies.\n",
        "\n",
        "Hint 2: In past e-tivities, we used `sklearn.metric`'s [`accuracy_score`](https://scikit-learn.org/stable/modules/generated/sklearn.metrics.accuracy_score.html#sklearn.metrics.accuracy_score) function. However, this only works for classification problems. Here we are dealing with a regression problem, where the output is a continuous variable rather than discrete labels. There are [many options of a score provided by `sklearn`](https://scikit-learn.org/stable/modules/model_evaluation.html), but we will pick one that is easy to interpret: the root-mean-squared-error. Use `sklearn.metric`'s [`mean_squared_error`](https://scikit-learn.org/stable/modules/generated/sklearn.metrics.mean_squared_error.html), and set `squared=False`.\n",
        "\n",
        "Hint 3: In the standard scaling, you need to apply scaling to training and test features (`X`). You also need to apply scaling to the `y` training data. However, when you run the `predict` function on new data, it will be per the scaled trained model. Therefore, to compare to the `y` test data, you need to invert the scaling, by calling the `inverse_transform` method."
      ]
    },
    {
      "cell_type": "code",
      "metadata": {
        "id": "7V_g3xFcF3P7"
      },
      "source": [
        "# (given)\n",
        "import pandas as pd\n",
        "df_train = pd.read_csv('Hitters_train.csv', header=0)\n",
        "df_test = pd.read_csv('Hitters_test.csv', header=0)\n",
        "\n",
        "X_train = df_train.iloc[:, 1:17].values\n",
        "y_train = df_train.iloc[:, 17].values\n",
        "X_test = df_test.iloc[:, 1:17].values\n",
        "y_test = df_test.iloc[:, 17].values"
      ],
      "execution_count": 1,
      "outputs": []
    },
    {
      "cell_type": "code",
      "metadata": {
        "colab": {
          "base_uri": "https://localhost:8080/",
          "height": 419
        },
        "id": "PKJjienbWBkG",
        "outputId": "336e77d7-5351-4d69-9423-5a807d2ceafb"
      },
      "source": [
        "df_train"
      ],
      "execution_count": 2,
      "outputs": [
        {
          "output_type": "execute_result",
          "data": {
            "text/html": [
              "<div>\n",
              "<style scoped>\n",
              "    .dataframe tbody tr th:only-of-type {\n",
              "        vertical-align: middle;\n",
              "    }\n",
              "\n",
              "    .dataframe tbody tr th {\n",
              "        vertical-align: top;\n",
              "    }\n",
              "\n",
              "    .dataframe thead th {\n",
              "        text-align: right;\n",
              "    }\n",
              "</style>\n",
              "<table border=\"1\" class=\"dataframe\">\n",
              "  <thead>\n",
              "    <tr style=\"text-align: right;\">\n",
              "      <th></th>\n",
              "      <th>Unnamed: 0</th>\n",
              "      <th>AtBat</th>\n",
              "      <th>Hits</th>\n",
              "      <th>HmRun</th>\n",
              "      <th>Runs</th>\n",
              "      <th>RBI</th>\n",
              "      <th>Walks</th>\n",
              "      <th>Years</th>\n",
              "      <th>CAtBat</th>\n",
              "      <th>CHits</th>\n",
              "      <th>CHmRun</th>\n",
              "      <th>CRuns</th>\n",
              "      <th>CRBI</th>\n",
              "      <th>CWalks</th>\n",
              "      <th>PutOuts</th>\n",
              "      <th>Assists</th>\n",
              "      <th>Errors</th>\n",
              "      <th>Salary</th>\n",
              "    </tr>\n",
              "  </thead>\n",
              "  <tbody>\n",
              "    <tr>\n",
              "      <th>0</th>\n",
              "      <td>Kent Hrbek</td>\n",
              "      <td>550</td>\n",
              "      <td>147</td>\n",
              "      <td>29</td>\n",
              "      <td>85</td>\n",
              "      <td>91</td>\n",
              "      <td>71</td>\n",
              "      <td>6</td>\n",
              "      <td>2816</td>\n",
              "      <td>815</td>\n",
              "      <td>117</td>\n",
              "      <td>405</td>\n",
              "      <td>474</td>\n",
              "      <td>319</td>\n",
              "      <td>1218</td>\n",
              "      <td>104</td>\n",
              "      <td>10</td>\n",
              "      <td>1310.0</td>\n",
              "    </tr>\n",
              "    <tr>\n",
              "      <th>1</th>\n",
              "      <td>Steve Buechele</td>\n",
              "      <td>461</td>\n",
              "      <td>112</td>\n",
              "      <td>18</td>\n",
              "      <td>54</td>\n",
              "      <td>54</td>\n",
              "      <td>35</td>\n",
              "      <td>2</td>\n",
              "      <td>680</td>\n",
              "      <td>160</td>\n",
              "      <td>24</td>\n",
              "      <td>76</td>\n",
              "      <td>75</td>\n",
              "      <td>49</td>\n",
              "      <td>111</td>\n",
              "      <td>226</td>\n",
              "      <td>11</td>\n",
              "      <td>135.0</td>\n",
              "    </tr>\n",
              "    <tr>\n",
              "      <th>2</th>\n",
              "      <td>Terry Kennedy</td>\n",
              "      <td>19</td>\n",
              "      <td>4</td>\n",
              "      <td>1</td>\n",
              "      <td>2</td>\n",
              "      <td>3</td>\n",
              "      <td>1</td>\n",
              "      <td>1</td>\n",
              "      <td>19</td>\n",
              "      <td>4</td>\n",
              "      <td>1</td>\n",
              "      <td>2</td>\n",
              "      <td>3</td>\n",
              "      <td>1</td>\n",
              "      <td>692</td>\n",
              "      <td>70</td>\n",
              "      <td>8</td>\n",
              "      <td>920.0</td>\n",
              "    </tr>\n",
              "    <tr>\n",
              "      <th>3</th>\n",
              "      <td>Jim Presley</td>\n",
              "      <td>616</td>\n",
              "      <td>163</td>\n",
              "      <td>27</td>\n",
              "      <td>83</td>\n",
              "      <td>107</td>\n",
              "      <td>32</td>\n",
              "      <td>3</td>\n",
              "      <td>1437</td>\n",
              "      <td>377</td>\n",
              "      <td>65</td>\n",
              "      <td>181</td>\n",
              "      <td>227</td>\n",
              "      <td>82</td>\n",
              "      <td>110</td>\n",
              "      <td>308</td>\n",
              "      <td>15</td>\n",
              "      <td>200.0</td>\n",
              "    </tr>\n",
              "    <tr>\n",
              "      <th>4</th>\n",
              "      <td>Ken Landreaux</td>\n",
              "      <td>283</td>\n",
              "      <td>74</td>\n",
              "      <td>4</td>\n",
              "      <td>34</td>\n",
              "      <td>29</td>\n",
              "      <td>22</td>\n",
              "      <td>10</td>\n",
              "      <td>3919</td>\n",
              "      <td>1062</td>\n",
              "      <td>85</td>\n",
              "      <td>505</td>\n",
              "      <td>456</td>\n",
              "      <td>283</td>\n",
              "      <td>145</td>\n",
              "      <td>5</td>\n",
              "      <td>7</td>\n",
              "      <td>737.5</td>\n",
              "    </tr>\n",
              "    <tr>\n",
              "      <th>...</th>\n",
              "      <td>...</td>\n",
              "      <td>...</td>\n",
              "      <td>...</td>\n",
              "      <td>...</td>\n",
              "      <td>...</td>\n",
              "      <td>...</td>\n",
              "      <td>...</td>\n",
              "      <td>...</td>\n",
              "      <td>...</td>\n",
              "      <td>...</td>\n",
              "      <td>...</td>\n",
              "      <td>...</td>\n",
              "      <td>...</td>\n",
              "      <td>...</td>\n",
              "      <td>...</td>\n",
              "      <td>...</td>\n",
              "      <td>...</td>\n",
              "      <td>...</td>\n",
              "    </tr>\n",
              "    <tr>\n",
              "      <th>179</th>\n",
              "      <td>Chris Bando</td>\n",
              "      <td>254</td>\n",
              "      <td>68</td>\n",
              "      <td>2</td>\n",
              "      <td>28</td>\n",
              "      <td>26</td>\n",
              "      <td>22</td>\n",
              "      <td>6</td>\n",
              "      <td>999</td>\n",
              "      <td>236</td>\n",
              "      <td>21</td>\n",
              "      <td>108</td>\n",
              "      <td>117</td>\n",
              "      <td>118</td>\n",
              "      <td>359</td>\n",
              "      <td>30</td>\n",
              "      <td>4</td>\n",
              "      <td>305.0</td>\n",
              "    </tr>\n",
              "    <tr>\n",
              "      <th>180</th>\n",
              "      <td>Ed Romero</td>\n",
              "      <td>233</td>\n",
              "      <td>49</td>\n",
              "      <td>2</td>\n",
              "      <td>41</td>\n",
              "      <td>23</td>\n",
              "      <td>18</td>\n",
              "      <td>8</td>\n",
              "      <td>1350</td>\n",
              "      <td>336</td>\n",
              "      <td>7</td>\n",
              "      <td>166</td>\n",
              "      <td>122</td>\n",
              "      <td>106</td>\n",
              "      <td>102</td>\n",
              "      <td>132</td>\n",
              "      <td>10</td>\n",
              "      <td>375.0</td>\n",
              "    </tr>\n",
              "    <tr>\n",
              "      <th>181</th>\n",
              "      <td>Howard Johnson</td>\n",
              "      <td>220</td>\n",
              "      <td>54</td>\n",
              "      <td>10</td>\n",
              "      <td>30</td>\n",
              "      <td>39</td>\n",
              "      <td>31</td>\n",
              "      <td>5</td>\n",
              "      <td>1185</td>\n",
              "      <td>299</td>\n",
              "      <td>40</td>\n",
              "      <td>145</td>\n",
              "      <td>154</td>\n",
              "      <td>128</td>\n",
              "      <td>50</td>\n",
              "      <td>136</td>\n",
              "      <td>20</td>\n",
              "      <td>297.5</td>\n",
              "    </tr>\n",
              "    <tr>\n",
              "      <th>182</th>\n",
              "      <td>Randy Bush</td>\n",
              "      <td>357</td>\n",
              "      <td>96</td>\n",
              "      <td>7</td>\n",
              "      <td>50</td>\n",
              "      <td>45</td>\n",
              "      <td>39</td>\n",
              "      <td>5</td>\n",
              "      <td>1394</td>\n",
              "      <td>344</td>\n",
              "      <td>43</td>\n",
              "      <td>178</td>\n",
              "      <td>192</td>\n",
              "      <td>136</td>\n",
              "      <td>167</td>\n",
              "      <td>2</td>\n",
              "      <td>4</td>\n",
              "      <td>300.0</td>\n",
              "    </tr>\n",
              "    <tr>\n",
              "      <th>183</th>\n",
              "      <td>Doug DeCinces</td>\n",
              "      <td>512</td>\n",
              "      <td>131</td>\n",
              "      <td>26</td>\n",
              "      <td>69</td>\n",
              "      <td>96</td>\n",
              "      <td>52</td>\n",
              "      <td>14</td>\n",
              "      <td>5347</td>\n",
              "      <td>1397</td>\n",
              "      <td>221</td>\n",
              "      <td>712</td>\n",
              "      <td>815</td>\n",
              "      <td>548</td>\n",
              "      <td>119</td>\n",
              "      <td>216</td>\n",
              "      <td>12</td>\n",
              "      <td>850.0</td>\n",
              "    </tr>\n",
              "  </tbody>\n",
              "</table>\n",
              "<p>184 rows × 18 columns</p>\n",
              "</div>"
            ],
            "text/plain": [
              "         Unnamed: 0  AtBat  Hits  HmRun  ...  PutOuts  Assists  Errors  Salary\n",
              "0        Kent Hrbek    550   147     29  ...     1218      104      10  1310.0\n",
              "1    Steve Buechele    461   112     18  ...      111      226      11   135.0\n",
              "2     Terry Kennedy     19     4      1  ...      692       70       8   920.0\n",
              "3       Jim Presley    616   163     27  ...      110      308      15   200.0\n",
              "4     Ken Landreaux    283    74      4  ...      145        5       7   737.5\n",
              "..              ...    ...   ...    ...  ...      ...      ...     ...     ...\n",
              "179     Chris Bando    254    68      2  ...      359       30       4   305.0\n",
              "180       Ed Romero    233    49      2  ...      102      132      10   375.0\n",
              "181  Howard Johnson    220    54     10  ...       50      136      20   297.5\n",
              "182      Randy Bush    357    96      7  ...      167        2       4   300.0\n",
              "183   Doug DeCinces    512   131     26  ...      119      216      12   850.0\n",
              "\n",
              "[184 rows x 18 columns]"
            ]
          },
          "metadata": {},
          "execution_count": 2
        }
      ]
    },
    {
      "cell_type": "markdown",
      "metadata": {
        "id": "H31qQ4uoF3P8"
      },
      "source": [
        "### Part 1: Support Vector Regression\n",
        "\n",
        "Here, we will use Support Vector Regression to predict the salary of baseball players, given a set of features. We will use a simple linear SVM regression, and use the default parameters, as we're not investigating the properties of SVM, but rather the properties of data.\n",
        "\n",
        "#### Task:\n",
        "1. Apply the [`StandardScaler`](https://scikit-learn.org/stable/modules/generated/sklearn.preprocessing.StandardScaler.html) to the training and test data. You need two scalers, for the X and the y. Remember, train on the `*_train` data, but apply to both the `*_train` and the `*_test` data\n",
        "1. Train a linear Support Vector Regression, using [`sklearn`'s `svm.SVR` class](https://scikit-learn.org/stable/modules/generated/sklearn.svm.SVR.html). All parameters can be left at default except `kernel='linear'`\n",
        "1. Predict the salaries of the test data\n",
        "1. Compare to the true salaries by plotting the predicted and the test values\n",
        "1. Get the root mean squared error of the prediction using `sklearn.metrics`'s [`mean_squared_error`](https://scikit-learn.org/stable/modules/generated/sklearn.metrics.mean_squared_error.html) as discussed above\n",
        "\n",
        "You should see that the linear SVM regression isn't too bad. Maybe more often than not, it seems to underestimate the true wages of the very high earners. There can be several reasons for this, to do with the model, or possibly the features that we use don't capture things like overall fame of a player or earning capacity for a particular team. The aim isn't to investigate this, though.\n"
      ]
    },
    {
      "cell_type": "code",
      "metadata": {
        "id": "AYpkhGycF3P8"
      },
      "source": [
        "from sklearn.preprocessing import StandardScaler\n",
        "\n",
        "####################################\n",
        "\n",
        "scaler = StandardScaler()\n",
        "scaler2 = StandardScaler()\n",
        "#train data to fit scaler, and applied to both traiing and testing data\n",
        "scaler.fit(X_train)\n",
        "X_train_StanSca = scaler.transform(X_train)\n",
        "X_test_StanSca = scaler.transform(X_test)\n",
        "\n",
        "scaler2.fit(y_train.reshape(-1,1))\n",
        "y_train_StanSca = scaler2.transform(y_train.reshape(-1,1))\n",
        "#y_test = scaler2.transform(y_test.reshape(-1,1))\n",
        "\n"
      ],
      "execution_count": 3,
      "outputs": []
    },
    {
      "cell_type": "code",
      "metadata": {
        "colab": {
          "base_uri": "https://localhost:8080/"
        },
        "id": "rDhZvGmOHwyH",
        "outputId": "23806d65-270f-48b3-d7d1-a782656b8bc9"
      },
      "source": [
        "X_test_StanSca"
      ],
      "execution_count": 4,
      "outputs": [
        {
          "output_type": "execute_result",
          "data": {
            "text/plain": [
              "array([[ 0.43243296,  0.15651555,  1.06846094, ..., -1.05300813,\n",
              "        -0.7935117 , -1.2600375 ],\n",
              "       [-0.50415058, -0.69456903,  0.59757037, ...,  1.8199936 ,\n",
              "        -0.20862657, -0.81842436],\n",
              "       [-0.61598145, -0.78657817, -1.28599191, ..., -0.59000372,\n",
              "         1.01492624,  0.50641507],\n",
              "       ...,\n",
              "       [-0.37834085, -0.07350731, -0.57965605, ..., -0.21801727,\n",
              "        -0.41703392,  0.65361945],\n",
              "       [-0.99341063, -0.83258274, -0.46193341, ..., -0.85118569,\n",
              "        -0.43047955, -0.08240245],\n",
              "       [-1.69235357, -1.43064218, -0.57965605, ..., -0.84327109,\n",
              "        -0.20190375, -0.81842436]])"
            ]
          },
          "metadata": {},
          "execution_count": 4
        }
      ]
    },
    {
      "cell_type": "code",
      "metadata": {
        "id": "AlQSpgg9F3P9"
      },
      "source": [
        "from sklearn.svm import SVR\n",
        "\n",
        "svr = SVR(kernel='linear')\n",
        "svr.fit(X_train_StanSca, y_train_StanSca.T[0])\n",
        "y_pred = svr.predict(X_test_StanSca)"
      ],
      "execution_count": 5,
      "outputs": []
    },
    {
      "cell_type": "code",
      "metadata": {
        "colab": {
          "base_uri": "https://localhost:8080/"
        },
        "id": "BwIhvwBZIr_s",
        "outputId": "9528239b-55ee-478b-c64a-1c8112a27bb5"
      },
      "source": [
        "y_pred = scaler2.inverse_transform(y_pred.reshape(1, -1))\n",
        "y_pred"
      ],
      "execution_count": 6,
      "outputs": [
        {
          "output_type": "execute_result",
          "data": {
            "text/plain": [
              "array([[ 672.75167134,  421.15806062,  168.27020397,  494.16348531,\n",
              "         362.54991737,  468.13306513,  536.26539211,  469.71506466,\n",
              "          89.61737258, 1175.70783356,  670.86450094,  201.8039721 ,\n",
              "         468.89483119,  378.80543495,  719.80523624,  362.9552068 ,\n",
              "         234.46570636,  236.66424369,  438.58997791,  280.92468408,\n",
              "         702.81318487,  353.67991678,  341.93429335,  526.35691399,\n",
              "        1093.9933091 ,  523.52852223,  794.44648537,  401.8717858 ,\n",
              "         763.53063996,  582.0337316 ,  285.60092131,  204.16076649,\n",
              "         847.78732246,  875.29730119,  -17.53392556, 1163.29120731,\n",
              "        1162.79868914, 1311.29132067,  532.50202535,  208.65828241,\n",
              "         935.680284  ,  464.9503953 ,  275.15863084, 1094.20668759,\n",
              "         516.20148285, 1439.60746771,  376.7965951 ,  604.43759352,\n",
              "        1727.75198912,  126.27756314,  737.03491493,  696.0377886 ,\n",
              "        1129.51419625,  855.69194698,  738.87699487,  290.22578668,\n",
              "        1167.54106742,  530.50571892,  141.47547086,  575.68233201,\n",
              "         301.91250515,  525.62486884,  478.39911968,  631.96320742,\n",
              "         738.77647431,   83.67886205,  786.44297303,  132.51008202,\n",
              "         363.74238691, 1173.40696001,  883.41532861, 1076.88866393,\n",
              "        1139.7523686 ,  319.36730169,  245.66829792,  903.2052413 ,\n",
              "         769.42780701,  882.54712454,  542.4773123 ]])"
            ]
          },
          "metadata": {},
          "execution_count": 6
        }
      ]
    },
    {
      "cell_type": "code",
      "metadata": {
        "colab": {
          "base_uri": "https://localhost:8080/"
        },
        "id": "KjQJpr-UETQ4",
        "outputId": "8d39e651-ddea-4515-d7e6-14d717936a64"
      },
      "source": [
        "y_pred.reshape(-1, 1)"
      ],
      "execution_count": 7,
      "outputs": [
        {
          "output_type": "execute_result",
          "data": {
            "text/plain": [
              "array([[ 672.75167134],\n",
              "       [ 421.15806062],\n",
              "       [ 168.27020397],\n",
              "       [ 494.16348531],\n",
              "       [ 362.54991737],\n",
              "       [ 468.13306513],\n",
              "       [ 536.26539211],\n",
              "       [ 469.71506466],\n",
              "       [  89.61737258],\n",
              "       [1175.70783356],\n",
              "       [ 670.86450094],\n",
              "       [ 201.8039721 ],\n",
              "       [ 468.89483119],\n",
              "       [ 378.80543495],\n",
              "       [ 719.80523624],\n",
              "       [ 362.9552068 ],\n",
              "       [ 234.46570636],\n",
              "       [ 236.66424369],\n",
              "       [ 438.58997791],\n",
              "       [ 280.92468408],\n",
              "       [ 702.81318487],\n",
              "       [ 353.67991678],\n",
              "       [ 341.93429335],\n",
              "       [ 526.35691399],\n",
              "       [1093.9933091 ],\n",
              "       [ 523.52852223],\n",
              "       [ 794.44648537],\n",
              "       [ 401.8717858 ],\n",
              "       [ 763.53063996],\n",
              "       [ 582.0337316 ],\n",
              "       [ 285.60092131],\n",
              "       [ 204.16076649],\n",
              "       [ 847.78732246],\n",
              "       [ 875.29730119],\n",
              "       [ -17.53392556],\n",
              "       [1163.29120731],\n",
              "       [1162.79868914],\n",
              "       [1311.29132067],\n",
              "       [ 532.50202535],\n",
              "       [ 208.65828241],\n",
              "       [ 935.680284  ],\n",
              "       [ 464.9503953 ],\n",
              "       [ 275.15863084],\n",
              "       [1094.20668759],\n",
              "       [ 516.20148285],\n",
              "       [1439.60746771],\n",
              "       [ 376.7965951 ],\n",
              "       [ 604.43759352],\n",
              "       [1727.75198912],\n",
              "       [ 126.27756314],\n",
              "       [ 737.03491493],\n",
              "       [ 696.0377886 ],\n",
              "       [1129.51419625],\n",
              "       [ 855.69194698],\n",
              "       [ 738.87699487],\n",
              "       [ 290.22578668],\n",
              "       [1167.54106742],\n",
              "       [ 530.50571892],\n",
              "       [ 141.47547086],\n",
              "       [ 575.68233201],\n",
              "       [ 301.91250515],\n",
              "       [ 525.62486884],\n",
              "       [ 478.39911968],\n",
              "       [ 631.96320742],\n",
              "       [ 738.77647431],\n",
              "       [  83.67886205],\n",
              "       [ 786.44297303],\n",
              "       [ 132.51008202],\n",
              "       [ 363.74238691],\n",
              "       [1173.40696001],\n",
              "       [ 883.41532861],\n",
              "       [1076.88866393],\n",
              "       [1139.7523686 ],\n",
              "       [ 319.36730169],\n",
              "       [ 245.66829792],\n",
              "       [ 903.2052413 ],\n",
              "       [ 769.42780701],\n",
              "       [ 882.54712454],\n",
              "       [ 542.4773123 ]])"
            ]
          },
          "metadata": {},
          "execution_count": 7
        }
      ]
    },
    {
      "cell_type": "code",
      "metadata": {
        "colab": {
          "base_uri": "https://localhost:8080/",
          "height": 295
        },
        "id": "T307MwOVLBGc",
        "outputId": "c7aa3a5a-fb19-42d6-fbcc-ffca2078fb59"
      },
      "source": [
        "import matplotlib.pyplot as plt\n",
        "x = list(range(len(y_pred.reshape(-1, 1))))\n",
        "plt.plot(x, y_pred.reshape(-1, 1))\n",
        "plt.plot(x, y_test)\n",
        "\n",
        "plt.xlabel(\"Major League Baseball 86/87 players\")\n",
        "plt.ylabel(\"1987 annual salary (Thousands of USD)\")\n",
        "plt.legend(['Predicted', 'True'])\n",
        "plt.title(\"Variation between predicted and true values of salaries of baseball players\")\n",
        "plt.show()"
      ],
      "execution_count": 8,
      "outputs": [
        {
          "output_type": "display_data",
          "data": {
            "image/png": "[encoded data removed]",
            "text/plain": [
              "<Figure size 432x288 with 1 Axes>"
            ]
          },
          "metadata": {
            "needs_background": "light"
          }
        }
      ]
    },
    {
      "cell_type": "markdown",
      "metadata": {
        "id": "1kn6qS_Qv4mK"
      },
      "source": [
        "#### RMSE"
      ]
    },
    {
      "cell_type": "code",
      "metadata": {
        "id": "j9umI0Eav-SI"
      },
      "source": [
        "y_pred = y_pred.reshape(-1, 1)"
      ],
      "execution_count": 9,
      "outputs": []
    },
    {
      "cell_type": "code",
      "metadata": {
        "colab": {
          "base_uri": "https://localhost:8080/"
        },
        "id": "l-Jt0uh0v4D2",
        "outputId": "79308e2f-c535-4e66-b3d3-c635c23eb34b"
      },
      "source": [
        "from sklearn.metrics import mean_squared_error\n",
        "mean_squared_error(y_test, y_pred)"
      ],
      "execution_count": 10,
      "outputs": [
        {
          "output_type": "execute_result",
          "data": {
            "text/plain": [
              "191092.39004586692"
            ]
          },
          "metadata": {},
          "execution_count": 10
        }
      ]
    },
    {
      "cell_type": "markdown",
      "metadata": {
        "id": "pcZE7gE8F3P9"
      },
      "source": [
        "### Part 2: Feature Variance\n",
        "\n",
        "Feature variance is a rather simple way of predicting if a given feature will have influence on the outcome of a trained model. The principle is that, if a feature has low variance, it cannot have much influence on the model prediction. As an extreme, if we have a variance of 0 in a feature across all samples, i.e. we have the same value for this feature in all samples, then this feature cannot be used to distinguish samples and is useless as a predictor.\n",
        "\n",
        "However, the converse is not true. A high variance in a feature does not necessarily mean that it is a good predictor. You could imagine a feature that just contains noise with high amplitude. It might have high variance, but is meaningless. Or you can have a feature that has high variance but no influence on the outcome. For example, would hair length in cm have any influence on a baseball players salary? That said, variance can be a useful measure of the strength of a predictor.\n",
        "\n",
        "The variance of a set of features is given by:\n",
        "\n",
        "$$\n",
        "S_{i}^{2} = \\frac{\\sum_{j=1}^n\\left(\\textbf{X}_{i,j} - \\overline{\\textbf{X}}_i \\right)^2}{n - 1}\n",
        "$$\n",
        "\n",
        "where $\\textbf{X}_{i,j}$ is the $j$'th sample of the $i$'th feature, $\\overline{\\textbf{X}}_i$ is the mean of all the samples of the $i$'th feature, and $n$ is the total number of samples.\n",
        "\n",
        "Variance thresholding doesn't examine the relationship between the feature $\\textbf{X}$ and the output $\\textbf{y}$. This has the disadvantage that you can't test if the feature actually has an influence on the output. However, even though in this case we use it in a supervised learning context, it does mean that we can use variance thresholding for unsupervised learning.\n",
        "\n",
        "#### Notes:\n",
        "1. In Part 1, we used the StandardScaler to scale the features. In general, this is good practice, and in the next Task where we look at PCAs, really is even required. The `StandardScaler` will make it so every feature has a variance of 1 (unless the features started out with a variance of 0 to begin with) and a mean of 0. Therefore, features scaled with `StandardScaler` are useless for thresholding on variance, as there is no practical way to distinguish them.\n",
        "2. However, we should not do `VarianceThreshold`ing on just the raw data. Have a look at the values in the training dataset. Some columns will have typically small value, such a `Years`, `HmRuns` and `Errors`. It is the nature of that data, and even though they may have a large influence on the salary of a player (see discussion at the end of this document), they will have a lower variance compared to some of the other columns.\n",
        "3. So we must scale, but not using the `StandardScaler`. Here it is more appropriate to use the [`MinMaxScaler`](https://scikit-learn.org/stable/modules/generated/sklearn.preprocessing.MinMaxScaler.html), which scales all the data to the range 0 to 1 by default (though you can set any range).\n",
        "4. Note that `MinMaxScaler` can also be applied to machine learning algorithms. Just in this case, we want to use the `StandardScaler`. There is, in fact, a [whole suite of other scalers provided by scikit-learn](https://scikit-learn.org/stable/auto_examples/preprocessing/plot_all_scaling.html). Each has it's own benefits. In fact, some would say we should use `MinMaxScaler` as the default scaler, and only use `StandardScaler` if we know the distribution of the data is normal.\n",
        "\n",
        "#### Task:\n",
        "1. Fit an instance of the `MinMaxScaler` with the original `X_train` data. You will get a set of data in the range 0 to 1.\n",
        "2. It is not very intuitive what threshold of variance we should use. So it's better to plot the variances of each feature, and then decide if some of the variances are small enough to discard\n",
        "3. Use `np.var` function to calculate the variances of the features (`axis-0`). Plot the variances, and pick a value that might remove 3 or 4 of the features.\n",
        "4. Fit the output of the `MinMaxScaler` using an object of [`sklearn.feature_selection`'s `VarianceThreshold` class](https://scikit-learn.org/stable/modules/generated/sklearn.feature_selection.VarianceThreshold.html) using this threshold\n",
        "5. `transform` the data that was scaled with the `StandardScaler`. This is an important step. Notice that we use the output of the `MinMaxScaler` to select the features, but the data we want to use is selected from the `StandardScaler`.\n",
        "6. Repeat the steps of Part 1: Train an SVR with the selected features and print the `mean_square_error`.\n",
        "7. How does the `mean_square_error` compare to the the SVR with no features removed (from Part 1)?"
      ]
    },
    {
      "cell_type": "code",
      "metadata": {
        "id": "oT2l2leyF3P-"
      },
      "source": [
        "from sklearn.feature_selection import VarianceThreshold\n",
        "from sklearn.preprocessing import MinMaxScaler\n",
        "import numpy as np\n",
        "\n",
        "####################################\n",
        "X_train = df_train.iloc[:, 1:17].values\n",
        "y_train = df_train.iloc[:, 17].values\n",
        "X_test = df_test.iloc[:, 1:17].values\n",
        "y_test = df_test.iloc[:, 17].values"
      ],
      "execution_count": 11,
      "outputs": []
    },
    {
      "cell_type": "markdown",
      "metadata": {
        "id": "taJ7Pywcsg1A"
      },
      "source": [
        ""
      ]
    },
    {
      "cell_type": "code",
      "metadata": {
        "id": "JQzHUqcPSGfO"
      },
      "source": [
        "scaler = MinMaxScaler()\n",
        "#scaler2 = MinMaxScaler()\n",
        "scaler.fit(X_train)\n",
        "X_train_MinMax = scaler.transform(X_train)\n",
        "#X_test = scaler.transform(X_test)\n",
        "#scaler2.fit(y_train.reshape(-1,1))\n",
        "#y_train = scaler2.transform(y_train.reshape(-1,1))"
      ],
      "execution_count": 12,
      "outputs": []
    },
    {
      "cell_type": "code",
      "metadata": {
        "colab": {
          "base_uri": "https://localhost:8080/"
        },
        "id": "cMR3snThT694",
        "outputId": "b38f555d-8a4f-4dd2-86b0-637bce58ae30"
      },
      "source": [
        "len(X_train[0])\n",
        "#184 players\n",
        "#16 features"
      ],
      "execution_count": 13,
      "outputs": [
        {
          "output_type": "execute_result",
          "data": {
            "text/plain": [
              "16"
            ]
          },
          "metadata": {},
          "execution_count": 13
        }
      ]
    },
    {
      "cell_type": "markdown",
      "metadata": {
        "id": "lmTslEH3ps98"
      },
      "source": [
        "# Tasks 2 and 3"
      ]
    },
    {
      "cell_type": "code",
      "metadata": {
        "id": "GejAqOZ5oXev"
      },
      "source": [
        "import matplotlib.pyplot as plt\n"
      ],
      "execution_count": 14,
      "outputs": []
    },
    {
      "cell_type": "markdown",
      "metadata": {
        "id": "vyd3N32Vp1wb"
      },
      "source": [
        "# Task 4\n",
        "\n",
        "Fit the output of the MinMaxScaler using an object of sklearn.feature_selection's VarianceThreshold class using this threshold"
      ]
    },
    {
      "cell_type": "code",
      "metadata": {
        "colab": {
          "base_uri": "https://localhost:8080/",
          "height": 295
        },
        "id": "YS36qKPJYQOJ",
        "outputId": "b073c4b7-9d1c-41e4-f9e8-c14d6a8d2c51"
      },
      "source": [
        "x= list(range(len(X_train_MinMax[0])))\n",
        "variances = np.var(X_train_MinMax, axis=0)\n",
        "plt.plot(x, variances)\n",
        "\n",
        "plt.xlabel(\"Features\")\n",
        "plt.ylabel(\"Variance\")\n",
        "plt.title(\"Plot showing variance across features\")\n",
        "\n",
        "plt.show()"
      ],
      "execution_count": 15,
      "outputs": [
        {
          "output_type": "display_data",
          "data": {
            "image/png": "[encoded data removed]",
            "text/plain": [
              "<Figure size 432x288 with 1 Axes>"
            ]
          },
          "metadata": {
            "needs_background": "light"
          }
        }
      ]
    },
    {
      "cell_type": "code",
      "metadata": {
        "colab": {
          "base_uri": "https://localhost:8080/"
        },
        "id": "nPWotmX5ZsHI",
        "outputId": "dea5413d-293e-4b34-838b-045ffcb22c31"
      },
      "source": [
        "from sklearn.feature_selection import VarianceThreshold\n",
        "\n",
        "selector = VarianceThreshold(threshold=0.0355)\n",
        "X_train_thres = selector.fit_transform(X_train_MinMax)\n",
        "X_train_thres"
      ],
      "execution_count": 16,
      "outputs": [
        {
          "output_type": "execute_result",
          "data": {
            "text/plain": [
              "array([[0.80332829, 0.65296804, 0.725     , ..., 0.92272727, 0.21355236,\n",
              "        0.3125    ],\n",
              "       [0.66868381, 0.49315068, 0.45      , ..., 0.08409091, 0.46406571,\n",
              "        0.34375   ],\n",
              "       [0.        , 0.        , 0.025     , ..., 0.52424242, 0.14373717,\n",
              "        0.25      ],\n",
              "       ...,\n",
              "       [0.30408472, 0.2283105 , 0.25      , ..., 0.03787879, 0.27926078,\n",
              "        0.625     ],\n",
              "       [0.51134644, 0.42009132, 0.175     , ..., 0.12651515, 0.00410678,\n",
              "        0.125     ],\n",
              "       [0.74583964, 0.57990868, 0.65      , ..., 0.09015152, 0.44353183,\n",
              "        0.375     ]])"
            ]
          },
          "metadata": {},
          "execution_count": 16
        }
      ]
    },
    {
      "cell_type": "code",
      "metadata": {
        "colab": {
          "base_uri": "https://localhost:8080/",
          "height": 295
        },
        "id": "Zw48WABtpKN9",
        "outputId": "e9617609-3dc9-4a63-bfdb-ddf4ad72cab5"
      },
      "source": [
        "x= list(range(len(X_train_thres[0])))\n",
        "variances = np.var(X_train_thres, axis=0)\n",
        "plt.plot(x, variances)\n",
        "\n",
        "plt.xlabel(\"Features\")\n",
        "plt.ylabel(\"Variance\")\n",
        "plt.title(\"Variance across features after Variance Threshold is applied\")\n",
        "plt.show()"
      ],
      "execution_count": 17,
      "outputs": [
        {
          "output_type": "display_data",
          "data": {
            "image/png": "[encoded data removed]",
            "text/plain": [
              "<Figure size 432x288 with 1 Axes>"
            ]
          },
          "metadata": {
            "needs_background": "light"
          }
        }
      ]
    },
    {
      "cell_type": "code",
      "metadata": {
        "colab": {
          "base_uri": "https://localhost:8080/"
        },
        "id": "luFoHRdb7-yo",
        "outputId": "56a8ce91-f02c-409d-c2e1-1858d79fc8c7"
      },
      "source": [
        "variances"
      ],
      "execution_count": 18,
      "outputs": [
        {
          "output_type": "execute_result",
          "data": {
            "text/plain": [
              "array([0.04685044, 0.03940667, 0.04509828, 0.03750432, 0.04286919,\n",
              "       0.04054987, 0.05257365, 0.04336473, 0.04663321, 0.03568655,\n",
              "       0.03664828, 0.09329093, 0.04506699])"
            ]
          },
          "metadata": {},
          "execution_count": 18
        }
      ]
    },
    {
      "cell_type": "code",
      "metadata": {
        "colab": {
          "base_uri": "https://localhost:8080/"
        },
        "id": "-pGcH_j-8Lyw",
        "outputId": "282ee180-cea8-48c7-d049-cf8cf788c300"
      },
      "source": [
        "np.var(X_train_MinMax, axis=0) #9, 11, 12 are the ones being dropped"
      ],
      "execution_count": 19,
      "outputs": [
        {
          "output_type": "execute_result",
          "data": {
            "text/plain": [
              "array([0.04685044, 0.03940667, 0.04509828, 0.03750432, 0.04286919,\n",
              "       0.04054987, 0.05257365, 0.04336473, 0.04663321, 0.01901254,\n",
              "       0.03568655, 0.03045842, 0.02645251, 0.03664828, 0.09329093,\n",
              "       0.04506699])"
            ]
          },
          "metadata": {},
          "execution_count": 19
        }
      ]
    },
    {
      "cell_type": "code",
      "metadata": {
        "id": "7I4A8tji7ajX"
      },
      "source": [
        "X_train_StanSca =  np.delete(X_train_StanSca, obj=np.s_[9:12] ,axis=1) #slicing 9 to 12, 12 not included."
      ],
      "execution_count": 20,
      "outputs": []
    },
    {
      "cell_type": "code",
      "metadata": {
        "id": "Wy4Gnmkz9l3U"
      },
      "source": [
        "X_test_StanSca =  np.delete(X_test_StanSca, obj=np.s_[9:12] ,axis=1)"
      ],
      "execution_count": 21,
      "outputs": []
    },
    {
      "cell_type": "code",
      "metadata": {
        "colab": {
          "base_uri": "https://localhost:8080/"
        },
        "id": "0gHRkUew7wfH",
        "outputId": "ed59744d-05cb-4225-b506-55ab96a3c85f"
      },
      "source": [
        "len(X_train_StanSca[0]) #lenght becomes 13"
      ],
      "execution_count": 22,
      "outputs": [
        {
          "output_type": "execute_result",
          "data": {
            "text/plain": [
              "13"
            ]
          },
          "metadata": {},
          "execution_count": 22
        }
      ]
    },
    {
      "cell_type": "markdown",
      "metadata": {
        "id": "NlqEa1JTqAm-"
      },
      "source": [
        "# Task 5\n",
        "\n",
        "transform the data that was scaled with the StandardScaler. This is an important step. Notice that we use the output of the MinMaxScaler to select the features, but the data we want to use is selected from the StandardScaler."
      ]
    },
    {
      "cell_type": "code",
      "metadata": {
        "id": "MgoDgymTqD3z"
      },
      "source": [
        "svr.fit(X_train_StanSca, y_train_StanSca.T[0])\n",
        "y_pred = svr.predict(X_test_StanSca)"
      ],
      "execution_count": 23,
      "outputs": []
    },
    {
      "cell_type": "code",
      "metadata": {
        "colab": {
          "base_uri": "https://localhost:8080/"
        },
        "id": "lWCenSbc985T",
        "outputId": "e5b9493e-099d-45bc-90a6-486a9d4e4dc9"
      },
      "source": [
        "y_test"
      ],
      "execution_count": 24,
      "outputs": [
        {
          "output_type": "execute_result",
          "data": {
            "text/plain": [
              "array([ 740.   ,  385.   ,  130.   ,  700.   ,  431.5  ,  210.   ,\n",
              "        940.   ,  750.   ,  175.   ,  775.   ,  400.   ,  125.   ,\n",
              "        612.5  ,  145.   ,  215.   ,  191.   ,  160.   ,  155.   ,\n",
              "        450.   ,   80.   ,  787.5  ,   91.5  ,  115.   ,  350.   ,\n",
              "       1975.   ,  425.   ,  850.   ,  250.   ,  657.   ,  235.   ,\n",
              "        425.   ,  100.   ,  320.   ,  517.143, 2127.333,  535.   ,\n",
              "        933.333, 1800.   ,  775.   ,  135.   ,  773.333,  240.   ,\n",
              "        300.   , 1925.571, 1220.   ,  776.667,  165.   ,  480.   ,\n",
              "        750.   ,  110.   , 1050.   , 1150.   , 1500.   , 1183.333,\n",
              "        740.   ,  175.   , 2460.   ,  250.   ,   75.   ,  750.   ,\n",
              "        100.   ,  416.667,  300.   , 1175.   ,  765.   ,   90.   ,\n",
              "        740.   ,   90.   ,  350.   , 1861.46 ,  420.   ,  950.   ,\n",
              "       1041.667,  708.333,  245.   ,  200.   ,  430.   ,  450.   ,\n",
              "        275.   ])"
            ]
          },
          "metadata": {},
          "execution_count": 24
        }
      ]
    },
    {
      "cell_type": "code",
      "metadata": {
        "colab": {
          "base_uri": "https://localhost:8080/"
        },
        "id": "6-K52zHIB7XF",
        "outputId": "c522292b-2f83-4a9c-f468-f9c63f4cc331"
      },
      "source": [
        "y_pred = scaler2.inverse_transform(y_pred.reshape(1, -1))\n",
        "y_pred"
      ],
      "execution_count": 25,
      "outputs": [
        {
          "output_type": "execute_result",
          "data": {
            "text/plain": [
              "array([[ 698.12249234,  394.95653583,  141.46573466,  458.20291508,\n",
              "         371.6136967 ,  458.24147329,  510.1398773 ,  520.93795196,\n",
              "          66.34534057, 1245.45782681,  655.60694756,  202.53784644,\n",
              "         458.87391765,  372.38925223,  702.77441533,  334.04093539,\n",
              "         254.55430364,  230.17237546,  445.32262325,  269.53475323,\n",
              "         704.00201965,  338.74636654,  328.99959964,  537.75213133,\n",
              "        1110.49352965,  494.20299085,  825.11173689,  420.50082064,\n",
              "         765.92656639,  578.30378097,  251.19645913,  185.73729946,\n",
              "         978.52229968,  871.34223438,  -28.56643636, 1135.48570371,\n",
              "        1056.11584741, 1400.55196225,  578.78647348,  183.61403903,\n",
              "        1065.31188703,  443.19061755,  260.17165249, 1093.3440166 ,\n",
              "         499.21446788, 1503.65636529,  373.22241434,  611.73769971,\n",
              "        1696.94011125,  117.66165066,  783.87255958,  704.32979724,\n",
              "        1149.08884074,  850.21241856,  767.95252459,  293.19882661,\n",
              "        1149.05290643,  489.6832912 ,  134.08208234,  581.74261817,\n",
              "         303.08761296,  505.78086517,  430.95486512,  629.73094885,\n",
              "         700.60554777,   84.86519139,  717.63857594,  128.85974543,\n",
              "         355.93650755, 1183.56027952,  882.31816245, 1045.69749955,\n",
              "        1172.41443794,  274.23564968,  219.71218519,  848.27912872,\n",
              "         713.68134519,  751.86641677,  641.14135266]])"
            ]
          },
          "metadata": {},
          "execution_count": 25
        }
      ]
    },
    {
      "cell_type": "code",
      "metadata": {
        "colab": {
          "base_uri": "https://localhost:8080/",
          "height": 295
        },
        "id": "SbhEblA5-CER",
        "outputId": "3c8b6ade-a829-4b21-f57e-3bc7c265a845"
      },
      "source": [
        "x = list(range(len(y_pred.reshape(-1, 1))))\n",
        "plt.plot(x, y_pred.reshape(-1, 1))\n",
        "plt.plot(x, y_test)\n",
        "\n",
        "plt.xlabel(\"Major League Baseball 86/87 players\")\n",
        "plt.ylabel(\"1987 annual salary (Thousands of USD)\")\n",
        "plt.legend(['Predicted', 'True'])\n",
        "plt.title(\"Variation between predicted and true values of salaries of baseball players\")\n",
        "plt.show()"
      ],
      "execution_count": 26,
      "outputs": [
        {
          "output_type": "display_data",
          "data": {
            "image/png": "[encoded data removed]",
            "text/plain": [
              "<Figure size 432x288 with 1 Axes>"
            ]
          },
          "metadata": {
            "needs_background": "light"
          }
        }
      ]
    },
    {
      "cell_type": "code",
      "metadata": {
        "colab": {
          "base_uri": "https://localhost:8080/"
        },
        "id": "VfKY7EX-CEOL",
        "outputId": "b23857c5-3343-4f1d-89f2-36e9b1a6df53"
      },
      "source": [
        "mean_squared_error(y_test, y_pred.reshape(-1, 1))"
      ],
      "execution_count": 27,
      "outputs": [
        {
          "output_type": "execute_result",
          "data": {
            "text/plain": [
              "190756.74413004512"
            ]
          },
          "metadata": {},
          "execution_count": 27
        }
      ]
    },
    {
      "cell_type": "markdown",
      "metadata": {
        "id": "tYPIOz1koco_"
      },
      "source": [
        "###How does the mse compare?\n",
        "\n",
        "Mean Square error decreases slightly, but a lot of computation time is gained from reducing the number of features with which we compute."
      ]
    },
    {
      "cell_type": "markdown",
      "metadata": {
        "id": "276cDNUNF3P-"
      },
      "source": [
        "### Part 3: Univariate Feature Selection - `f_regression`\n",
        "\n",
        "Univariate feature selection works by performing statistical tests on each of the features (i.e. on each column in our dataset). There are a [few options provided by `scikit-learn`](https://scikit-learn.org/stable/modules/feature_selection.html#univariate-feature-selection). We will use the [`SelectKBest` functionality](https://scikit-learn.org/stable/modules/generated/sklearn.feature_selection.SelectKBest.html), which allows us to pick \"the top\" `K` features per the metric we select. To pick the top features, we will use the [`f_regression` function](https://scikit-learn.org/stable/modules/generated/sklearn.feature_selection.f_regression.html), as we are doing a regression. The `f_regression` calculates the correlation between the predictor $\\textbf{X}^{(i)}$ and the target $\\textbf{y}$, i.e.:\n",
        "\n",
        "\\begin{equation}\n",
        "\\sum_j\\frac{\\left(\\textbf{X}^{(i)}_j - \\overline{\\textbf{X}}^{(i)}\\right)\\left(\\textbf{y}_j - \\overline{\\textbf{y}}\\right)}{\\sigma_{\\textbf{X}^{(i)}} \\sigma_{\\textbf{y}}}\n",
        "\\end{equation}\n",
        "\n",
        "This is then converted to an F-score and a p-value. These are statistical terms that you may be familar with from a statistics course, but are not part of this module. An intuitive, but not rigourous, way of thinking of this is: this score measures how much influence a feature $\\textbf{X}^{(i)}$ has on the outcome $\\textbf{y}$.\n",
        "\n",
        "The `SelectKBest` functionality coupled with `f_regression`, will use this score to pick the `K` top features.\n",
        "\n",
        "#### Task:\n",
        "1. Loop over the total count of features (i.e. for variable `k` from 1 to 16)\n",
        "2. Use the [`SelectKBest` class](https://scikit-learn.org/stable/modules/generated/sklearn.feature_selection.SelectKBest.html) with [`f_regression`](https://scikit-learn.org/stable/modules/generated/sklearn.feature_selection.f_regression.html) to pick the top `k` features from our dataset\n",
        "3. Train a new SVM regression with features transformed with the `SelectKBest` object you just created (note: both train and test data have to be transformed\n",
        "4. Use the `mean_squared_error` function to get the RMSE at each iteration\n",
        "5. Repeat steps 2 to 4 for each value of `k`.\n",
        "6. Then plot the RMSE versus number of features in a single plot\n",
        "7. Given this data, discuss the number of features you might use in a final solution? (Use markdown - no wrong answer here)\n",
        "8. How doe the \"best\" RMSE value compare with the SVM before removing any features? "
      ]
    },
    {
      "cell_type": "code",
      "metadata": {
        "id": "wJe9u99JF3P_"
      },
      "source": [
        "from sklearn.feature_selection import SelectKBest\n",
        "from sklearn.feature_selection import f_regression\n",
        "from sklearn.svm import SVR\n",
        "from sklearn.metrics import mean_squared_error\n",
        "\n",
        "####################################\n",
        "  \n",
        "rootmean = []\n",
        "mse_min = 600\n",
        "for k in range(13):\n",
        "  selector=SelectKBest(f_regression,k=k+1)\n",
        "  X_train_new=selector.fit_transform(X_train_StanSca,y_train_StanSca.T[0])\n",
        "  X_test_new = selector.transform(X_test_StanSca)\n",
        "  svm= SVR(kernel='linear')\n",
        "  svm.fit(X_train_new,y_train_StanSca.T[0])\n",
        "  y_pred = scaler2.inverse_transform(svm.predict(X_test_new).reshape(-1,1)).T[0]\n",
        "  rootmean.append(mean_squared_error(y_test, y_pred,squared=False))\n",
        "  mse = mean_squared_error(y_test, y_pred,squared=False)\n",
        "  if mse < mse_min:\n",
        "    mse_min = mse\n",
        "    k_msq_min = k+1"
      ],
      "execution_count": 28,
      "outputs": []
    },
    {
      "cell_type": "code",
      "metadata": {
        "colab": {
          "base_uri": "https://localhost:8080/"
        },
        "id": "r_Sn0DwXnUDN",
        "outputId": "db744153-23c2-4bf6-dade-38687f835b6b"
      },
      "source": [
        "k_msq_min"
      ],
      "execution_count": 29,
      "outputs": [
        {
          "output_type": "execute_result",
          "data": {
            "text/plain": [
              "13"
            ]
          },
          "metadata": {},
          "execution_count": 29
        }
      ]
    },
    {
      "cell_type": "code",
      "metadata": {
        "colab": {
          "base_uri": "https://localhost:8080/",
          "height": 295
        },
        "id": "zzvaQ_R2njen",
        "outputId": "4547811e-c423-4562-811d-b28fba374db9"
      },
      "source": [
        "x = list(range(1, len(rootmean)+1))\n",
        "plt.plot(x, rootmean)\n",
        "plt.xlabel(\"Number of features considered\")\n",
        "plt.ylabel(\"Mean Square Error\")\n",
        "plt.title(\"Variation of MSQE with the number of features considered\")\n",
        "plt.show()"
      ],
      "execution_count": 30,
      "outputs": [
        {
          "output_type": "display_data",
          "data": {
            "image/png": "[encoded data removed]",
            "text/plain": [
              "<Figure size 432x288 with 1 Axes>"
            ]
          },
          "metadata": {
            "needs_background": "light"
          }
        }
      ]
    },
    {
      "cell_type": "code",
      "metadata": {
        "id": "8Xp4VLR5ovXV"
      },
      "source": [
        "# probably 11 would be the best number to use since its an elbow point. \n",
        "# after this no significant reduction is appreciated."
      ],
      "execution_count": 31,
      "outputs": []
    },
    {
      "cell_type": "markdown",
      "metadata": {
        "id": "Nw4fRgbJF3P_"
      },
      "source": [
        "### An aside: Correlation and causation\n",
        "\n",
        "It is worth taking a moment to consider the famous correlation vs causation problem in the context of the task we have just completed.\n",
        "\n",
        "Have a look at the plot below."
      ]
    },
    {
      "cell_type": "code",
      "metadata": {
        "id": "ndcWfkqeF3QA",
        "colab": {
          "base_uri": "https://localhost:8080/",
          "height": 279
        },
        "outputId": "b9d54765-0b90-480a-8eb0-90bdc1ddab9e"
      },
      "source": [
        "# given\n",
        "import pandas as pd\n",
        "df = pd.read_csv('Hitters_original.csv', header=0)\n",
        "plt.scatter(df.iloc[:, 7], df.iloc[:, 19]);\n",
        "plt.ylabel('Salary')\n",
        "plt.xlabel('#Years')\n",
        "plt.show()"
      ],
      "execution_count": 32,
      "outputs": [
        {
          "output_type": "display_data",
          "data": {
            "image/png": "[encoded data removed]",
            "text/plain": [
              "<Figure size 432x288 with 1 Axes>"
            ]
          },
          "metadata": {
            "needs_background": "light"
          }
        }
      ]
    },
    {
      "cell_type": "markdown",
      "metadata": {
        "id": "Wy0uhDRnF3QB"
      },
      "source": [
        "There certainly seem to be some sort of correlation between the number of years playing and the salary that a player receives. It seems to increase (of course with outliers, as there are other influences), at least until 12 or 13 years in the game. Beyond that, the data is too sparse to really make a call, and maybe some players that are \"past it\" don't get a very high wage.\n",
        "\n",
        "The fact that in our tasks above we chose `Years` as a feature does not mean, however, that the causal direction is from `Years` to `Salary`. That is, it does not mean that the number of years played actually causes a higher salary.There are, in fact, four options:\n",
        "1. Number of years played *does* cause a higher salary. A hypothesis could be that the longer you play the game, the better you are at the game, and thus you get a higher salary\n",
        "2. A higher salary causes a player to play for more years. A hypothesis could be that a player gets used to a nice, high salary, and then sticks around for longer on the high salary. Players on low salary are more likely to quit the game early.\n",
        "3. An external influence causes both. A hypothesis could be that, good players enjoy fame. If you are famous, maybe you stick around for longer. And because you are famous, you make more money for your team in merchandise sales, so they pay you more money to make sure you stay with them, and not move to a competing team.\n",
        "4. There is no causal relationship at all. The hypothesis is that all we are seeing is a statistical anomaly, and perhaps with more data we would realise that there is no relationship.\n",
        "\n",
        "The point is, no machine learning model can infer causation. All supervised machine learning does is find correlations between a dataset of features and a corresponding set of ground truths. Whether a particular feature causes the output, or vice-versa, cannot be stated.\n",
        "\n",
        "Feel free to discuss this type of topic in the forums."
      ]
    }
  ]
}