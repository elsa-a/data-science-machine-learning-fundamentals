{
  "nbformat": 4,
  "nbformat_minor": 0,
  "metadata": {
    "kernelspec": {
      "display_name": "Python 3",
      "language": "python",
      "name": "python3"
    },
    "language_info": {
      "codemirror_mode": {
        "name": "ipython",
        "version": 3
      },
      "file_extension": ".py",
      "mimetype": "text/x-python",
      "name": "python",
      "nbconvert_exporter": "python",
      "pygments_lexer": "ipython3",
      "version": "3.7.9"
    },
    "colab": {
      "name": "Etivity3_Perceptron_21272808.ipynb",
      "provenance": [],
      "collapsed_sections": []
    }
  },
  "cells": [
    {
      "cell_type": "markdown",
      "metadata": {
        "id": "NlOUER0qChA5"
      },
      "source": [
        "### Student details"
      ]
    },
    {
      "cell_type": "markdown",
      "metadata": {
        "id": "uEN2qyjgChA6"
      },
      "source": [
        "Student name: Elsa Anza Martín"
      ]
    },
    {
      "cell_type": "markdown",
      "metadata": {
        "id": "HOZNW1sjChA7"
      },
      "source": [
        "Student ID: 21272808"
      ]
    },
    {
      "cell_type": "markdown",
      "metadata": {
        "id": "DvWUCFIYChA7"
      },
      "source": [
        "# Task 1: Perceptrons\n",
        "\n",
        "* Weight/height Data obtained from https://github.com/johnmyleswhite/ML_for_Hackers"
      ]
    },
    {
      "cell_type": "code",
      "metadata": {
        "id": "12GP0cwlChA7"
      },
      "source": [
        "# import dependencies\n",
        "import numpy as np"
      ],
      "execution_count": 1,
      "outputs": []
    },
    {
      "cell_type": "markdown",
      "metadata": {
        "id": "Py5jdbsuChA8"
      },
      "source": [
        "### Perceptron class\n",
        "From: https://sebastianraschka.com/Articles/2015_singlelayer_neurons.html\n",
        "\n",
        "**Note:** The predict function returns either 1 or -1 as labels for the data. Therefore, the training data must match these labels."
      ]
    },
    {
      "cell_type": "code",
      "metadata": {
        "id": "JCxYzaLCChA8"
      },
      "source": [
        "class Perceptron(object):\n",
        "\n",
        "    def __init__(self, eta=0.01, epochs=50):\n",
        "        self.eta = eta\n",
        "        self.epochs = epochs\n",
        "\n",
        "    def train(self, X, y):\n",
        "\n",
        "        self.w_ = np.zeros(1 + X.shape[1])\n",
        "        self.errors_ = []\n",
        "\n",
        "        for _ in range(self.epochs):\n",
        "            errors = 0\n",
        "            for xi, target in zip(X, y):\n",
        "                update = self.eta * (target - self.predict(xi))\n",
        "                self.w_[1:] +=  update * xi\n",
        "                self.w_[0] +=  update\n",
        "                errors += int(update != 0.0)\n",
        "            self.errors_.append(errors)\n",
        "        return self\n",
        "\n",
        "    def net_input(self, X):\n",
        "        return np.dot(X, self.w_[1:]) + self.w_[0]\n",
        "\n",
        "    def predict(self, X):\n",
        "        return np.where(self.net_input(X) >= 0.0, 1, -1)"
      ],
      "execution_count": 2,
      "outputs": []
    },
    {
      "cell_type": "markdown",
      "metadata": {
        "id": "b8kNQcSDChA9"
      },
      "source": [
        "### Read the data \n",
        "(provided - should be completed in previous E-tivity)"
      ]
    },
    {
      "cell_type": "code",
      "metadata": {
        "id": "9dykaN-zChA-"
      },
      "source": [
        "import pandas\n",
        "\n",
        "# Read the data from the .csv, using the first row as the headers of the data\n",
        "data = pandas.read_csv('01_heights_weights_genders.csv',header=0)\n",
        "\n",
        "X = data.iloc[:,1:3].values # X is the features in our dataset\n",
        "y = data.iloc[:,0].values\n",
        "# y is the Labels in our dataset, converted to integers\n",
        "# Note the conversion to 1 and -1, to match the perceptron class\n",
        "y = np.where(y == \"Female\", 1, -1)"
      ],
      "execution_count": 3,
      "outputs": []
    },
    {
      "cell_type": "code",
      "metadata": {
        "colab": {
          "base_uri": "https://localhost:8080/",
          "height": 265
        },
        "id": "H6PS6o2PChA-",
        "outputId": "622c6c5e-8a31-46fd-f4d8-9f36931c727e"
      },
      "source": [
        "import matplotlib.pyplot as plt\n",
        "plt.scatter(X[:,0], X[:,1],c=y);"
      ],
      "execution_count": 4,
      "outputs": [
        {
          "output_type": "display_data",
          "data": {
            "image/png": "[encoded data removed]",
            "text/plain": [
              "<Figure size 432x288 with 1 Axes>"
            ]
          },
          "metadata": {
            "needs_background": "light"
          }
        }
      ]
    },
    {
      "cell_type": "markdown",
      "metadata": {
        "id": "kzccx7hVChA_"
      },
      "source": [
        "### Train/Test Split \n",
        "(provided - should be completed in previous E-tivity)"
      ]
    },
    {
      "cell_type": "code",
      "metadata": {
        "id": "71eCeNJwChA_"
      },
      "source": [
        "# divide the dataset in train test using scikit learn\n",
        "# now the model will train in training dataset and then we will use test dataset to predict its accuracy\n",
        "\n",
        "from sklearn.model_selection import train_test_split\n",
        "\n",
        "# set random_state to a fixed number, so while the outcome is random, it is repeatible (same result each time)\n",
        "X_train, X_test, y_train, y_test = train_test_split(X, y, test_size=0.33, random_state=42) "
      ],
      "execution_count": 5,
      "outputs": []
    },
    {
      "cell_type": "markdown",
      "metadata": {
        "id": "UZSQVrUqChBA"
      },
      "source": [
        "### Train the algorithm (Task)"
      ]
    },
    {
      "cell_type": "code",
      "metadata": {
        "id": "11Ke6HZxChBA"
      },
      "source": [
        "################################\n",
        "# Your code here\n",
        "from sklearn.naive_bayes import GaussianNB\n",
        "\n",
        "gender_model = GaussianNB().fit(X_train, y_train)\n",
        "y_pred= gender_model.predict(X_test)"
      ],
      "execution_count": 6,
      "outputs": []
    },
    {
      "cell_type": "code",
      "metadata": {
        "id": "W5VyiyQ4J8bt"
      },
      "source": [
        "p_model=Perceptron()"
      ],
      "execution_count": 7,
      "outputs": []
    },
    {
      "cell_type": "code",
      "metadata": {
        "colab": {
          "base_uri": "https://localhost:8080/"
        },
        "id": "vJU_RqNzKNrB",
        "outputId": "19ed0c0c-dcba-4041-d961-6de205b1a3f4"
      },
      "source": [
        "p_model.train(X_train, y_train)"
      ],
      "execution_count": 8,
      "outputs": [
        {
          "output_type": "execute_result",
          "data": {
            "text/plain": [
              "<__main__.Perceptron at 0x7effc70a0a50>"
            ]
          },
          "metadata": {},
          "execution_count": 8
        }
      ]
    },
    {
      "cell_type": "code",
      "metadata": {
        "colab": {
          "base_uri": "https://localhost:8080/"
        },
        "id": "WIpgQOiXKnaQ",
        "outputId": "96fb39a8-1bad-445a-8efb-e09fd5f5f9da"
      },
      "source": [
        "y_pred=p_model.predict(X_test)\n",
        "y_pred"
      ],
      "execution_count": 9,
      "outputs": [
        {
          "output_type": "execute_result",
          "data": {
            "text/plain": [
              "array([ 1, -1,  1, ...,  1,  1,  1])"
            ]
          },
          "metadata": {},
          "execution_count": 9
        }
      ]
    },
    {
      "cell_type": "code",
      "metadata": {
        "colab": {
          "base_uri": "https://localhost:8080/"
        },
        "id": "72z1AgJ8Edgz",
        "outputId": "07e63d67-f52c-474a-a841-37c4ec8f4d39"
      },
      "source": [
        "print(X_test) #test data\n",
        "print()\n",
        "print(y_pred) #predicted values for the test group\n",
        "print(y_test) #"
      ],
      "execution_count": 10,
      "outputs": [
        {
          "output_type": "stream",
          "name": "stdout",
          "text": [
            "[[ 68.68723219 173.11581259]\n",
            " [ 68.82933377 195.1620421 ]\n",
            " [ 66.39812838 170.21745116]\n",
            " ...\n",
            " [ 63.95730896 127.44497002]\n",
            " [ 61.43011255 131.18192954]\n",
            " [ 62.45074489 138.80165645]]\n",
            "\n",
            "[ 1 -1  1 ...  1  1  1]\n",
            "[ 1 -1 -1 ...  1  1  1]\n"
          ]
        }
      ]
    },
    {
      "cell_type": "code",
      "metadata": {
        "colab": {
          "base_uri": "https://localhost:8080/"
        },
        "id": "xkQjD07ZEtAs",
        "outputId": "d7ec2702-d868-4e71-f426-a0cded0378e3"
      },
      "source": [
        "y_test"
      ],
      "execution_count": 11,
      "outputs": [
        {
          "output_type": "execute_result",
          "data": {
            "text/plain": [
              "array([ 1, -1, -1, ...,  1,  1,  1])"
            ]
          },
          "metadata": {},
          "execution_count": 11
        }
      ]
    },
    {
      "cell_type": "markdown",
      "metadata": {
        "id": "iaKh6pnOChBA"
      },
      "source": [
        "### Calculate the accuarcy score using the test data and sklearn.metrics (Task)"
      ]
    },
    {
      "cell_type": "code",
      "metadata": {
        "colab": {
          "base_uri": "https://localhost:8080/"
        },
        "id": "ZHlSU7anChBB",
        "outputId": "d0555882-9893-46a7-a7e9-1440f5cd7a7a"
      },
      "source": [
        "################################\n",
        "# Your code here\n",
        "\n",
        "from sklearn.metrics import accuracy_score\n",
        "\n",
        "accuracy = accuracy_score(y_test, y_pred)\n",
        "print(accuracy)"
      ],
      "execution_count": 12,
      "outputs": [
        {
          "output_type": "stream",
          "name": "stdout",
          "text": [
            "0.8545454545454545\n"
          ]
        }
      ]
    },
    {
      "cell_type": "markdown",
      "metadata": {
        "id": "vjX0oi0zChBB"
      },
      "source": [
        "### Visualisations (Task)\n",
        "1. Visualise the errors at each training epoch. Hint, the errors for each epoch are stored in the errors class variable\n",
        "2. Using many random inputs (e.g. 5000) plot to see if you can see the decision boundary. In this case, you will not be using the pandas dataframe, so it is probably better to use matplotlib"
      ]
    },
    {
      "cell_type": "code",
      "metadata": {
        "colab": {
          "base_uri": "https://localhost:8080/",
          "height": 282
        },
        "id": "GRAz-XTtChBB",
        "outputId": "f53ca425-cd20-40ea-ff61-e17de3482454"
      },
      "source": [
        "################################\n",
        "# Your code here\n",
        "\n",
        "x = range(len(p_model.errors_))\n",
        "plt.plot(x, p_model.errors_)"
      ],
      "execution_count": 13,
      "outputs": [
        {
          "output_type": "execute_result",
          "data": {
            "text/plain": [
              "[<matplotlib.lines.Line2D at 0x7effc7083ed0>]"
            ]
          },
          "metadata": {},
          "execution_count": 13
        },
        {
          "output_type": "display_data",
          "data": {
            "image/png": "[encoded data removed]",
            "text/plain": [
              "<Figure size 432x288 with 1 Axes>"
            ]
          },
          "metadata": {
            "needs_background": "light"
          }
        }
      ]
    },
    {
      "cell_type": "code",
      "metadata": {
        "colab": {
          "base_uri": "https://localhost:8080/"
        },
        "id": "IWpKozjJSatx",
        "outputId": "3a352e79-3dcb-401f-eeae-c4723d684563"
      },
      "source": [
        "weights = np.random.normal(loc=161, scale=32.10, size=5000) #loc = mean, scale = std, size = no samples\n",
        "weights[0:20]\n",
        "heights = np.random.normal(loc=66.36, scale=3.84, size=5000) #loc = mean, scale = std, size = no samples\n",
        "heights[0:20] #print 20 first generated values"
      ],
      "execution_count": 15,
      "outputs": [
        {
          "output_type": "execute_result",
          "data": {
            "text/plain": [
              "array([66.16593398, 64.09454594, 62.42647758, 77.95241644, 67.75736176,\n",
              "       72.038769  , 68.07353393, 64.42278321, 60.81462976, 62.26319989,\n",
              "       67.70866494, 65.09256952, 70.10222132, 65.24061066, 65.8724759 ,\n",
              "       65.20579128, 63.54099912, 66.23532351, 73.09756368, 71.12774756])"
            ]
          },
          "metadata": {},
          "execution_count": 15
        }
      ]
    },
    {
      "cell_type": "code",
      "metadata": {
        "colab": {
          "base_uri": "https://localhost:8080/",
          "height": 295
        },
        "id": "eiiZA1dYSkfy",
        "outputId": "090c8abf-6fc5-4ef8-b8bf-b3b692873c9b"
      },
      "source": [
        "x = heights\n",
        "y = weights\n",
        "plt.scatter(x, y, color = 'wheat')\n",
        "\n",
        "#x = data_male['Height']\n",
        "#y = data_male['Weight']\n",
        "#plt.scatter(x, y, color = 'powderblue')\n",
        "\n",
        "plt.xlabel(\"Height (ft)\")\n",
        "plt.ylabel(\"Weight (ibs)\")\n",
        "\n",
        "plt.title(\"Scatter plot showing randonmly generated height and weight measurements\")\n",
        "\n",
        "\n",
        "plt.show()"
      ],
      "execution_count": 16,
      "outputs": [
        {
          "output_type": "display_data",
          "data": {
            "image/png": "[encoded data removed]",
            "text/plain": [
              "<Figure size 432x288 with 1 Axes>"
            ]
          },
          "metadata": {
            "needs_background": "light"
          }
        }
      ]
    },
    {
      "cell_type": "code",
      "metadata": {
        "colab": {
          "base_uri": "https://localhost:8080/",
          "height": 419
        },
        "id": "Iu1Qc2VmSpal",
        "outputId": "b5e137fb-6d55-4a4b-e49e-4c98cb73a4c2"
      },
      "source": [
        "new_X = pandas.DataFrame(heights, columns=['Heights'])\n",
        "new_X['Weights'] = weights\n",
        "new_X"
      ],
      "execution_count": 17,
      "outputs": [
        {
          "output_type": "execute_result",
          "data": {
            "text/html": [
              "<div>\n",
              "<style scoped>\n",
              "    .dataframe tbody tr th:only-of-type {\n",
              "        vertical-align: middle;\n",
              "    }\n",
              "\n",
              "    .dataframe tbody tr th {\n",
              "        vertical-align: top;\n",
              "    }\n",
              "\n",
              "    .dataframe thead th {\n",
              "        text-align: right;\n",
              "    }\n",
              "</style>\n",
              "<table border=\"1\" class=\"dataframe\">\n",
              "  <thead>\n",
              "    <tr style=\"text-align: right;\">\n",
              "      <th></th>\n",
              "      <th>Heights</th>\n",
              "      <th>Weights</th>\n",
              "    </tr>\n",
              "  </thead>\n",
              "  <tbody>\n",
              "    <tr>\n",
              "      <th>0</th>\n",
              "      <td>66.165934</td>\n",
              "      <td>105.917621</td>\n",
              "    </tr>\n",
              "    <tr>\n",
              "      <th>1</th>\n",
              "      <td>64.094546</td>\n",
              "      <td>170.811200</td>\n",
              "    </tr>\n",
              "    <tr>\n",
              "      <th>2</th>\n",
              "      <td>62.426478</td>\n",
              "      <td>125.517119</td>\n",
              "    </tr>\n",
              "    <tr>\n",
              "      <th>3</th>\n",
              "      <td>77.952416</td>\n",
              "      <td>193.322167</td>\n",
              "    </tr>\n",
              "    <tr>\n",
              "      <th>4</th>\n",
              "      <td>67.757362</td>\n",
              "      <td>116.656858</td>\n",
              "    </tr>\n",
              "    <tr>\n",
              "      <th>...</th>\n",
              "      <td>...</td>\n",
              "      <td>...</td>\n",
              "    </tr>\n",
              "    <tr>\n",
              "      <th>4995</th>\n",
              "      <td>63.470060</td>\n",
              "      <td>130.960741</td>\n",
              "    </tr>\n",
              "    <tr>\n",
              "      <th>4996</th>\n",
              "      <td>71.519046</td>\n",
              "      <td>152.581570</td>\n",
              "    </tr>\n",
              "    <tr>\n",
              "      <th>4997</th>\n",
              "      <td>65.177416</td>\n",
              "      <td>192.312810</td>\n",
              "    </tr>\n",
              "    <tr>\n",
              "      <th>4998</th>\n",
              "      <td>66.295104</td>\n",
              "      <td>134.501316</td>\n",
              "    </tr>\n",
              "    <tr>\n",
              "      <th>4999</th>\n",
              "      <td>66.540569</td>\n",
              "      <td>160.017558</td>\n",
              "    </tr>\n",
              "  </tbody>\n",
              "</table>\n",
              "<p>5000 rows × 2 columns</p>\n",
              "</div>"
            ],
            "text/plain": [
              "        Heights     Weights\n",
              "0     66.165934  105.917621\n",
              "1     64.094546  170.811200\n",
              "2     62.426478  125.517119\n",
              "3     77.952416  193.322167\n",
              "4     67.757362  116.656858\n",
              "...         ...         ...\n",
              "4995  63.470060  130.960741\n",
              "4996  71.519046  152.581570\n",
              "4997  65.177416  192.312810\n",
              "4998  66.295104  134.501316\n",
              "4999  66.540569  160.017558\n",
              "\n",
              "[5000 rows x 2 columns]"
            ]
          },
          "metadata": {},
          "execution_count": 17
        }
      ]
    },
    {
      "cell_type": "code",
      "metadata": {
        "id": "Q1BDxGjiSx8_"
      },
      "source": [
        "new_y_pred= p_model.predict(new_X)"
      ],
      "execution_count": 18,
      "outputs": []
    },
    {
      "cell_type": "code",
      "metadata": {
        "id": "lmJOl9tjS-K2"
      },
      "source": [
        "new_X['Prediction'] = new_y_pred"
      ],
      "execution_count": 19,
      "outputs": []
    },
    {
      "cell_type": "code",
      "metadata": {
        "colab": {
          "base_uri": "https://localhost:8080/",
          "height": 419
        },
        "id": "OfUmTildTFad",
        "outputId": "41151e4d-1d74-470e-fb6d-8cc54dab728b"
      },
      "source": [
        "new_X"
      ],
      "execution_count": 20,
      "outputs": [
        {
          "output_type": "execute_result",
          "data": {
            "text/html": [
              "<div>\n",
              "<style scoped>\n",
              "    .dataframe tbody tr th:only-of-type {\n",
              "        vertical-align: middle;\n",
              "    }\n",
              "\n",
              "    .dataframe tbody tr th {\n",
              "        vertical-align: top;\n",
              "    }\n",
              "\n",
              "    .dataframe thead th {\n",
              "        text-align: right;\n",
              "    }\n",
              "</style>\n",
              "<table border=\"1\" class=\"dataframe\">\n",
              "  <thead>\n",
              "    <tr style=\"text-align: right;\">\n",
              "      <th></th>\n",
              "      <th>Heights</th>\n",
              "      <th>Weights</th>\n",
              "      <th>Prediction</th>\n",
              "    </tr>\n",
              "  </thead>\n",
              "  <tbody>\n",
              "    <tr>\n",
              "      <th>0</th>\n",
              "      <td>66.165934</td>\n",
              "      <td>105.917621</td>\n",
              "      <td>1</td>\n",
              "    </tr>\n",
              "    <tr>\n",
              "      <th>1</th>\n",
              "      <td>64.094546</td>\n",
              "      <td>170.811200</td>\n",
              "      <td>-1</td>\n",
              "    </tr>\n",
              "    <tr>\n",
              "      <th>2</th>\n",
              "      <td>62.426478</td>\n",
              "      <td>125.517119</td>\n",
              "      <td>1</td>\n",
              "    </tr>\n",
              "    <tr>\n",
              "      <th>3</th>\n",
              "      <td>77.952416</td>\n",
              "      <td>193.322167</td>\n",
              "      <td>1</td>\n",
              "    </tr>\n",
              "    <tr>\n",
              "      <th>4</th>\n",
              "      <td>67.757362</td>\n",
              "      <td>116.656858</td>\n",
              "      <td>1</td>\n",
              "    </tr>\n",
              "    <tr>\n",
              "      <th>...</th>\n",
              "      <td>...</td>\n",
              "      <td>...</td>\n",
              "      <td>...</td>\n",
              "    </tr>\n",
              "    <tr>\n",
              "      <th>4995</th>\n",
              "      <td>63.470060</td>\n",
              "      <td>130.960741</td>\n",
              "      <td>1</td>\n",
              "    </tr>\n",
              "    <tr>\n",
              "      <th>4996</th>\n",
              "      <td>71.519046</td>\n",
              "      <td>152.581570</td>\n",
              "      <td>1</td>\n",
              "    </tr>\n",
              "    <tr>\n",
              "      <th>4997</th>\n",
              "      <td>65.177416</td>\n",
              "      <td>192.312810</td>\n",
              "      <td>-1</td>\n",
              "    </tr>\n",
              "    <tr>\n",
              "      <th>4998</th>\n",
              "      <td>66.295104</td>\n",
              "      <td>134.501316</td>\n",
              "      <td>1</td>\n",
              "    </tr>\n",
              "    <tr>\n",
              "      <th>4999</th>\n",
              "      <td>66.540569</td>\n",
              "      <td>160.017558</td>\n",
              "      <td>1</td>\n",
              "    </tr>\n",
              "  </tbody>\n",
              "</table>\n",
              "<p>5000 rows × 3 columns</p>\n",
              "</div>"
            ],
            "text/plain": [
              "        Heights     Weights  Prediction\n",
              "0     66.165934  105.917621           1\n",
              "1     64.094546  170.811200          -1\n",
              "2     62.426478  125.517119           1\n",
              "3     77.952416  193.322167           1\n",
              "4     67.757362  116.656858           1\n",
              "...         ...         ...         ...\n",
              "4995  63.470060  130.960741           1\n",
              "4996  71.519046  152.581570           1\n",
              "4997  65.177416  192.312810          -1\n",
              "4998  66.295104  134.501316           1\n",
              "4999  66.540569  160.017558           1\n",
              "\n",
              "[5000 rows x 3 columns]"
            ]
          },
          "metadata": {},
          "execution_count": 20
        }
      ]
    },
    {
      "cell_type": "code",
      "metadata": {
        "colab": {
          "base_uri": "https://localhost:8080/",
          "height": 295
        },
        "id": "6TsZu6pXTSSF",
        "outputId": "9c858921-fd1c-4394-a313-4f67a7bab235"
      },
      "source": [
        "data_female = new_X.loc[new_X['Prediction'] == 1]\n",
        "data_male = new_X.loc[new_X['Prediction'] == -1]\n",
        "x = data_female['Heights']\n",
        "y = data_female['Weights']\n",
        "plt.scatter(x, y, color = 'wheat')\n",
        "\n",
        "x = data_male['Heights']\n",
        "y = data_male['Weights']\n",
        "plt.scatter(x, y, color = 'powderblue')\n",
        "\n",
        "plt.xlabel(\"Height (ft)\")\n",
        "plt.ylabel(\"Weight (ibs)\")\n",
        "\n",
        "plt.title(\"Scatter plot showing predicted gender classes for a randomly generated sample\")\n",
        "plt.legend(['Women', 'Men'])\n",
        "\n",
        "plt.show()"
      ],
      "execution_count": 21,
      "outputs": [
        {
          "output_type": "display_data",
          "data": {
            "image/png": "[encoded data removed]",
            "text/plain": [
              "<Figure size 432x288 with 1 Axes>"
            ]
          },
          "metadata": {
            "needs_background": "light"
          }
        }
      ]
    },
    {
      "cell_type": "markdown",
      "metadata": {
        "id": "7PLi4HXlChBB"
      },
      "source": [
        "### Then, discuss the following in Markdown cells:\n",
        "1.\tDescribe what is happening as the training progresses? \n",
        "\n",
        "In the visualization of errors we can see that the training data experiments a significant drop at first from 1200 to 850, and then procedes to zig-zag around 850 for the rest of the run.\n",
        "2.\tDo we arrive at the very best solution at the last epoch, or is there an epoch with a lower error? Why is that?\n",
        "\n",
        "Our best results are actually achieved within the first 10 epochs, since there is no significant improvement after this. \n",
        "3.\tWhy can’t we get zero error with this data?\n",
        "\n",
        "What I can guess from the results is that more features are needed to accuratly classify to genders, so it's not a problem of model complexity. This might converge faster than Naive Bayes, but we're still missing data and my guess is two features are not enough to classify with 100% accuracy a person's gender."
      ]
    },
    {
      "cell_type": "code",
      "metadata": {
        "id": "rkY9Zeqr4pvJ"
      },
      "source": [
        ""
      ],
      "execution_count": 21,
      "outputs": []
    }
  ]
}