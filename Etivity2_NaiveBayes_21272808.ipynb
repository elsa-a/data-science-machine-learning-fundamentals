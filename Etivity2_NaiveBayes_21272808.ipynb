{
  "nbformat": 4,
  "nbformat_minor": 0,
  "metadata": {
    "kernelspec": {
      "display_name": "Python 3",
      "language": "python",
      "name": "python3"
    },
    "language_info": {
      "codemirror_mode": {
        "name": "ipython",
        "version": 3
      },
      "file_extension": ".py",
      "mimetype": "text/x-python",
      "name": "python",
      "nbconvert_exporter": "python",
      "pygments_lexer": "ipython3",
      "version": "3.7.6"
    },
    "colab": {
      "name": "Etivity2_NaiveBayes_21272808.ipynb",
      "provenance": [],
      "collapsed_sections": []
    }
  },
  "cells": [
    {
      "cell_type": "markdown",
      "metadata": {
        "id": "GZI-NdHMka6f"
      },
      "source": [
        "### Student Details"
      ]
    },
    {
      "cell_type": "markdown",
      "metadata": {
        "id": "CWcCXylYka6h"
      },
      "source": [
        "Student Name: Elsa Anza Martín"
      ]
    },
    {
      "cell_type": "markdown",
      "metadata": {
        "id": "FgKnsGOLka6h"
      },
      "source": [
        "Student ID: 21272808"
      ]
    },
    {
      "cell_type": "markdown",
      "metadata": {
        "id": "8SNlHpoUka6i"
      },
      "source": [
        "# Task 2: Naive Bayes Classifier\n",
        "\n",
        "In this proyect we train and test a Classifier that will predict the gender of a person based on two variables: height and weight.\n",
        "\n",
        "\n",
        "Data obtained from https://github.com/johnmyleswhite/ML_for_Hackers\n"
      ]
    },
    {
      "cell_type": "code",
      "metadata": {
        "id": "SySNjoCWka6i"
      },
      "source": [
        "# import dependencies\n",
        "import numpy as np\n",
        "import pandas\n",
        "import random\n",
        "import matplotlib.pyplot as plt\n"
      ],
      "execution_count": null,
      "outputs": []
    },
    {
      "cell_type": "code",
      "metadata": {
        "id": "ay2Sd-2yka6j"
      },
      "source": [
        "# Read the data from the .csv, using the first row as the headers of the data\n",
        "data = pandas.read_csv('01_heights_weights_genders.csv',header=0)"
      ],
      "execution_count": null,
      "outputs": []
    },
    {
      "cell_type": "code",
      "metadata": {
        "colab": {
          "base_uri": "https://localhost:8080/",
          "height": 142
        },
        "id": "Jbq6R1Sxka6j",
        "outputId": "656187b7-6e47-4159-a53b-faab494a7fe1"
      },
      "source": [
        "# Show just the first few samples so we know it's read correctly\n",
        "data.head(n=3)"
      ],
      "execution_count": null,
      "outputs": [
        {
          "output_type": "execute_result",
          "data": {
            "text/html": [
              "<div>\n",
              "<style scoped>\n",
              "    .dataframe tbody tr th:only-of-type {\n",
              "        vertical-align: middle;\n",
              "    }\n",
              "\n",
              "    .dataframe tbody tr th {\n",
              "        vertical-align: top;\n",
              "    }\n",
              "\n",
              "    .dataframe thead th {\n",
              "        text-align: right;\n",
              "    }\n",
              "</style>\n",
              "<table border=\"1\" class=\"dataframe\">\n",
              "  <thead>\n",
              "    <tr style=\"text-align: right;\">\n",
              "      <th></th>\n",
              "      <th>Gender</th>\n",
              "      <th>Height</th>\n",
              "      <th>Weight</th>\n",
              "    </tr>\n",
              "  </thead>\n",
              "  <tbody>\n",
              "    <tr>\n",
              "      <th>0</th>\n",
              "      <td>Male</td>\n",
              "      <td>73.847017</td>\n",
              "      <td>241.893563</td>\n",
              "    </tr>\n",
              "    <tr>\n",
              "      <th>1</th>\n",
              "      <td>Male</td>\n",
              "      <td>68.781904</td>\n",
              "      <td>162.310473</td>\n",
              "    </tr>\n",
              "    <tr>\n",
              "      <th>2</th>\n",
              "      <td>Male</td>\n",
              "      <td>74.110105</td>\n",
              "      <td>212.740856</td>\n",
              "    </tr>\n",
              "  </tbody>\n",
              "</table>\n",
              "</div>"
            ],
            "text/plain": [
              "  Gender     Height      Weight\n",
              "0   Male  73.847017  241.893563\n",
              "1   Male  68.781904  162.310473\n",
              "2   Male  74.110105  212.740856"
            ]
          },
          "metadata": {},
          "execution_count": 107
        }
      ]
    },
    {
      "cell_type": "markdown",
      "metadata": {
        "id": "iE4_qrIhka6k"
      },
      "source": [
        "### Visualise\n",
        "\n",
        "Data is separated in two groups regarding gender and plotted is subsequently using two differnt colors."
      ]
    },
    {
      "cell_type": "code",
      "metadata": {
        "id": "l_Fq497Wka6k",
        "colab": {
          "base_uri": "https://localhost:8080/",
          "height": 295
        },
        "outputId": "2a8858d9-ee53-4325-8719-e2b29a5d5402"
      },
      "source": [
        "# Data is displayed in a scatter plot using different colors for each genders.\n",
        "\n",
        "data_female = data.loc[data['Gender'] == 'Female']\n",
        "data_male = data.loc[data['Gender'] == 'Male']\n",
        "x = data_female['Height']\n",
        "y = data_female['Weight']\n",
        "\n",
        "plt.scatter(x, y, color = 'wheat')\n",
        "\n",
        "\n",
        "x = data_male['Height']\n",
        "y = data_male['Weight']\n",
        "plt.scatter(x, y, color = 'powderblue')\n",
        "\n",
        "plt.xlabel(\"Height (ft)\")\n",
        "plt.ylabel(\"Weight (ibs)\")\n",
        "\n",
        "plt.title(\"Scatter plot showing Men and Women's height and weight measures\")\n",
        "\n",
        "plt.legend(['Women', 'Men'])\n",
        "plt.show()\n"
      ],
      "execution_count": null,
      "outputs": [
        {
          "output_type": "display_data",
          "data": {
            "image/png": "[encoded data removed]",
            "text/plain": [
              "<Figure size 432x288 with 1 Axes>"
            ]
          },
          "metadata": {
            "needs_background": "light"
          }
        }
      ]
    },
    {
      "cell_type": "markdown",
      "metadata": {
        "id": "GxhhQD39ka6k"
      },
      "source": [
        "#### Discuss: Do you think there is resonable separation?\n",
        "\n",
        "Not apparently. Two variables are most probably not enough to train with enough accuracy a classifier of this sort.\n",
        "The reason behind this is that both genders overlap in the xy plane and therefore a significant amount of samples which fall into the central region of the plot will have near-to equal probabilities of belonging to either class, making them therefore indistinguishable.\n",
        "\n",
        "A higher number of variables is probably the key to obtaining a more accurate classifier, for example adding a third measurement like body temperature or body fat percentage.\n",
        "This will bring us additional information necessary for a more accurate classification."
      ]
    },
    {
      "cell_type": "markdown",
      "metadata": {
        "id": "xxS6h_9Ska6l"
      },
      "source": [
        "### Features and labels\n",
        "The aim is to predict the gender of the person based on characteristics such as height, weight. So we call what we want to predict the \"label\" and the characteristics the \"features\". This will be covered more later in the module, but is a good enough understanding for now."
      ]
    },
    {
      "cell_type": "code",
      "metadata": {
        "id": "ZJskMgYRka6l"
      },
      "source": [
        "X = data.iloc[:,1:3] # X is the features in our dataset\n",
        "y = data.iloc[:,0]   # y is the Labels in our dataset"
      ],
      "execution_count": null,
      "outputs": []
    },
    {
      "cell_type": "markdown",
      "metadata": {
        "id": "cU2ar0dxka6l"
      },
      "source": [
        "### Train/Test Split\n",
        "\n",
        "We have a bunch of data from the csv file. What we need to do is decide what of that data we will use to train the algorithm, and what of that data will be used to see how good the result is. More on this later in the module, but you can't use the same data you train with to test the outcome, as it will naturally fit that very well, but you won't catch things like overfitting. \n",
        "\n",
        "There is some science to this, but for now we will randomly select one third for testing, and the rest for training."
      ]
    },
    {
      "cell_type": "code",
      "metadata": {
        "id": "Sa-K0N9dka6m",
        "colab": {
          "base_uri": "https://localhost:8080/",
          "height": 341
        },
        "outputId": "adc65b05-f1d2-4299-d6ce-1e35488c1f24"
      },
      "source": [
        "from sklearn.model_selection import train_test_split\n",
        "\n",
        "(X_train, X_test, y_train, y_test) = train_test_split(X, y, test_size= 0.33)"
      ],
      "execution_count": null,
      "outputs": [
        {
          "output_type": "error",
          "ename": "ValueError",
          "evalue": "ignored",
          "traceback": [
            "\u001b[0;31m---------------------------------------------------------------------------\u001b[0m",
            "\u001b[0;31mValueError\u001b[0m                                Traceback (most recent call last)",
            "\u001b[0;32m<ipython-input-129-d95db582efba>\u001b[0m in \u001b[0;36m<module>\u001b[0;34m()\u001b[0m\n\u001b[1;32m      1\u001b[0m \u001b[0;32mfrom\u001b[0m \u001b[0msklearn\u001b[0m\u001b[0;34m.\u001b[0m\u001b[0mmodel_selection\u001b[0m \u001b[0;32mimport\u001b[0m \u001b[0mtrain_test_split\u001b[0m\u001b[0;34m\u001b[0m\u001b[0;34m\u001b[0m\u001b[0m\n\u001b[1;32m      2\u001b[0m \u001b[0;34m\u001b[0m\u001b[0m\n\u001b[0;32m----> 3\u001b[0;31m \u001b[0;34m(\u001b[0m\u001b[0mX_train\u001b[0m\u001b[0;34m,\u001b[0m \u001b[0mX_test\u001b[0m\u001b[0;34m,\u001b[0m \u001b[0my_train\u001b[0m\u001b[0;34m,\u001b[0m \u001b[0my_test\u001b[0m\u001b[0;34m)\u001b[0m \u001b[0;34m=\u001b[0m \u001b[0mtrain_test_split\u001b[0m\u001b[0;34m(\u001b[0m\u001b[0mX\u001b[0m\u001b[0;34m,\u001b[0m \u001b[0my\u001b[0m\u001b[0;34m,\u001b[0m \u001b[0mtest_size\u001b[0m\u001b[0;34m=\u001b[0m \u001b[0;36m0.33\u001b[0m\u001b[0;34m)\u001b[0m\u001b[0;34m\u001b[0m\u001b[0;34m\u001b[0m\u001b[0m\n\u001b[0m",
            "\u001b[0;32m/usr/local/lib/python3.7/dist-packages/sklearn/model_selection/_split.py\u001b[0m in \u001b[0;36mtrain_test_split\u001b[0;34m(*arrays, **options)\u001b[0m\n\u001b[1;32m   2116\u001b[0m         \u001b[0;32mraise\u001b[0m \u001b[0mTypeError\u001b[0m\u001b[0;34m(\u001b[0m\u001b[0;34m\"Invalid parameters passed: %s\"\u001b[0m \u001b[0;34m%\u001b[0m \u001b[0mstr\u001b[0m\u001b[0;34m(\u001b[0m\u001b[0moptions\u001b[0m\u001b[0;34m)\u001b[0m\u001b[0;34m)\u001b[0m\u001b[0;34m\u001b[0m\u001b[0;34m\u001b[0m\u001b[0m\n\u001b[1;32m   2117\u001b[0m \u001b[0;34m\u001b[0m\u001b[0m\n\u001b[0;32m-> 2118\u001b[0;31m     \u001b[0marrays\u001b[0m \u001b[0;34m=\u001b[0m \u001b[0mindexable\u001b[0m\u001b[0;34m(\u001b[0m\u001b[0;34m*\u001b[0m\u001b[0marrays\u001b[0m\u001b[0;34m)\u001b[0m\u001b[0;34m\u001b[0m\u001b[0;34m\u001b[0m\u001b[0m\n\u001b[0m\u001b[1;32m   2119\u001b[0m \u001b[0;34m\u001b[0m\u001b[0m\n\u001b[1;32m   2120\u001b[0m     \u001b[0mn_samples\u001b[0m \u001b[0;34m=\u001b[0m \u001b[0m_num_samples\u001b[0m\u001b[0;34m(\u001b[0m\u001b[0marrays\u001b[0m\u001b[0;34m[\u001b[0m\u001b[0;36m0\u001b[0m\u001b[0;34m]\u001b[0m\u001b[0;34m)\u001b[0m\u001b[0;34m\u001b[0m\u001b[0;34m\u001b[0m\u001b[0m\n",
            "\u001b[0;32m/usr/local/lib/python3.7/dist-packages/sklearn/utils/validation.py\u001b[0m in \u001b[0;36mindexable\u001b[0;34m(*iterables)\u001b[0m\n\u001b[1;32m    246\u001b[0m     \"\"\"\n\u001b[1;32m    247\u001b[0m     \u001b[0mresult\u001b[0m \u001b[0;34m=\u001b[0m \u001b[0;34m[\u001b[0m\u001b[0m_make_indexable\u001b[0m\u001b[0;34m(\u001b[0m\u001b[0mX\u001b[0m\u001b[0;34m)\u001b[0m \u001b[0;32mfor\u001b[0m \u001b[0mX\u001b[0m \u001b[0;32min\u001b[0m \u001b[0miterables\u001b[0m\u001b[0;34m]\u001b[0m\u001b[0;34m\u001b[0m\u001b[0;34m\u001b[0m\u001b[0m\n\u001b[0;32m--> 248\u001b[0;31m     \u001b[0mcheck_consistent_length\u001b[0m\u001b[0;34m(\u001b[0m\u001b[0;34m*\u001b[0m\u001b[0mresult\u001b[0m\u001b[0;34m)\u001b[0m\u001b[0;34m\u001b[0m\u001b[0;34m\u001b[0m\u001b[0m\n\u001b[0m\u001b[1;32m    249\u001b[0m     \u001b[0;32mreturn\u001b[0m \u001b[0mresult\u001b[0m\u001b[0;34m\u001b[0m\u001b[0;34m\u001b[0m\u001b[0m\n\u001b[1;32m    250\u001b[0m \u001b[0;34m\u001b[0m\u001b[0m\n",
            "\u001b[0;32m/usr/local/lib/python3.7/dist-packages/sklearn/utils/validation.py\u001b[0m in \u001b[0;36mcheck_consistent_length\u001b[0;34m(*arrays)\u001b[0m\n\u001b[1;32m    210\u001b[0m     \u001b[0;32mif\u001b[0m \u001b[0mlen\u001b[0m\u001b[0;34m(\u001b[0m\u001b[0muniques\u001b[0m\u001b[0;34m)\u001b[0m \u001b[0;34m>\u001b[0m \u001b[0;36m1\u001b[0m\u001b[0;34m:\u001b[0m\u001b[0;34m\u001b[0m\u001b[0;34m\u001b[0m\u001b[0m\n\u001b[1;32m    211\u001b[0m         raise ValueError(\"Found input variables with inconsistent numbers of\"\n\u001b[0;32m--> 212\u001b[0;31m                          \" samples: %r\" % [int(l) for l in lengths])\n\u001b[0m\u001b[1;32m    213\u001b[0m \u001b[0;34m\u001b[0m\u001b[0m\n\u001b[1;32m    214\u001b[0m \u001b[0;34m\u001b[0m\u001b[0m\n",
            "\u001b[0;31mValueError\u001b[0m: Found input variables with inconsistent numbers of samples: [10000, 1016]"
          ]
        }
      ]
    },
    {
      "cell_type": "markdown",
      "metadata": {
        "id": "qoedPm-4ka6m"
      },
      "source": [
        "### Train the algorithm\n",
        "We won't go into the details here, but we will use a Gaussian Naive Bayesian. Use GaussianNB from sklearn to train the model. The Gaussian is needed as we're dealing with sparse, continuous data"
      ]
    },
    {
      "cell_type": "code",
      "metadata": {
        "id": "9Q5oUSoxka6m"
      },
      "source": [
        "from sklearn.naive_bayes import GaussianNB\n",
        "\n",
        "gender_model = GaussianNB().fit(X_train, y_train)\n",
        "y_pred= gender_model.predict(X_test)"
      ],
      "execution_count": null,
      "outputs": []
    },
    {
      "cell_type": "markdown",
      "metadata": {
        "id": "5TiVPxN2ka6n"
      },
      "source": [
        "### Test the algorithm\n",
        "Test using the test data and print predictions and actual values"
      ]
    },
    {
      "cell_type": "code",
      "metadata": {
        "colab": {
          "base_uri": "https://localhost:8080/"
        },
        "id": "4JPV9jayka6n",
        "outputId": "dc4bd981-d96e-4d1b-b9bf-7466a2df4242"
      },
      "source": [
        "print(X_test) #test data\n",
        "print()\n",
        "print(y_pred) #predicted values for the test group\n",
        "print(y_test.values) #actual values(labels) for the same test group"
      ],
      "execution_count": null,
      "outputs": [
        {
          "output_type": "stream",
          "name": "stdout",
          "text": [
            "         Height      Weight\n",
            "4487  68.485214  184.657140\n",
            "3874  69.053924  171.775983\n",
            "9724  63.033676  127.640417\n",
            "8758  63.390357  128.617638\n",
            "5174  66.252604  150.096455\n",
            "...         ...         ...\n",
            "3624  68.928717  167.415549\n",
            "2423  67.290776  154.718344\n",
            "3024  68.689515  180.932596\n",
            "171   72.213963  205.389761\n",
            "5531  63.435594  120.184683\n",
            "\n",
            "[3300 rows x 2 columns]\n",
            "\n",
            "['Male' 'Male' 'Female' ... 'Male' 'Male' 'Female']\n",
            "['Male' 'Male' 'Female' ... 'Male' 'Male' 'Female']\n"
          ]
        }
      ]
    },
    {
      "cell_type": "markdown",
      "metadata": {
        "id": "j99kCt1-BoDi"
      },
      "source": [
        "### Accuracy"
      ]
    },
    {
      "cell_type": "code",
      "metadata": {
        "colab": {
          "base_uri": "https://localhost:8080/"
        },
        "id": "hafmahFika6o",
        "outputId": "d9630f7d-9b7b-4289-d5bf-c2efd54762aa"
      },
      "source": [
        "from sklearn.metrics import accuracy_score\n",
        "\n",
        "accuracy = accuracy_score(y_test, y_pred)\n",
        "print(accuracy)"
      ],
      "execution_count": null,
      "outputs": [
        {
          "output_type": "stream",
          "name": "stdout",
          "text": [
            "0.8784848484848485\n"
          ]
        }
      ]
    },
    {
      "cell_type": "markdown",
      "metadata": {
        "id": "fjEtCrY6ka6o"
      },
      "source": [
        "### Plot the random samples\n",
        "\n",
        "For the generation of random samples I've taken the mean and std values from the previous distribution and inputted them into the the numpy random module which generates normal distributions. One is created for weights and another one for heights\n"
      ]
    },
    {
      "cell_type": "code",
      "metadata": {
        "colab": {
          "base_uri": "https://localhost:8080/"
        },
        "id": "xFN28RGRygxZ",
        "outputId": "2fe6c580-9575-4620-fe4e-7f928271a5c5"
      },
      "source": [
        "print(np.mean(data[\"Height\"]))\n",
        "print(np.mean(data[\"Weight\"]))\n",
        "print(np.std(data[\"Height\"]))\n",
        "print(np.std(data[\"Weight\"]))"
      ],
      "execution_count": null,
      "outputs": [
        {
          "output_type": "stream",
          "name": "stdout",
          "text": [
            "66.36755975482106\n",
            "161.44035683283076\n",
            "3.8473357395575434\n",
            "32.106833544431666\n"
          ]
        }
      ]
    },
    {
      "cell_type": "code",
      "metadata": {
        "id": "DIfMdqhSyuwe",
        "colab": {
          "base_uri": "https://localhost:8080/"
        },
        "outputId": "05a44a1e-9c83-4ef4-e890-e790d89bb740"
      },
      "source": [
        "heights = np.random.normal(loc=66.36, scale=3.84, size=2000) #loc = mean, scale = std, size = no samples\n",
        "heights[0:20] #print 20 first generated values"
      ],
      "execution_count": null,
      "outputs": [
        {
          "output_type": "execute_result",
          "data": {
            "text/plain": [
              "array([71.54250091, 54.80372484, 61.6503852 , 66.34993362, 63.12291306,\n",
              "       65.84521011, 70.38349113, 67.39532646, 64.07949118, 59.88900952,\n",
              "       64.76769893, 64.432518  , 71.28996723, 63.86794659, 71.40362598,\n",
              "       68.43274156, 63.9373789 , 65.84790008, 60.58197509, 73.07103805])"
            ]
          },
          "metadata": {},
          "execution_count": 118
        }
      ]
    },
    {
      "cell_type": "code",
      "metadata": {
        "colab": {
          "base_uri": "https://localhost:8080/"
        },
        "id": "v8MWFkymIxu2",
        "outputId": "c7201bb0-42d5-496b-d97a-1ee3a8dce0bf"
      },
      "source": [
        "weights = np.random.normal(loc=161, scale=32.10, size=2000) #loc = mean, scale = std, size = no samples\n",
        "weights[0:20]"
      ],
      "execution_count": null,
      "outputs": [
        {
          "output_type": "execute_result",
          "data": {
            "text/plain": [
              "array([129.48119727, 227.53446718, 205.37211497, 193.01787249,\n",
              "        89.61803028, 160.16308507, 187.24159941, 126.31603386,\n",
              "       122.58366234, 198.49460592, 145.20861644, 184.19831548,\n",
              "       139.71473889, 179.74474263, 124.26799697, 145.9650077 ,\n",
              "       138.19983451, 206.18687192, 186.75341973, 171.32475848])"
            ]
          },
          "metadata": {},
          "execution_count": 119
        }
      ]
    },
    {
      "cell_type": "code",
      "metadata": {
        "colab": {
          "base_uri": "https://localhost:8080/",
          "height": 401
        },
        "id": "pAEqvNvMsxNK",
        "outputId": "eb191063-d6b7-485f-b44c-f28152ae7704"
      },
      "source": [
        "plt.hist(heights, bins=20, align='mid', rwidth=1)"
      ],
      "execution_count": null,
      "outputs": [
        {
          "output_type": "execute_result",
          "data": {
            "text/plain": [
              "(array([  1.,   2.,   5.,   9.,  17.,  43.,  96., 165., 248., 276., 275.,\n",
              "        270., 209., 167., 107.,  44.,  41.,  15.,   9.,   1.]),\n",
              " array([52.11884778, 53.47798099, 54.8371142 , 56.19624741, 57.55538062,\n",
              "        58.91451383, 60.27364704, 61.63278025, 62.99191346, 64.35104667,\n",
              "        65.71017988, 67.06931309, 68.4284463 , 69.78757951, 71.14671272,\n",
              "        72.50584593, 73.86497914, 75.22411235, 76.58324556, 77.94237877,\n",
              "        79.30151198]),\n",
              " <a list of 20 Patch objects>)"
            ]
          },
          "metadata": {},
          "execution_count": 120
        },
        {
          "output_type": "display_data",
          "data": {
            "image/png": "[encoded data removed]",
            "text/plain": [
              "<Figure size 432x288 with 1 Axes>"
            ]
          },
          "metadata": {
            "needs_background": "light"
          }
        }
      ]
    },
    {
      "cell_type": "markdown",
      "metadata": {
        "id": "iJJh0ZGDjIB7"
      },
      "source": [
        "### Visualisation"
      ]
    },
    {
      "cell_type": "code",
      "metadata": {
        "colab": {
          "base_uri": "https://localhost:8080/",
          "height": 295
        },
        "id": "mE_gYeHjjG0H",
        "outputId": "4f3047a3-4208-4583-ede3-f92acaab5b52"
      },
      "source": [
        "x = heights\n",
        "y = weights\n",
        "plt.scatter(x, y, color = 'wheat')\n",
        "\n",
        "#x = data_male['Height']\n",
        "#y = data_male['Weight']\n",
        "#plt.scatter(x, y, color = 'powderblue')\n",
        "\n",
        "plt.xlabel(\"Height (ft)\")\n",
        "plt.ylabel(\"Weight (ibs)\")\n",
        "\n",
        "plt.title(\"Scatter plot showing randonmly generated height and weight measurements\")\n",
        "\n",
        "\n",
        "plt.show()"
      ],
      "execution_count": null,
      "outputs": [
        {
          "output_type": "display_data",
          "data": {
            "image/png": "[encoded data removed]",
            "text/plain": [
              "<Figure size 432x288 with 1 Axes>"
            ]
          },
          "metadata": {
            "needs_background": "light"
          }
        }
      ]
    },
    {
      "cell_type": "code",
      "metadata": {
        "id": "nyC-ElENsxyn",
        "colab": {
          "base_uri": "https://localhost:8080/",
          "height": 419
        },
        "outputId": "76eb89ae-25bf-4b51-bdd3-02feb0ec5817"
      },
      "source": [
        "new_X = pandas.DataFrame(heights, columns=['Heights'])\n",
        "new_X['Weights'] = weights\n",
        "new_X"
      ],
      "execution_count": null,
      "outputs": [
        {
          "output_type": "execute_result",
          "data": {
            "text/html": [
              "<div>\n",
              "<style scoped>\n",
              "    .dataframe tbody tr th:only-of-type {\n",
              "        vertical-align: middle;\n",
              "    }\n",
              "\n",
              "    .dataframe tbody tr th {\n",
              "        vertical-align: top;\n",
              "    }\n",
              "\n",
              "    .dataframe thead th {\n",
              "        text-align: right;\n",
              "    }\n",
              "</style>\n",
              "<table border=\"1\" class=\"dataframe\">\n",
              "  <thead>\n",
              "    <tr style=\"text-align: right;\">\n",
              "      <th></th>\n",
              "      <th>Heights</th>\n",
              "      <th>Weights</th>\n",
              "    </tr>\n",
              "  </thead>\n",
              "  <tbody>\n",
              "    <tr>\n",
              "      <th>0</th>\n",
              "      <td>71.542501</td>\n",
              "      <td>129.481197</td>\n",
              "    </tr>\n",
              "    <tr>\n",
              "      <th>1</th>\n",
              "      <td>54.803725</td>\n",
              "      <td>227.534467</td>\n",
              "    </tr>\n",
              "    <tr>\n",
              "      <th>2</th>\n",
              "      <td>61.650385</td>\n",
              "      <td>205.372115</td>\n",
              "    </tr>\n",
              "    <tr>\n",
              "      <th>3</th>\n",
              "      <td>66.349934</td>\n",
              "      <td>193.017872</td>\n",
              "    </tr>\n",
              "    <tr>\n",
              "      <th>4</th>\n",
              "      <td>63.122913</td>\n",
              "      <td>89.618030</td>\n",
              "    </tr>\n",
              "    <tr>\n",
              "      <th>...</th>\n",
              "      <td>...</td>\n",
              "      <td>...</td>\n",
              "    </tr>\n",
              "    <tr>\n",
              "      <th>1995</th>\n",
              "      <td>70.532920</td>\n",
              "      <td>158.346975</td>\n",
              "    </tr>\n",
              "    <tr>\n",
              "      <th>1996</th>\n",
              "      <td>66.880869</td>\n",
              "      <td>148.104777</td>\n",
              "    </tr>\n",
              "    <tr>\n",
              "      <th>1997</th>\n",
              "      <td>64.116435</td>\n",
              "      <td>129.160445</td>\n",
              "    </tr>\n",
              "    <tr>\n",
              "      <th>1998</th>\n",
              "      <td>73.808020</td>\n",
              "      <td>218.975586</td>\n",
              "    </tr>\n",
              "    <tr>\n",
              "      <th>1999</th>\n",
              "      <td>63.181320</td>\n",
              "      <td>181.712820</td>\n",
              "    </tr>\n",
              "  </tbody>\n",
              "</table>\n",
              "<p>2000 rows × 2 columns</p>\n",
              "</div>"
            ],
            "text/plain": [
              "        Heights     Weights\n",
              "0     71.542501  129.481197\n",
              "1     54.803725  227.534467\n",
              "2     61.650385  205.372115\n",
              "3     66.349934  193.017872\n",
              "4     63.122913   89.618030\n",
              "...         ...         ...\n",
              "1995  70.532920  158.346975\n",
              "1996  66.880869  148.104777\n",
              "1997  64.116435  129.160445\n",
              "1998  73.808020  218.975586\n",
              "1999  63.181320  181.712820\n",
              "\n",
              "[2000 rows x 2 columns]"
            ]
          },
          "metadata": {},
          "execution_count": 122
        }
      ]
    },
    {
      "cell_type": "code",
      "metadata": {
        "colab": {
          "base_uri": "https://localhost:8080/",
          "height": 419
        },
        "id": "rCD-9qvtsnqu",
        "outputId": "485eab8d-b381-4e87-a390-56e79b5fcfca"
      },
      "source": [
        "new_X"
      ],
      "execution_count": null,
      "outputs": [
        {
          "output_type": "execute_result",
          "data": {
            "text/html": [
              "<div>\n",
              "<style scoped>\n",
              "    .dataframe tbody tr th:only-of-type {\n",
              "        vertical-align: middle;\n",
              "    }\n",
              "\n",
              "    .dataframe tbody tr th {\n",
              "        vertical-align: top;\n",
              "    }\n",
              "\n",
              "    .dataframe thead th {\n",
              "        text-align: right;\n",
              "    }\n",
              "</style>\n",
              "<table border=\"1\" class=\"dataframe\">\n",
              "  <thead>\n",
              "    <tr style=\"text-align: right;\">\n",
              "      <th></th>\n",
              "      <th>Heights</th>\n",
              "      <th>Weights</th>\n",
              "    </tr>\n",
              "  </thead>\n",
              "  <tbody>\n",
              "    <tr>\n",
              "      <th>0</th>\n",
              "      <td>71.542501</td>\n",
              "      <td>129.481197</td>\n",
              "    </tr>\n",
              "    <tr>\n",
              "      <th>1</th>\n",
              "      <td>54.803725</td>\n",
              "      <td>227.534467</td>\n",
              "    </tr>\n",
              "    <tr>\n",
              "      <th>2</th>\n",
              "      <td>61.650385</td>\n",
              "      <td>205.372115</td>\n",
              "    </tr>\n",
              "    <tr>\n",
              "      <th>3</th>\n",
              "      <td>66.349934</td>\n",
              "      <td>193.017872</td>\n",
              "    </tr>\n",
              "    <tr>\n",
              "      <th>4</th>\n",
              "      <td>63.122913</td>\n",
              "      <td>89.618030</td>\n",
              "    </tr>\n",
              "    <tr>\n",
              "      <th>...</th>\n",
              "      <td>...</td>\n",
              "      <td>...</td>\n",
              "    </tr>\n",
              "    <tr>\n",
              "      <th>1995</th>\n",
              "      <td>70.532920</td>\n",
              "      <td>158.346975</td>\n",
              "    </tr>\n",
              "    <tr>\n",
              "      <th>1996</th>\n",
              "      <td>66.880869</td>\n",
              "      <td>148.104777</td>\n",
              "    </tr>\n",
              "    <tr>\n",
              "      <th>1997</th>\n",
              "      <td>64.116435</td>\n",
              "      <td>129.160445</td>\n",
              "    </tr>\n",
              "    <tr>\n",
              "      <th>1998</th>\n",
              "      <td>73.808020</td>\n",
              "      <td>218.975586</td>\n",
              "    </tr>\n",
              "    <tr>\n",
              "      <th>1999</th>\n",
              "      <td>63.181320</td>\n",
              "      <td>181.712820</td>\n",
              "    </tr>\n",
              "  </tbody>\n",
              "</table>\n",
              "<p>2000 rows × 2 columns</p>\n",
              "</div>"
            ],
            "text/plain": [
              "        Heights     Weights\n",
              "0     71.542501  129.481197\n",
              "1     54.803725  227.534467\n",
              "2     61.650385  205.372115\n",
              "3     66.349934  193.017872\n",
              "4     63.122913   89.618030\n",
              "...         ...         ...\n",
              "1995  70.532920  158.346975\n",
              "1996  66.880869  148.104777\n",
              "1997  64.116435  129.160445\n",
              "1998  73.808020  218.975586\n",
              "1999  63.181320  181.712820\n",
              "\n",
              "[2000 rows x 2 columns]"
            ]
          },
          "metadata": {},
          "execution_count": 123
        }
      ]
    },
    {
      "cell_type": "code",
      "metadata": {
        "id": "hqO8ddQ1mYkV"
      },
      "source": [
        "new_y_pred= gender_model.predict(new_X)\n"
      ],
      "execution_count": null,
      "outputs": []
    },
    {
      "cell_type": "code",
      "metadata": {
        "colab": {
          "base_uri": "https://localhost:8080/"
        },
        "id": "b4wQPoXuH5xo",
        "outputId": "fba52592-358d-4fd6-d4ff-b25662fc09e5"
      },
      "source": [
        "print(new_y_pred[:200])"
      ],
      "execution_count": null,
      "outputs": [
        {
          "output_type": "stream",
          "name": "stdout",
          "text": [
            "['Female' 'Male' 'Male' 'Male' 'Female' 'Female' 'Male' 'Female' 'Female'\n",
            " 'Male' 'Female' 'Male' 'Male' 'Male' 'Female' 'Female' 'Female' 'Male'\n",
            " 'Female' 'Male' 'Female' 'Female' 'Male' 'Female' 'Male' 'Female'\n",
            " 'Female' 'Male' 'Female' 'Female' 'Female' 'Female' 'Female' 'Female'\n",
            " 'Female' 'Male' 'Male' 'Female' 'Female' 'Female' 'Male' 'Female' 'Male'\n",
            " 'Male' 'Male' 'Female' 'Female' 'Male' 'Male' 'Male' 'Female' 'Male'\n",
            " 'Female' 'Female' 'Male' 'Male' 'Male' 'Male' 'Male' 'Female' 'Female'\n",
            " 'Male' 'Male' 'Female' 'Male' 'Male' 'Female' 'Male' 'Male' 'Male' 'Male'\n",
            " 'Female' 'Female' 'Female' 'Male' 'Male' 'Male' 'Male' 'Female' 'Male'\n",
            " 'Female' 'Male' 'Female' 'Male' 'Female' 'Female' 'Male' 'Male' 'Female'\n",
            " 'Male' 'Female' 'Female' 'Female' 'Male' 'Female' 'Male' 'Male' 'Male'\n",
            " 'Male' 'Female' 'Male' 'Female' 'Male' 'Male' 'Female' 'Male' 'Male'\n",
            " 'Male' 'Male' 'Female' 'Male' 'Male' 'Female' 'Male' 'Male' 'Male' 'Male'\n",
            " 'Male' 'Male' 'Female' 'Male' 'Female' 'Female' 'Male' 'Male' 'Male'\n",
            " 'Male' 'Female' 'Male' 'Male' 'Female' 'Male' 'Female' 'Male' 'Male'\n",
            " 'Male' 'Male' 'Female' 'Female' 'Female' 'Female' 'Male' 'Male' 'Female'\n",
            " 'Male' 'Male' 'Male' 'Male' 'Female' 'Male' 'Female' 'Female' 'Male'\n",
            " 'Female' 'Male' 'Male' 'Male' 'Male' 'Male' 'Male' 'Male' 'Female' 'Male'\n",
            " 'Female' 'Male' 'Female' 'Male' 'Female' 'Female' 'Female' 'Male' 'Male'\n",
            " 'Male' 'Male' 'Female' 'Male' 'Female' 'Female' 'Male' 'Female' 'Female'\n",
            " 'Female' 'Female' 'Female' 'Female' 'Female' 'Female' 'Male' 'Male'\n",
            " 'Male' 'Female' 'Male' 'Male' 'Female' 'Male' 'Female' 'Female' 'Male'\n",
            " 'Male' 'Female']\n"
          ]
        }
      ]
    },
    {
      "cell_type": "code",
      "metadata": {
        "id": "XqljxXOzKEj8"
      },
      "source": [
        "new_X['Prediction'] = new_y_pred\n"
      ],
      "execution_count": null,
      "outputs": []
    },
    {
      "cell_type": "code",
      "metadata": {
        "colab": {
          "base_uri": "https://localhost:8080/",
          "height": 359
        },
        "id": "BbJQKGTkH_aV",
        "outputId": "d63b66bc-0f37-45d9-c7c3-3053d5306a67"
      },
      "source": [
        "new_X[10:20]"
      ],
      "execution_count": null,
      "outputs": [
        {
          "output_type": "execute_result",
          "data": {
            "text/html": [
              "<div>\n",
              "<style scoped>\n",
              "    .dataframe tbody tr th:only-of-type {\n",
              "        vertical-align: middle;\n",
              "    }\n",
              "\n",
              "    .dataframe tbody tr th {\n",
              "        vertical-align: top;\n",
              "    }\n",
              "\n",
              "    .dataframe thead th {\n",
              "        text-align: right;\n",
              "    }\n",
              "</style>\n",
              "<table border=\"1\" class=\"dataframe\">\n",
              "  <thead>\n",
              "    <tr style=\"text-align: right;\">\n",
              "      <th></th>\n",
              "      <th>Heights</th>\n",
              "      <th>Weights</th>\n",
              "      <th>Prediction</th>\n",
              "    </tr>\n",
              "  </thead>\n",
              "  <tbody>\n",
              "    <tr>\n",
              "      <th>10</th>\n",
              "      <td>64.767699</td>\n",
              "      <td>145.208616</td>\n",
              "      <td>Female</td>\n",
              "    </tr>\n",
              "    <tr>\n",
              "      <th>11</th>\n",
              "      <td>64.432518</td>\n",
              "      <td>184.198315</td>\n",
              "      <td>Male</td>\n",
              "    </tr>\n",
              "    <tr>\n",
              "      <th>12</th>\n",
              "      <td>71.289967</td>\n",
              "      <td>139.714739</td>\n",
              "      <td>Male</td>\n",
              "    </tr>\n",
              "    <tr>\n",
              "      <th>13</th>\n",
              "      <td>63.867947</td>\n",
              "      <td>179.744743</td>\n",
              "      <td>Male</td>\n",
              "    </tr>\n",
              "    <tr>\n",
              "      <th>14</th>\n",
              "      <td>71.403626</td>\n",
              "      <td>124.267997</td>\n",
              "      <td>Female</td>\n",
              "    </tr>\n",
              "    <tr>\n",
              "      <th>15</th>\n",
              "      <td>68.432742</td>\n",
              "      <td>145.965008</td>\n",
              "      <td>Female</td>\n",
              "    </tr>\n",
              "    <tr>\n",
              "      <th>16</th>\n",
              "      <td>63.937379</td>\n",
              "      <td>138.199835</td>\n",
              "      <td>Female</td>\n",
              "    </tr>\n",
              "    <tr>\n",
              "      <th>17</th>\n",
              "      <td>65.847900</td>\n",
              "      <td>206.186872</td>\n",
              "      <td>Male</td>\n",
              "    </tr>\n",
              "    <tr>\n",
              "      <th>18</th>\n",
              "      <td>60.581975</td>\n",
              "      <td>186.753420</td>\n",
              "      <td>Female</td>\n",
              "    </tr>\n",
              "    <tr>\n",
              "      <th>19</th>\n",
              "      <td>73.071038</td>\n",
              "      <td>171.324758</td>\n",
              "      <td>Male</td>\n",
              "    </tr>\n",
              "  </tbody>\n",
              "</table>\n",
              "</div>"
            ],
            "text/plain": [
              "      Heights     Weights Prediction\n",
              "10  64.767699  145.208616     Female\n",
              "11  64.432518  184.198315       Male\n",
              "12  71.289967  139.714739       Male\n",
              "13  63.867947  179.744743       Male\n",
              "14  71.403626  124.267997     Female\n",
              "15  68.432742  145.965008     Female\n",
              "16  63.937379  138.199835     Female\n",
              "17  65.847900  206.186872       Male\n",
              "18  60.581975  186.753420     Female\n",
              "19  73.071038  171.324758       Male"
            ]
          },
          "metadata": {},
          "execution_count": 127
        }
      ]
    },
    {
      "cell_type": "code",
      "metadata": {
        "colab": {
          "base_uri": "https://localhost:8080/",
          "height": 295
        },
        "id": "BSvKtv6aIS-y",
        "outputId": "1d877380-788c-4918-8f21-700522b2b11e"
      },
      "source": [
        "\n",
        "data_female = new_X.loc[new_X['Prediction'] == 'Female']\n",
        "data_male = new_X.loc[new_X['Prediction'] == 'Male']\n",
        "x = data_female['Heights']\n",
        "y = data_female['Weights']\n",
        "plt.scatter(x, y, color = 'wheat')\n",
        "\n",
        "x = data_male['Heights']\n",
        "y = data_male['Weights']\n",
        "plt.scatter(x, y, color = 'powderblue')\n",
        "\n",
        "plt.xlabel(\"Height (ft)\")\n",
        "plt.ylabel(\"Weight (ibs)\")\n",
        "\n",
        "plt.title(\"Scatter plot showing predicted gender classes for a randomly generated sample\")\n",
        "plt.legend(['Women', 'Men'])\n",
        "\n",
        "plt.show()"
      ],
      "execution_count": null,
      "outputs": [
        {
          "output_type": "display_data",
          "data": {
            "image/png": "[encoded data removed]",
            "text/plain": [
              "<Figure size 432x288 with 1 Axes>"
            ]
          },
          "metadata": {
            "needs_background": "light"
          }
        }
      ]
    },
    {
      "cell_type": "markdown",
      "metadata": {
        "id": "7eGpqJEz9Swz"
      },
      "source": [
        "Decision boundary can be observed as the diagonal line dividing Men from Women in the plot (lineal division)\n",
        "\n"
      ]
    },
    {
      "cell_type": "code",
      "metadata": {
        "id": "ZIQBsyYbnbab"
      },
      "source": [
        ""
      ],
      "execution_count": null,
      "outputs": []
    }
  ]
}